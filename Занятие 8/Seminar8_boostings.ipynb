{
  "cells": [
    {
      "cell_type": "markdown",
      "id": "cccb3519",
      "metadata": {
        "id": "cccb3519"
      },
      "source": [
        "#  Градиентный бустинг\n",
        "\n",
        "#### Catboost vs. LightGBM vs. XGBoost\n",
        "\n",
        "*  Сравнение моделей на искусственном примере\n",
        "*  CatBoost для решения задачи\n",
        "*  Интерпретация модели\n",
        "*  Блендинг и стекинг"
      ]
    },
    {
      "cell_type": "markdown",
      "id": "40ce0426",
      "metadata": {
        "id": "40ce0426"
      },
      "source": [
        "В прошлый раз мы посмотрели простую версию градиентного бустинга из scikit-learn, [придуманную в 1999 году Фридманом](https://projecteuclid.org/download/pdf_1/euclid.aos/1013203451). Прогресс не стоит на месте, и на сегодняшний день есть три популярные библиотеки с разными имплементациями градиентного бустинга, которые на практике показывают лушие результаты: \n",
        "*  **XGBoost**. Появилась в 2014 году, [статья автора](https://mran.microsoft.com/snapshot/2020-07-15/web/packages/xgboost/vignettes/xgboost.pdf) вышла в 2016. После выхода быстро набрала популярность и оставалась стандартом до конца 2016 года. Об особенностях данной библиотеки рассказывалось на лекции.\n",
        "* **CatBoost** от компании Яндекс с релизом в 2017 году. Алгоритм можно запускать с дефолтными гиперпараметрами, потому тчо он является менее чувствительным к выбору их конкретных значений. Отлично умеет работать с категориальным признаками, при этом автоматически обрабатывая полученные на вход непредобработанные фичи. \n",
        "* **LightGBM**. Релиз в один год с Catboost, библиотека от Microsoft. Отличается очень быстрым построением композиции. Например, при построении узла дерева, вместо перебора по всем значениям признака, производится перебор значений гистограммы этого признака. Таким образом, вместо $O(N)$ требуется $O$(m), где $m$ - число бинов гистограммы. В отличие от других библиотек, строит деревья в глубину, при этом на каждом шаге строит вершину, дающую наибольшее уменьшение функционала."
      ]
    },
    {
      "cell_type": "markdown",
      "id": "1e3129ca",
      "metadata": {
        "id": "1e3129ca"
      },
      "source": [
        "\n",
        "\n",
        "|Критерий|Catboost|Lightgbm|Xgboost|\n",
        "|--|--|--|--|\n",
        "|Год релиза|2014|2017|2017|\n",
        "|Построение деревьев|симметрично по уровням|в глубину|асимметрично по уровням до максимальной глубины с прунингом|\n",
        "|Параметры контроля переобучения|learning_rate, depth, l2-leaf-reg (аналога min_child_weigth нет) |learning_rate, max_depth, num_leaves, min_data_in_leaf|learning_rate (eta), min_child_weigth, max_depth|\n",
        "|Контроль скорости обучения|rsm, iterations|feature_fraction, bagging_fraction, num_iterations|n_estimator, colsample_bytree, subsample|\n",
        "|Параметры категориальных фичей|cat_features, one_hot_max_size|categorical_feature|не доступно|\n",
        "|Бинаризация признаков|сетка выбирается заранее|-|перебор всех границ, выбор сетки на каждой итерации|\n",
        "|Скор сплита|Похожесть векторов градиентов |-| Смотрим на изменение функции ошибки|\n",
        "|Bootstrap|Можно перевзвешивать и менять интенсивность |-|-|\n",
        "|Рандомизация скора сплита|+ |-|-|\n"
      ]
    },
    {
      "cell_type": "markdown",
      "id": "e3f364f9",
      "metadata": {
        "id": "e3f364f9"
      },
      "source": [
        "### Основные параметры\n",
        "\n",
        "* objective – функция ошибки для настройки композиция\n",
        "* learning_rate / eta – скорость обучения\n",
        "* n_estimators / num_iterations – число итераций градиентного бустинга\n",
        "\n",
        "### Настройка сложности деревьев\n",
        "\n",
        "* max_depth – максимальная глубина \n",
        "* max_leaves / num_leaves – максимальное число вершин в дереве\n",
        "* gamma / min_gain_to_split – порог на уменьшение функции ошибки при расщеплении в дереве\n",
        "* min_data_in_leaf – минимальное число объектов в листе\n",
        "* min_sum_hessian_in_leaf – минимальная сумма весов объектов в листе, минимальное число объектов, при котором делается расщепление \n",
        "* lambda – коэффициент регуляризации (L2)\n",
        "* subsample / bagging_fraction – какую часть объектов обучения использовать для построения одного дерева \n",
        "* colsample_bytree / feature_fraction – какую часть признаков использовать для построения одного дерева \n",
        "\n",
        "Начать настройку можно с самых главных параметров: learning_rate и n_estimators. Один из них фиксируем, оставшийся из этих двух параметров подбираем (например, подбираем скорость обучения при n_estimators=100). Следующий параметр по важности - max_depth, так как мы хотим неглубокие деревья (в Catboost и LightGBM) для снижения переобучения.\n",
        "\n"
      ]
    },
    {
      "cell_type": "markdown",
      "id": "236227fc",
      "metadata": {
        "id": "236227fc"
      },
      "source": [
        "**Техническое отступление**\n",
        "\n",
        "Данные библиотеки необходимо сначала устанавливать (можно через pip / conda или brew, если Вы работаете на MAC OS).\n",
        "Чтобы у Вас точно вопроизводился ноутбук и не было проблем из-за несовпадающих версий библиотек, рекомендуется через python создавать виртуальную среду. Подробнее см. файлики ```техническое_отступление.md``` и ```requirements.txt```. "
      ]
    },
    {
      "cell_type": "markdown",
      "id": "7937f74b",
      "metadata": {
        "id": "7937f74b"
      },
      "source": [
        "В текущем ноутбуке использовались следующие версии библиотек: "
      ]
    },
    {
      "cell_type": "code",
      "execution_count": 2,
      "id": "b3bb04ac",
      "metadata": {
        "colab": {
          "base_uri": "https://localhost:8080/"
        },
        "id": "b3bb04ac",
        "outputId": "8a0d5383-34d1-4c6c-b882-28feccb1baaf"
      },
      "outputs": [
        {
          "output_type": "stream",
          "name": "stdout",
          "text": [
            "Looking in indexes: https://pypi.org/simple, https://us-python.pkg.dev/colab-wheels/public/simple/\n",
            "Collecting catboost==1.0.3\n",
            "  Downloading catboost-1.0.3-cp38-none-manylinux1_x86_64.whl (76.3 MB)\n",
            "\u001b[K     |████████████████████████████████| 76.3 MB 1.1 MB/s \n",
            "\u001b[?25hRequirement already satisfied: numpy>=1.16.0 in /usr/local/lib/python3.8/dist-packages (from catboost==1.0.3) (1.21.6)\n",
            "Requirement already satisfied: graphviz in /usr/local/lib/python3.8/dist-packages (from catboost==1.0.3) (0.10.1)\n",
            "Requirement already satisfied: six in /usr/local/lib/python3.8/dist-packages (from catboost==1.0.3) (1.15.0)\n",
            "Requirement already satisfied: scipy in /usr/local/lib/python3.8/dist-packages (from catboost==1.0.3) (1.7.3)\n",
            "Requirement already satisfied: matplotlib in /usr/local/lib/python3.8/dist-packages (from catboost==1.0.3) (3.2.2)\n",
            "Requirement already satisfied: plotly in /usr/local/lib/python3.8/dist-packages (from catboost==1.0.3) (5.5.0)\n",
            "Requirement already satisfied: pandas>=0.24.0 in /usr/local/lib/python3.8/dist-packages (from catboost==1.0.3) (1.3.5)\n",
            "Requirement already satisfied: pytz>=2017.3 in /usr/local/lib/python3.8/dist-packages (from pandas>=0.24.0->catboost==1.0.3) (2022.6)\n",
            "Requirement already satisfied: python-dateutil>=2.7.3 in /usr/local/lib/python3.8/dist-packages (from pandas>=0.24.0->catboost==1.0.3) (2.8.2)\n",
            "Requirement already satisfied: kiwisolver>=1.0.1 in /usr/local/lib/python3.8/dist-packages (from matplotlib->catboost==1.0.3) (1.4.4)\n",
            "Requirement already satisfied: cycler>=0.10 in /usr/local/lib/python3.8/dist-packages (from matplotlib->catboost==1.0.3) (0.11.0)\n",
            "Requirement already satisfied: pyparsing!=2.0.4,!=2.1.2,!=2.1.6,>=2.0.1 in /usr/local/lib/python3.8/dist-packages (from matplotlib->catboost==1.0.3) (3.0.9)\n",
            "Requirement already satisfied: tenacity>=6.2.0 in /usr/local/lib/python3.8/dist-packages (from plotly->catboost==1.0.3) (8.1.0)\n",
            "Installing collected packages: catboost\n",
            "Successfully installed catboost-1.0.3\n",
            "Looking in indexes: https://pypi.org/simple, https://us-python.pkg.dev/colab-wheels/public/simple/\n",
            "Collecting lightgbm==3.2.1\n",
            "  Downloading lightgbm-3.2.1-py3-none-manylinux1_x86_64.whl (2.0 MB)\n",
            "\u001b[K     |████████████████████████████████| 2.0 MB 14.8 MB/s \n",
            "\u001b[?25hRequirement already satisfied: wheel in /usr/local/lib/python3.8/dist-packages (from lightgbm==3.2.1) (0.38.4)\n",
            "Requirement already satisfied: scikit-learn!=0.22.0 in /usr/local/lib/python3.8/dist-packages (from lightgbm==3.2.1) (1.0.2)\n",
            "Requirement already satisfied: numpy in /usr/local/lib/python3.8/dist-packages (from lightgbm==3.2.1) (1.21.6)\n",
            "Requirement already satisfied: scipy in /usr/local/lib/python3.8/dist-packages (from lightgbm==3.2.1) (1.7.3)\n",
            "Requirement already satisfied: joblib>=0.11 in /usr/local/lib/python3.8/dist-packages (from scikit-learn!=0.22.0->lightgbm==3.2.1) (1.2.0)\n",
            "Requirement already satisfied: threadpoolctl>=2.0.0 in /usr/local/lib/python3.8/dist-packages (from scikit-learn!=0.22.0->lightgbm==3.2.1) (3.1.0)\n",
            "Installing collected packages: lightgbm\n",
            "  Attempting uninstall: lightgbm\n",
            "    Found existing installation: lightgbm 2.2.3\n",
            "    Uninstalling lightgbm-2.2.3:\n",
            "      Successfully uninstalled lightgbm-2.2.3\n",
            "Successfully installed lightgbm-3.2.1\n",
            "Looking in indexes: https://pypi.org/simple, https://us-python.pkg.dev/colab-wheels/public/simple/\n",
            "Collecting cmake==3.22.0\n",
            "  Downloading cmake-3.22.0-py2.py3-none-manylinux_2_12_x86_64.manylinux2010_x86_64.whl (21.8 MB)\n",
            "\u001b[K     |████████████████████████████████| 21.8 MB 660 kB/s \n",
            "\u001b[?25hInstalling collected packages: cmake\n",
            "  Attempting uninstall: cmake\n",
            "    Found existing installation: cmake 3.22.6\n",
            "    Uninstalling cmake-3.22.6:\n",
            "      Successfully uninstalled cmake-3.22.6\n",
            "Successfully installed cmake-3.22.0\n",
            "Looking in indexes: https://pypi.org/simple, https://us-python.pkg.dev/colab-wheels/public/simple/\n",
            "Collecting xgboost==1.5.0\n",
            "  Downloading xgboost-1.5.0-py3-none-manylinux2014_x86_64.whl (173.5 MB)\n",
            "\u001b[K     |████████████████████████████████| 173.5 MB 61 kB/s \n",
            "\u001b[?25hRequirement already satisfied: numpy in /usr/local/lib/python3.8/dist-packages (from xgboost==1.5.0) (1.21.6)\n",
            "Requirement already satisfied: scipy in /usr/local/lib/python3.8/dist-packages (from xgboost==1.5.0) (1.7.3)\n",
            "Installing collected packages: xgboost\n",
            "  Attempting uninstall: xgboost\n",
            "    Found existing installation: xgboost 0.90\n",
            "    Uninstalling xgboost-0.90:\n",
            "      Successfully uninstalled xgboost-0.90\n",
            "Successfully installed xgboost-1.5.0\n"
          ]
        }
      ],
      "source": [
        "!pip install catboost==1.0.3\n",
        "!pip install lightgbm==3.2.1\n",
        "!pip install cmake==3.22.0 # без нее xgboost установится, но не будет импортироваться\n",
        "!pip install xgboost==1.5.0"
      ]
    },
    {
      "cell_type": "code",
      "execution_count": 3,
      "id": "3bc1bb59",
      "metadata": {
        "id": "3bc1bb59"
      },
      "outputs": [],
      "source": [
        "import warnings\n",
        "warnings.filterwarnings('ignore')\n",
        "\n",
        "import catboost\n",
        "import lightgbm\n",
        "import numpy as np\n",
        "import pandas as pd\n",
        "from sklearn.datasets import make_classification\n",
        "import matplotlib.pyplot as plt\n",
        "from matplotlib.colors import ListedColormap\n",
        "%matplotlib inline\n",
        "from sklearn.model_selection import train_test_split\n",
        "from sklearn.metrics import roc_auc_score\n",
        "import xgboost\n",
        "\n",
        "plt.rcParams[\"figure.figsize\"] = (8, 5)"
      ]
    },
    {
      "cell_type": "markdown",
      "id": "1becb5a1",
      "metadata": {
        "id": "1becb5a1"
      },
      "source": [
        "## Catboost и другие бустинги для искусственного примера\n",
        "\n",
        "В алгоритме сделаны улучшения и выбор разных опций для борьбы с переобучением, подсчету сркднего таргета на отложенной выборке, подсчету статистик по категориальным фичам, бинаризацией фичей, рандомизации скора сплита, разные типы бутсрапирования. \n",
        "\n",
        "Давайте сначала зафиксируем все гиперпараметры со значениями по умолчанию, кроме количества деревьев в композиции - `n_estimators`. "
      ]
    },
    {
      "cell_type": "code",
      "execution_count": null,
      "id": "b16301cf",
      "metadata": {
        "id": "b16301cf"
      },
      "outputs": [],
      "source": [
        "def plot_surface(X, y, clf):\n",
        "    h = 0.2\n",
        "    x_min, x_max = X[:, 0].min() - 1, X[:, 0].max() + 1\n",
        "    y_min, y_max = X[:, 1].min() - 1, X[:, 1].max() + 1\n",
        "    xx, yy = np.meshgrid(np.arange(x_min, x_max, h),\n",
        "                         np.arange(y_min, y_max, h))\n",
        "    Z = clf.predict(np.c_[xx.ravel(), yy.ravel()])\n",
        "\n",
        "    Z = Z.reshape(xx.shape)\n",
        "    cmap_light = ListedColormap(['#FFAAAA', '#AAFFAA', '#AAAAFF'])\n",
        "    plt.pcolormesh(xx, yy, Z, cmap=cmap_light)\n",
        "\n",
        "    # Добавим на график сами наблюдения\n",
        "    cmap_bold = ListedColormap(['#FF0000', '#00FF00', '#0000FF'])\n",
        "    plt.scatter(X[:, 0], X[:, 1], c=y, cmap=cmap_bold)\n",
        "    plt.xlim(xx.min(), xx.max())\n",
        "    plt.ylim(yy.min(), yy.max())\n",
        "\n",
        "X, y = make_classification(n_samples=500, n_features=2, n_informative=2,\n",
        "                           n_redundant=0, n_repeated=0,\n",
        "                           n_classes=2, n_clusters_per_class=2,\n",
        "                           flip_y=0.05, class_sep=0.8, random_state=241)\n",
        "\n",
        "X_train, X_test, y_train, y_test = train_test_split(X, y, test_size=0.3, random_state=241)"
      ]
    },
    {
      "cell_type": "code",
      "execution_count": null,
      "id": "60ed77c9",
      "metadata": {
        "id": "60ed77c9",
        "outputId": "5ab5915e-45ea-4850-b490-47a4351a914f"
      },
      "outputs": [
        {
          "name": "stdout",
          "output_type": "stream",
          "text": [
            "0.919452347083926\n"
          ]
        },
        {
          "data": {
            "image/png": "[encoded data removed]",
            "text/plain": [
              "<Figure size 576x360 with 1 Axes>"
            ]
          },
          "metadata": {
            "needs_background": "light"
          },
          "output_type": "display_data"
        }
      ],
      "source": [
        "from catboost import CatBoostClassifier \n",
        "\n",
        "catboost = CatBoostClassifier(n_estimators=300, logging_level='Silent')\n",
        "catboost.fit(X_train, y_train)\n",
        "plot_surface(X_test, y_test, catboost)\n",
        "\n",
        "print(roc_auc_score(y_test, catboost.predict_proba(X_test)[:, 1]))"
      ]
    },
    {
      "cell_type": "code",
      "execution_count": null,
      "metadata": {
        "id": "TYzknhZkWZ08",
        "outputId": "5b3266c7-3a03-4df9-ff96-fdc0276ae533"
      },
      "outputs": [
        {
          "data": {
            "image/png": "[encoded data removed]",
            "text/plain": [
              "<Figure size 576x360 with 1 Axes>"
            ]
          },
          "metadata": {
            "needs_background": "light"
          },
          "output_type": "display_data"
        }
      ],
      "source": [
        "from sklearn.ensemble import GradientBoostingClassifier\n",
        "\n",
        "n_trees = [1, 5, 10, 100, 200, 300, 400, 500, 600, 700, 1000, 2000]\n",
        "quals_train = []\n",
        "quals_test = []\n",
        "for n in n_trees:\n",
        "    catboost = GradientBoostingClassifier(n_estimators=n)\n",
        "    catboost.fit(X_train, y_train)\n",
        "    q_train = roc_auc_score(y_train, catboost.predict_proba(X_train)[:, 1])\n",
        "    q_test = roc_auc_score(y_test, catboost.predict_proba(X_test)[:, 1])\n",
        "    quals_train.append(q_train)\n",
        "    quals_test.append(q_test)\n",
        "    \n",
        "plt.plot(n_trees, quals_train, marker='o', label='train')\n",
        "plt.plot(n_trees, quals_test, marker='o', label='test')\n",
        "plt.xlabel('Number of trees')\n",
        "plt.ylabel('AUC-ROC')\n",
        "plt.legend()\n",
        "plt.show()"
      ],
      "id": "TYzknhZkWZ08"
    },
    {
      "cell_type": "code",
      "execution_count": null,
      "id": "0c79232a",
      "metadata": {
        "id": "0c79232a",
        "outputId": "ec8edb8e-0ccf-4b79-9b55-389b463e6a98"
      },
      "outputs": [
        {
          "data": {
            "image/png": "[encoded data removed]",
            "text/plain": [
              "<Figure size 576x360 with 1 Axes>"
            ]
          },
          "metadata": {
            "needs_background": "light"
          },
          "output_type": "display_data"
        }
      ],
      "source": [
        "n_trees = [1, 5, 10, 100, 200, 300, 400, 500, 600, 700, 1000, 2000]\n",
        "quals_train = []\n",
        "quals_test = []\n",
        "for n in n_trees:\n",
        "    catboost = CatBoostClassifier(iterations=n, logging_level='Silent')\n",
        "    catboost.fit(X_train, y_train)\n",
        "    q_train = roc_auc_score(y_train, catboost.predict_proba(X_train)[:, 1])\n",
        "    q_test = roc_auc_score(y_test, catboost.predict_proba(X_test)[:, 1])\n",
        "    quals_train.append(q_train)\n",
        "    quals_test.append(q_test)\n",
        "    \n",
        "plt.plot(n_trees, quals_train, marker='o', label='train')\n",
        "plt.plot(n_trees, quals_test, marker='o', label='test')\n",
        "plt.xlabel('Number of trees')\n",
        "plt.ylabel('AUC-ROC')\n",
        "plt.legend()\n",
        "plt.show()"
      ]
    },
    {
      "cell_type": "markdown",
      "id": "cf36e153",
      "metadata": {
        "id": "cf36e153"
      },
      "source": [
        "## Xgboost\n",
        "\n",
        "1. Базовый алгоритм приближает направление, посчитанное с учетом второй производной функции потерь\n",
        "\n",
        "2. Функционал регуляризуется – добавляются штрафы за количество листьев и за норму коэффициентов\n",
        "\n",
        "3. При построении дерева используется критерий информативности, зависящий от оптимального вектора сдвига\n",
        "\n",
        "4. Критерий останова при обучении дерева также зависит от оптимального сдвига\n",
        "\n",
        "Ссылка на [источник](https://github.com/esokolov/ml-course-hse/blob/master/2021-fall/lecture-notes/lecture11-ensembles.pdf)"
      ]
    },
    {
      "cell_type": "code",
      "execution_count": null,
      "id": "e92bdf78",
      "metadata": {
        "scrolled": true,
        "id": "e92bdf78",
        "outputId": "5f892876-63e9-4bcd-9c37-37b365f071f8"
      },
      "outputs": [
        {
          "name": "stdout",
          "output_type": "stream",
          "text": [
            "0.8745554765291608\n"
          ]
        },
        {
          "data": {
            "image/png": "[encoded data removed]",
            "text/plain": [
              "<Figure size 576x360 with 1 Axes>"
            ]
          },
          "metadata": {
            "needs_background": "light"
          },
          "output_type": "display_data"
        }
      ],
      "source": [
        "from xgboost import XGBClassifier\n",
        "\n",
        "xgb = XGBClassifier(n_estimators=300, verbosity=0)\n",
        "xgb.fit(X_train, y_train)\n",
        "plot_surface(X_test, y_test, xgb)\n",
        "\n",
        "print(roc_auc_score(y_test, xgb.predict_proba(X_test)[:, 1]))"
      ]
    },
    {
      "cell_type": "code",
      "execution_count": null,
      "id": "10a290d2",
      "metadata": {
        "id": "10a290d2",
        "outputId": "e9af14e8-33de-4b14-b4c4-49dfcf382d6a"
      },
      "outputs": [
        {
          "data": {
            "image/png": "[encoded data removed]",
            "text/plain": [
              "<Figure size 576x360 with 1 Axes>"
            ]
          },
          "metadata": {
            "needs_background": "light"
          },
          "output_type": "display_data"
        }
      ],
      "source": [
        "n_trees = [1, 5, 10, 100, 200, 300, 400, 500, 600, 700, 1000, 2000]\n",
        "quals_train = []\n",
        "quals_test = []\n",
        "for n in n_trees:\n",
        "    xgboost = XGBClassifier(n_estimators=n, verbosity=0)\n",
        "    xgboost.fit(X_train, y_train)\n",
        "    q_train = roc_auc_score(y_train, xgboost.predict_proba(X_train)[:, 1])\n",
        "    q_test = roc_auc_score(y_test, xgboost.predict_proba(X_test)[:, 1])\n",
        "    quals_train.append(q_train)\n",
        "    quals_test.append(q_test)\n",
        "    \n",
        "plt.figure(figsize=(8, 5))\n",
        "plt.plot(n_trees, quals_train, marker='.', label='train')\n",
        "plt.plot(n_trees, quals_test, marker='.', label='test')\n",
        "plt.xlabel('Number of trees')\n",
        "plt.ylabel('AUC-ROC')\n",
        "plt.legend()\n",
        "\n",
        "plt.show()"
      ]
    },
    {
      "cell_type": "markdown",
      "id": "3e14848b",
      "metadata": {
        "id": "3e14848b"
      },
      "source": [
        "Видно, что переобучились - качество на тесте только падает."
      ]
    },
    {
      "cell_type": "markdown",
      "id": "c973e678",
      "metadata": {
        "id": "c973e678"
      },
      "source": [
        "## LightGBM"
      ]
    },
    {
      "cell_type": "code",
      "execution_count": null,
      "id": "c450d2c3",
      "metadata": {
        "id": "c450d2c3",
        "outputId": "3efc97a6-8553-40b2-c01b-d5ec74d00a23"
      },
      "outputs": [
        {
          "name": "stdout",
          "output_type": "stream",
          "text": [
            "0.8733108108108107\n"
          ]
        },
        {
          "data": {
            "image/png": "[encoded data removed]",
            "text/plain": [
              "<Figure size 576x360 with 1 Axes>"
            ]
          },
          "metadata": {
            "needs_background": "light"
          },
          "output_type": "display_data"
        }
      ],
      "source": [
        "from lightgbm import LGBMClassifier\n",
        "\n",
        "lightgbm = LGBMClassifier(n_estimators=300)\n",
        "lightgbm.fit(X_train, y_train)\n",
        "plot_surface(X_test, y_test, lightgbm)\n",
        "\n",
        "print(roc_auc_score(y_test, lightgbm.predict_proba(X_test)[:, 1]))"
      ]
    },
    {
      "cell_type": "code",
      "execution_count": null,
      "id": "5506bec3",
      "metadata": {
        "id": "5506bec3",
        "outputId": "1cc1e7fa-4264-4dd1-8b7a-ad0945cff90e"
      },
      "outputs": [
        {
          "data": {
            "image/png": "[encoded data removed]",
            "text/plain": [
              "<Figure size 576x360 with 1 Axes>"
            ]
          },
          "metadata": {
            "needs_background": "light"
          },
          "output_type": "display_data"
        }
      ],
      "source": [
        "n_trees = [1, 5, 10, 100, 200, 300, 400, 500, 600, 700, 1000, 2000]\n",
        "quals_train = []\n",
        "quals_test = []\n",
        "for n in n_trees:\n",
        "    lightgbm = LGBMClassifier(n_estimators=n)\n",
        "    lightgbm.fit(X_train, y_train)\n",
        "    q_train = roc_auc_score(y_train, lightgbm.predict_proba(X_train)[:, 1])\n",
        "    q_test = roc_auc_score(y_test, lightgbm.predict_proba(X_test)[:, 1])\n",
        "    quals_train.append(q_train)\n",
        "    quals_test.append(q_test)\n",
        "    \n",
        "plt.figure(figsize=(8, 5))\n",
        "plt.plot(n_trees, quals_train, marker='o', label='train')\n",
        "plt.plot(n_trees, quals_test, marker='o', label='test')\n",
        "plt.xlabel('Number of trees')\n",
        "plt.ylabel('AUC-ROC')\n",
        "plt.legend()\n",
        "\n",
        "plt.show()"
      ]
    },
    {
      "cell_type": "markdown",
      "id": "0148c39f",
      "metadata": {
        "id": "0148c39f"
      },
      "source": [
        "В целом, у LightGBM получилась та же проблема с переобучением, как у Xgboost. Нужно дальше подбирать гиперпараметры для этих двух."
      ]
    },
    {
      "cell_type": "markdown",
      "id": "55aa170d",
      "metadata": {
        "id": "55aa170d"
      },
      "source": [
        "Попробуем взять фиксированное количество деревьев `n_estimators`, но будем менять их максимальную глубину `max_depth`. У этих алгоритмов разное время обучения, поэтому возьмем какой-то небольшой диапазон глубины и сравним все три модели - Catboost, LightGBM, Xgboost."
      ]
    },
    {
      "cell_type": "code",
      "execution_count": null,
      "id": "811fdb82",
      "metadata": {
        "id": "811fdb82"
      },
      "outputs": [],
      "source": [
        "def plot_model_diff_depths(model=LGBMClassifier, depth_range=list(range(1, 5)), n_trees=10):\n",
        "    roc_auc_train = []\n",
        "    roc_auc_test = []\n",
        "    for i in depth_range:\n",
        "        clf = model(n_estimators=n_trees, max_depth=i)\n",
        "        if type(clf) == type(CatBoostClassifier()):\n",
        "            clf = CatBoostClassifier(n_estimators=n_trees, max_depth=i, logging_level=\"Silent\")\n",
        "        clf.fit(X_train, y_train)\n",
        "        q_train = roc_auc_score(y_train, clf.predict_proba(X_train)[:, 1])\n",
        "        q_test = roc_auc_score(y_test, clf.predict_proba(X_test)[:, 1])\n",
        "        roc_auc_train.append(q_train)\n",
        "        roc_auc_test.append(q_test)\n",
        "\n",
        "    plt.figure(figsize=(7, 5))\n",
        "    plt.plot(depth_range, roc_auc_train, marker='o', label='train')\n",
        "    plt.plot(depth_range, roc_auc_test, marker='o', label='test')\n",
        "    plt.title(f'{model}')\n",
        "    plt.xlabel('Depth')\n",
        "    plt.ylabel('AUC-ROC')\n",
        "    plt.legend()\n",
        "\n",
        "    plt.show()"
      ]
    },
    {
      "cell_type": "code",
      "execution_count": null,
      "id": "45b61d9d",
      "metadata": {
        "id": "45b61d9d",
        "outputId": "5c4cb805-5fa1-47a7-ae77-774c904a5d80"
      },
      "outputs": [
        {
          "data": {
            "image/png": "[encoded data removed]",
            "text/plain": [
              "<Figure size 504x360 with 1 Axes>"
            ]
          },
          "metadata": {
            "needs_background": "light"
          },
          "output_type": "display_data"
        },
        {
          "data": {
            "image/png": "[encoded data removed]",
            "text/plain": [
              "<Figure size 504x360 with 1 Axes>"
            ]
          },
          "metadata": {
            "needs_background": "light"
          },
          "output_type": "display_data"
        },
        {
          "data": {
            "image/png": "[encoded data removed]",
            "text/plain": [
              "<Figure size 504x360 with 1 Axes>"
            ]
          },
          "metadata": {
            "needs_background": "light"
          },
          "output_type": "display_data"
        }
      ],
      "source": [
        "plot_model_diff_depths(model=LGBMClassifier, depth_range=list(range(1, 16, 2)), n_trees=100)\n",
        "plot_model_diff_depths(model=CatBoostClassifier, depth_range=list(range(1, 16, 2)), n_trees=100)\n",
        "plot_model_diff_depths(model=XGBClassifier, depth_range=list(range(1, 16, 2)), n_trees=100)"
      ]
    },
    {
      "cell_type": "markdown",
      "id": "7272f497",
      "metadata": {
        "id": "7272f497"
      },
      "source": [
        "Когда мы обучили лучшие версии моделей, можно их сохранить и использовать для получения предсказаний, например, на новом батче данных. "
      ]
    },
    {
      "cell_type": "code",
      "execution_count": null,
      "id": "9b5970a5",
      "metadata": {
        "id": "9b5970a5"
      },
      "outputs": [],
      "source": [
        "# Сохранить\n",
        "lightgbm.booster_.save_model('lightgbm.txt')\n",
        "catboost.save_model('catboost.cbm', format='cbm')\n",
        "xgboost.save_model('xgboost.json')\n",
        "\n",
        "# Загрузить\n",
        "lightgbm = LGBMClassifier(model_file='mode.txt')\n",
        "catboost = catboost.load_model('catboost.cbm')\n",
        "xgboost = xgboost.load_model('xgboost.json')"
      ]
    },
    {
      "cell_type": "markdown",
      "source": [
        "## Catboost для решения задачи + интерпретация признаков"
      ],
      "metadata": {
        "id": "oXED779BXa9L"
      },
      "id": "oXED779BXa9L"
    },
    {
      "cell_type": "code",
      "source": [
        "data = pd.read_csv(\"bike_buyers_clean.csv\")"
      ],
      "metadata": {
        "id": "woobuJAtXZ7Y"
      },
      "id": "woobuJAtXZ7Y",
      "execution_count": 19,
      "outputs": []
    },
    {
      "cell_type": "code",
      "source": [
        "data.head()"
      ],
      "metadata": {
        "colab": {
          "base_uri": "https://localhost:8080/",
          "height": 250
        },
        "id": "SLzsGBXebz0w",
        "outputId": "5ba1b150-f7b7-4851-9240-aac3929b2bcc"
      },
      "id": "SLzsGBXebz0w",
      "execution_count": 20,
      "outputs": [
        {
          "output_type": "execute_result",
          "data": {
            "text/plain": [
              "      ID Marital Status  Gender  Income  Children        Education  \\\n",
              "0  12496        Married  Female   40000         1        Bachelors   \n",
              "1  24107        Married    Male   30000         3  Partial College   \n",
              "2  14177        Married    Male   80000         5  Partial College   \n",
              "3  24381         Single    Male   70000         0        Bachelors   \n",
              "4  25597         Single    Male   30000         0        Bachelors   \n",
              "\n",
              "       Occupation Home Owner  Cars Commute Distance   Region  Age  \\\n",
              "0  Skilled Manual        Yes     0        0-1 Miles   Europe   42   \n",
              "1        Clerical        Yes     1        0-1 Miles   Europe   43   \n",
              "2    Professional         No     2        2-5 Miles   Europe   60   \n",
              "3    Professional        Yes     1       5-10 Miles  Pacific   41   \n",
              "4        Clerical         No     0        0-1 Miles   Europe   36   \n",
              "\n",
              "  Purchased Bike  \n",
              "0             No  \n",
              "1             No  \n",
              "2             No  \n",
              "3            Yes  \n",
              "4            Yes  "
            ],
            "text/html": [
              "\n",
              "  <div id=\"df-ba25d046-5fc8-42e0-8eb1-6f4f18308a72\">\n",
              "    <div class=\"colab-df-container\">\n",
              "      <div>\n",
              "<style scoped>\n",
              "    .dataframe tbody tr th:only-of-type {\n",
              "        vertical-align: middle;\n",
              "    }\n",
              "\n",
              "    .dataframe tbody tr th {\n",
              "        vertical-align: top;\n",
              "    }\n",
              "\n",
              "    .dataframe thead th {\n",
              "        text-align: right;\n",
              "    }\n",
              "</style>\n",
              "<table border=\"1\" class=\"dataframe\">\n",
              "  <thead>\n",
              "    <tr style=\"text-align: right;\">\n",
              "      <th></th>\n",
              "      <th>ID</th>\n",
              "      <th>Marital Status</th>\n",
              "      <th>Gender</th>\n",
              "      <th>Income</th>\n",
              "      <th>Children</th>\n",
              "      <th>Education</th>\n",
              "      <th>Occupation</th>\n",
              "      <th>Home Owner</th>\n",
              "      <th>Cars</th>\n",
              "      <th>Commute Distance</th>\n",
              "      <th>Region</th>\n",
              "      <th>Age</th>\n",
              "      <th>Purchased Bike</th>\n",
              "    </tr>\n",
              "  </thead>\n",
              "  <tbody>\n",
              "    <tr>\n",
              "      <th>0</th>\n",
              "      <td>12496</td>\n",
              "      <td>Married</td>\n",
              "      <td>Female</td>\n",
              "      <td>40000</td>\n",
              "      <td>1</td>\n",
              "      <td>Bachelors</td>\n",
              "      <td>Skilled Manual</td>\n",
              "      <td>Yes</td>\n",
              "      <td>0</td>\n",
              "      <td>0-1 Miles</td>\n",
              "      <td>Europe</td>\n",
              "      <td>42</td>\n",
              "      <td>No</td>\n",
              "    </tr>\n",
              "    <tr>\n",
              "      <th>1</th>\n",
              "      <td>24107</td>\n",
              "      <td>Married</td>\n",
              "      <td>Male</td>\n",
              "      <td>30000</td>\n",
              "      <td>3</td>\n",
              "      <td>Partial College</td>\n",
              "      <td>Clerical</td>\n",
              "      <td>Yes</td>\n",
              "      <td>1</td>\n",
              "      <td>0-1 Miles</td>\n",
              "      <td>Europe</td>\n",
              "      <td>43</td>\n",
              "      <td>No</td>\n",
              "    </tr>\n",
              "    <tr>\n",
              "      <th>2</th>\n",
              "      <td>14177</td>\n",
              "      <td>Married</td>\n",
              "      <td>Male</td>\n",
              "      <td>80000</td>\n",
              "      <td>5</td>\n",
              "      <td>Partial College</td>\n",
              "      <td>Professional</td>\n",
              "      <td>No</td>\n",
              "      <td>2</td>\n",
              "      <td>2-5 Miles</td>\n",
              "      <td>Europe</td>\n",
              "      <td>60</td>\n",
              "      <td>No</td>\n",
              "    </tr>\n",
              "    <tr>\n",
              "      <th>3</th>\n",
              "      <td>24381</td>\n",
              "      <td>Single</td>\n",
              "      <td>Male</td>\n",
              "      <td>70000</td>\n",
              "      <td>0</td>\n",
              "      <td>Bachelors</td>\n",
              "      <td>Professional</td>\n",
              "      <td>Yes</td>\n",
              "      <td>1</td>\n",
              "      <td>5-10 Miles</td>\n",
              "      <td>Pacific</td>\n",
              "      <td>41</td>\n",
              "      <td>Yes</td>\n",
              "    </tr>\n",
              "    <tr>\n",
              "      <th>4</th>\n",
              "      <td>25597</td>\n",
              "      <td>Single</td>\n",
              "      <td>Male</td>\n",
              "      <td>30000</td>\n",
              "      <td>0</td>\n",
              "      <td>Bachelors</td>\n",
              "      <td>Clerical</td>\n",
              "      <td>No</td>\n",
              "      <td>0</td>\n",
              "      <td>0-1 Miles</td>\n",
              "      <td>Europe</td>\n",
              "      <td>36</td>\n",
              "      <td>Yes</td>\n",
              "    </tr>\n",
              "  </tbody>\n",
              "</table>\n",
              "</div>\n",
              "      <button class=\"colab-df-convert\" onclick=\"convertToInteractive('df-ba25d046-5fc8-42e0-8eb1-6f4f18308a72')\"\n",
              "              title=\"Convert this dataframe to an interactive table.\"\n",
              "              style=\"display:none;\">\n",
              "        \n",
              "  <svg xmlns=\"http://www.w3.org/2000/svg\" height=\"24px\"viewBox=\"0 0 24 24\"\n",
              "       width=\"24px\">\n",
              "    <path d=\"M0 0h24v24H0V0z\" fill=\"none\"/>\n",
              "    <path d=\"M18.56 5.44l.94 2.06.94-2.06 2.06-.94-2.06-.94-.94-2.06-.94 2.06-2.06.94zm-11 1L8.5 8.5l.94-2.06 2.06-.94-2.06-.94L8.5 2.5l-.94 2.06-2.06.94zm10 10l.94 2.06.94-2.06 2.06-.94-2.06-.94-.94-2.06-.94 2.06-2.06.94z\"/><path d=\"M17.41 7.96l-1.37-1.37c-.4-.4-.92-.59-1.43-.59-.52 0-1.04.2-1.43.59L10.3 9.45l-7.72 7.72c-.78.78-.78 2.05 0 2.83L4 21.41c.39.39.9.59 1.41.59.51 0 1.02-.2 1.41-.59l7.78-7.78 2.81-2.81c.8-.78.8-2.07 0-2.86zM5.41 20L4 18.59l7.72-7.72 1.47 1.35L5.41 20z\"/>\n",
              "  </svg>\n",
              "      </button>\n",
              "      \n",
              "  <style>\n",
              "    .colab-df-container {\n",
              "      display:flex;\n",
              "      flex-wrap:wrap;\n",
              "      gap: 12px;\n",
              "    }\n",
              "\n",
              "    .colab-df-convert {\n",
              "      background-color: #E8F0FE;\n",
              "      border: none;\n",
              "      border-radius: 50%;\n",
              "      cursor: pointer;\n",
              "      display: none;\n",
              "      fill: #1967D2;\n",
              "      height: 32px;\n",
              "      padding: 0 0 0 0;\n",
              "      width: 32px;\n",
              "    }\n",
              "\n",
              "    .colab-df-convert:hover {\n",
              "      background-color: #E2EBFA;\n",
              "      box-shadow: 0px 1px 2px rgba(60, 64, 67, 0.3), 0px 1px 3px 1px rgba(60, 64, 67, 0.15);\n",
              "      fill: #174EA6;\n",
              "    }\n",
              "\n",
              "    [theme=dark] .colab-df-convert {\n",
              "      background-color: #3B4455;\n",
              "      fill: #D2E3FC;\n",
              "    }\n",
              "\n",
              "    [theme=dark] .colab-df-convert:hover {\n",
              "      background-color: #434B5C;\n",
              "      box-shadow: 0px 1px 3px 1px rgba(0, 0, 0, 0.15);\n",
              "      filter: drop-shadow(0px 1px 2px rgba(0, 0, 0, 0.3));\n",
              "      fill: #FFFFFF;\n",
              "    }\n",
              "  </style>\n",
              "\n",
              "      <script>\n",
              "        const buttonEl =\n",
              "          document.querySelector('#df-ba25d046-5fc8-42e0-8eb1-6f4f18308a72 button.colab-df-convert');\n",
              "        buttonEl.style.display =\n",
              "          google.colab.kernel.accessAllowed ? 'block' : 'none';\n",
              "\n",
              "        async function convertToInteractive(key) {\n",
              "          const element = document.querySelector('#df-ba25d046-5fc8-42e0-8eb1-6f4f18308a72');\n",
              "          const dataTable =\n",
              "            await google.colab.kernel.invokeFunction('convertToInteractive',\n",
              "                                                     [key], {});\n",
              "          if (!dataTable) return;\n",
              "\n",
              "          const docLinkHtml = 'Like what you see? Visit the ' +\n",
              "            '<a target=\"_blank\" href=https://colab.research.google.com/notebooks/data_table.ipynb>data table notebook</a>'\n",
              "            + ' to learn more about interactive tables.';\n",
              "          element.innerHTML = '';\n",
              "          dataTable['output_type'] = 'display_data';\n",
              "          await google.colab.output.renderOutput(dataTable, element);\n",
              "          const docLink = document.createElement('div');\n",
              "          docLink.innerHTML = docLinkHtml;\n",
              "          element.appendChild(docLink);\n",
              "        }\n",
              "      </script>\n",
              "    </div>\n",
              "  </div>\n",
              "  "
            ]
          },
          "metadata": {},
          "execution_count": 20
        }
      ]
    },
    {
      "cell_type": "code",
      "source": [
        "X = data.drop(['ID','Purchased Bike'], axis=1)\n",
        "y = data['Purchased Bike']"
      ],
      "metadata": {
        "id": "ABFVV6-iXaCf"
      },
      "id": "ABFVV6-iXaCf",
      "execution_count": 21,
      "outputs": []
    },
    {
      "cell_type": "code",
      "source": [
        "X.head()"
      ],
      "metadata": {
        "colab": {
          "base_uri": "https://localhost:8080/",
          "height": 206
        },
        "id": "O7d1Y5sybUov",
        "outputId": "71538c0c-34bc-4c1e-c387-bec2aba88425"
      },
      "id": "O7d1Y5sybUov",
      "execution_count": 22,
      "outputs": [
        {
          "output_type": "execute_result",
          "data": {
            "text/plain": [
              "  Marital Status  Gender  Income  Children        Education      Occupation  \\\n",
              "0        Married  Female   40000         1        Bachelors  Skilled Manual   \n",
              "1        Married    Male   30000         3  Partial College        Clerical   \n",
              "2        Married    Male   80000         5  Partial College    Professional   \n",
              "3         Single    Male   70000         0        Bachelors    Professional   \n",
              "4         Single    Male   30000         0        Bachelors        Clerical   \n",
              "\n",
              "  Home Owner  Cars Commute Distance   Region  Age  \n",
              "0        Yes     0        0-1 Miles   Europe   42  \n",
              "1        Yes     1        0-1 Miles   Europe   43  \n",
              "2         No     2        2-5 Miles   Europe   60  \n",
              "3        Yes     1       5-10 Miles  Pacific   41  \n",
              "4         No     0        0-1 Miles   Europe   36  "
            ],
            "text/html": [
              "\n",
              "  <div id=\"df-859bdd7f-ceca-4d83-ba42-d2fb2c58f938\">\n",
              "    <div class=\"colab-df-container\">\n",
              "      <div>\n",
              "<style scoped>\n",
              "    .dataframe tbody tr th:only-of-type {\n",
              "        vertical-align: middle;\n",
              "    }\n",
              "\n",
              "    .dataframe tbody tr th {\n",
              "        vertical-align: top;\n",
              "    }\n",
              "\n",
              "    .dataframe thead th {\n",
              "        text-align: right;\n",
              "    }\n",
              "</style>\n",
              "<table border=\"1\" class=\"dataframe\">\n",
              "  <thead>\n",
              "    <tr style=\"text-align: right;\">\n",
              "      <th></th>\n",
              "      <th>Marital Status</th>\n",
              "      <th>Gender</th>\n",
              "      <th>Income</th>\n",
              "      <th>Children</th>\n",
              "      <th>Education</th>\n",
              "      <th>Occupation</th>\n",
              "      <th>Home Owner</th>\n",
              "      <th>Cars</th>\n",
              "      <th>Commute Distance</th>\n",
              "      <th>Region</th>\n",
              "      <th>Age</th>\n",
              "    </tr>\n",
              "  </thead>\n",
              "  <tbody>\n",
              "    <tr>\n",
              "      <th>0</th>\n",
              "      <td>Married</td>\n",
              "      <td>Female</td>\n",
              "      <td>40000</td>\n",
              "      <td>1</td>\n",
              "      <td>Bachelors</td>\n",
              "      <td>Skilled Manual</td>\n",
              "      <td>Yes</td>\n",
              "      <td>0</td>\n",
              "      <td>0-1 Miles</td>\n",
              "      <td>Europe</td>\n",
              "      <td>42</td>\n",
              "    </tr>\n",
              "    <tr>\n",
              "      <th>1</th>\n",
              "      <td>Married</td>\n",
              "      <td>Male</td>\n",
              "      <td>30000</td>\n",
              "      <td>3</td>\n",
              "      <td>Partial College</td>\n",
              "      <td>Clerical</td>\n",
              "      <td>Yes</td>\n",
              "      <td>1</td>\n",
              "      <td>0-1 Miles</td>\n",
              "      <td>Europe</td>\n",
              "      <td>43</td>\n",
              "    </tr>\n",
              "    <tr>\n",
              "      <th>2</th>\n",
              "      <td>Married</td>\n",
              "      <td>Male</td>\n",
              "      <td>80000</td>\n",
              "      <td>5</td>\n",
              "      <td>Partial College</td>\n",
              "      <td>Professional</td>\n",
              "      <td>No</td>\n",
              "      <td>2</td>\n",
              "      <td>2-5 Miles</td>\n",
              "      <td>Europe</td>\n",
              "      <td>60</td>\n",
              "    </tr>\n",
              "    <tr>\n",
              "      <th>3</th>\n",
              "      <td>Single</td>\n",
              "      <td>Male</td>\n",
              "      <td>70000</td>\n",
              "      <td>0</td>\n",
              "      <td>Bachelors</td>\n",
              "      <td>Professional</td>\n",
              "      <td>Yes</td>\n",
              "      <td>1</td>\n",
              "      <td>5-10 Miles</td>\n",
              "      <td>Pacific</td>\n",
              "      <td>41</td>\n",
              "    </tr>\n",
              "    <tr>\n",
              "      <th>4</th>\n",
              "      <td>Single</td>\n",
              "      <td>Male</td>\n",
              "      <td>30000</td>\n",
              "      <td>0</td>\n",
              "      <td>Bachelors</td>\n",
              "      <td>Clerical</td>\n",
              "      <td>No</td>\n",
              "      <td>0</td>\n",
              "      <td>0-1 Miles</td>\n",
              "      <td>Europe</td>\n",
              "      <td>36</td>\n",
              "    </tr>\n",
              "  </tbody>\n",
              "</table>\n",
              "</div>\n",
              "      <button class=\"colab-df-convert\" onclick=\"convertToInteractive('df-859bdd7f-ceca-4d83-ba42-d2fb2c58f938')\"\n",
              "              title=\"Convert this dataframe to an interactive table.\"\n",
              "              style=\"display:none;\">\n",
              "        \n",
              "  <svg xmlns=\"http://www.w3.org/2000/svg\" height=\"24px\"viewBox=\"0 0 24 24\"\n",
              "       width=\"24px\">\n",
              "    <path d=\"M0 0h24v24H0V0z\" fill=\"none\"/>\n",
              "    <path d=\"M18.56 5.44l.94 2.06.94-2.06 2.06-.94-2.06-.94-.94-2.06-.94 2.06-2.06.94zm-11 1L8.5 8.5l.94-2.06 2.06-.94-2.06-.94L8.5 2.5l-.94 2.06-2.06.94zm10 10l.94 2.06.94-2.06 2.06-.94-2.06-.94-.94-2.06-.94 2.06-2.06.94z\"/><path d=\"M17.41 7.96l-1.37-1.37c-.4-.4-.92-.59-1.43-.59-.52 0-1.04.2-1.43.59L10.3 9.45l-7.72 7.72c-.78.78-.78 2.05 0 2.83L4 21.41c.39.39.9.59 1.41.59.51 0 1.02-.2 1.41-.59l7.78-7.78 2.81-2.81c.8-.78.8-2.07 0-2.86zM5.41 20L4 18.59l7.72-7.72 1.47 1.35L5.41 20z\"/>\n",
              "  </svg>\n",
              "      </button>\n",
              "      \n",
              "  <style>\n",
              "    .colab-df-container {\n",
              "      display:flex;\n",
              "      flex-wrap:wrap;\n",
              "      gap: 12px;\n",
              "    }\n",
              "\n",
              "    .colab-df-convert {\n",
              "      background-color: #E8F0FE;\n",
              "      border: none;\n",
              "      border-radius: 50%;\n",
              "      cursor: pointer;\n",
              "      display: none;\n",
              "      fill: #1967D2;\n",
              "      height: 32px;\n",
              "      padding: 0 0 0 0;\n",
              "      width: 32px;\n",
              "    }\n",
              "\n",
              "    .colab-df-convert:hover {\n",
              "      background-color: #E2EBFA;\n",
              "      box-shadow: 0px 1px 2px rgba(60, 64, 67, 0.3), 0px 1px 3px 1px rgba(60, 64, 67, 0.15);\n",
              "      fill: #174EA6;\n",
              "    }\n",
              "\n",
              "    [theme=dark] .colab-df-convert {\n",
              "      background-color: #3B4455;\n",
              "      fill: #D2E3FC;\n",
              "    }\n",
              "\n",
              "    [theme=dark] .colab-df-convert:hover {\n",
              "      background-color: #434B5C;\n",
              "      box-shadow: 0px 1px 3px 1px rgba(0, 0, 0, 0.15);\n",
              "      filter: drop-shadow(0px 1px 2px rgba(0, 0, 0, 0.3));\n",
              "      fill: #FFFFFF;\n",
              "    }\n",
              "  </style>\n",
              "\n",
              "      <script>\n",
              "        const buttonEl =\n",
              "          document.querySelector('#df-859bdd7f-ceca-4d83-ba42-d2fb2c58f938 button.colab-df-convert');\n",
              "        buttonEl.style.display =\n",
              "          google.colab.kernel.accessAllowed ? 'block' : 'none';\n",
              "\n",
              "        async function convertToInteractive(key) {\n",
              "          const element = document.querySelector('#df-859bdd7f-ceca-4d83-ba42-d2fb2c58f938');\n",
              "          const dataTable =\n",
              "            await google.colab.kernel.invokeFunction('convertToInteractive',\n",
              "                                                     [key], {});\n",
              "          if (!dataTable) return;\n",
              "\n",
              "          const docLinkHtml = 'Like what you see? Visit the ' +\n",
              "            '<a target=\"_blank\" href=https://colab.research.google.com/notebooks/data_table.ipynb>data table notebook</a>'\n",
              "            + ' to learn more about interactive tables.';\n",
              "          element.innerHTML = '';\n",
              "          dataTable['output_type'] = 'display_data';\n",
              "          await google.colab.output.renderOutput(dataTable, element);\n",
              "          const docLink = document.createElement('div');\n",
              "          docLink.innerHTML = docLinkHtml;\n",
              "          element.appendChild(docLink);\n",
              "        }\n",
              "      </script>\n",
              "    </div>\n",
              "  </div>\n",
              "  "
            ]
          },
          "metadata": {},
          "execution_count": 22
        }
      ]
    },
    {
      "cell_type": "code",
      "source": [
        "from sklearn.model_selection import train_test_split\n",
        "\n",
        "Xtrain, Xtest, ytrain, ytest = train_test_split(X, y, test_size=0.5, random_state=42)"
      ],
      "metadata": {
        "id": "leEzctJQa4WJ"
      },
      "id": "leEzctJQa4WJ",
      "execution_count": 23,
      "outputs": []
    },
    {
      "cell_type": "code",
      "source": [
        "from catboost import CatBoostClassifier\n",
        "\n",
        "model1 = CatBoostClassifier(cat_features = [0, 1, 4, 5, 6, 8, 9]),  # one_hot_max_size=10)\n",
        "model1.fit(Xtrain, ytrain)"
      ],
      "metadata": {
        "colab": {
          "base_uri": "https://localhost:8080/"
        },
        "id": "VJNs1ErgXaHp",
        "outputId": "950779db-7a3a-4ee0-c637-8b6608a2bb0e"
      },
      "id": "VJNs1ErgXaHp",
      "execution_count": 70,
      "outputs": [
        {
          "output_type": "stream",
          "name": "stdout",
          "text": [
            "Learning rate set to 0.007663\n",
            "0:\tlearn: 0.6908782\ttotal: 725us\tremaining: 725ms\n",
            "1:\tlearn: 0.6897559\ttotal: 1.33ms\tremaining: 662ms\n",
            "2:\tlearn: 0.6872643\ttotal: 2.13ms\tremaining: 708ms\n",
            "3:\tlearn: 0.6855959\ttotal: 2.96ms\tremaining: 738ms\n",
            "4:\tlearn: 0.6839733\ttotal: 3.81ms\tremaining: 758ms\n",
            "5:\tlearn: 0.6827635\ttotal: 4.63ms\tremaining: 768ms\n",
            "6:\tlearn: 0.6809835\ttotal: 5.73ms\tremaining: 813ms\n",
            "7:\tlearn: 0.6802245\ttotal: 6.49ms\tremaining: 805ms\n",
            "8:\tlearn: 0.6788992\ttotal: 7.36ms\tremaining: 811ms\n",
            "9:\tlearn: 0.6773087\ttotal: 8.25ms\tremaining: 816ms\n",
            "10:\tlearn: 0.6760143\ttotal: 9.14ms\tremaining: 822ms\n",
            "11:\tlearn: 0.6745937\ttotal: 10.1ms\tremaining: 835ms\n",
            "12:\tlearn: 0.6728281\ttotal: 11ms\tremaining: 839ms\n",
            "13:\tlearn: 0.6711055\ttotal: 11.9ms\tremaining: 842ms\n",
            "14:\tlearn: 0.6696310\ttotal: 12.8ms\tremaining: 843ms\n",
            "15:\tlearn: 0.6683182\ttotal: 13.7ms\tremaining: 844ms\n",
            "16:\tlearn: 0.6672679\ttotal: 14.6ms\tremaining: 847ms\n",
            "17:\tlearn: 0.6654243\ttotal: 15.5ms\tremaining: 846ms\n",
            "18:\tlearn: 0.6642317\ttotal: 16.4ms\tremaining: 846ms\n",
            "19:\tlearn: 0.6628222\ttotal: 17.2ms\tremaining: 844ms\n",
            "20:\tlearn: 0.6611104\ttotal: 18.3ms\tremaining: 852ms\n",
            "21:\tlearn: 0.6596269\ttotal: 19.4ms\tremaining: 861ms\n",
            "22:\tlearn: 0.6581165\ttotal: 20.3ms\tremaining: 861ms\n",
            "23:\tlearn: 0.6576723\ttotal: 20.9ms\tremaining: 850ms\n",
            "24:\tlearn: 0.6562429\ttotal: 21.9ms\tremaining: 854ms\n",
            "25:\tlearn: 0.6542404\ttotal: 22.8ms\tremaining: 852ms\n",
            "26:\tlearn: 0.6530039\ttotal: 23.8ms\tremaining: 857ms\n",
            "27:\tlearn: 0.6520348\ttotal: 24.7ms\tremaining: 858ms\n",
            "28:\tlearn: 0.6505570\ttotal: 25.6ms\tremaining: 857ms\n",
            "29:\tlearn: 0.6488570\ttotal: 26.5ms\tremaining: 856ms\n",
            "30:\tlearn: 0.6474490\ttotal: 27.5ms\tremaining: 858ms\n",
            "31:\tlearn: 0.6463766\ttotal: 28.3ms\tremaining: 857ms\n",
            "32:\tlearn: 0.6451370\ttotal: 29.2ms\tremaining: 856ms\n",
            "33:\tlearn: 0.6441700\ttotal: 30.4ms\tremaining: 863ms\n",
            "34:\tlearn: 0.6429077\ttotal: 31.4ms\tremaining: 864ms\n",
            "35:\tlearn: 0.6412000\ttotal: 32.2ms\tremaining: 863ms\n",
            "36:\tlearn: 0.6400815\ttotal: 33.1ms\tremaining: 861ms\n",
            "37:\tlearn: 0.6387300\ttotal: 33.9ms\tremaining: 858ms\n",
            "38:\tlearn: 0.6373704\ttotal: 34.5ms\tremaining: 849ms\n",
            "39:\tlearn: 0.6360314\ttotal: 35.3ms\tremaining: 848ms\n",
            "40:\tlearn: 0.6343788\ttotal: 36.2ms\tremaining: 846ms\n",
            "41:\tlearn: 0.6330741\ttotal: 37.2ms\tremaining: 848ms\n",
            "42:\tlearn: 0.6317478\ttotal: 38ms\tremaining: 846ms\n",
            "43:\tlearn: 0.6305902\ttotal: 38.9ms\tremaining: 845ms\n",
            "44:\tlearn: 0.6294662\ttotal: 39.8ms\tremaining: 845ms\n",
            "45:\tlearn: 0.6284474\ttotal: 40.7ms\tremaining: 844ms\n",
            "46:\tlearn: 0.6278423\ttotal: 41.6ms\tremaining: 843ms\n",
            "47:\tlearn: 0.6270904\ttotal: 42.4ms\tremaining: 842ms\n",
            "48:\tlearn: 0.6262076\ttotal: 43.3ms\tremaining: 841ms\n",
            "49:\tlearn: 0.6250233\ttotal: 44.2ms\tremaining: 840ms\n",
            "50:\tlearn: 0.6239164\ttotal: 45.1ms\tremaining: 839ms\n",
            "51:\tlearn: 0.6229683\ttotal: 45.9ms\tremaining: 837ms\n",
            "52:\tlearn: 0.6218990\ttotal: 46.8ms\tremaining: 836ms\n",
            "53:\tlearn: 0.6208502\ttotal: 47.7ms\tremaining: 835ms\n",
            "54:\tlearn: 0.6199742\ttotal: 48.5ms\tremaining: 834ms\n",
            "55:\tlearn: 0.6181779\ttotal: 49.4ms\tremaining: 833ms\n",
            "56:\tlearn: 0.6172462\ttotal: 50.3ms\tremaining: 832ms\n",
            "57:\tlearn: 0.6163080\ttotal: 51.1ms\tremaining: 830ms\n",
            "58:\tlearn: 0.6156169\ttotal: 52ms\tremaining: 830ms\n",
            "59:\tlearn: 0.6142941\ttotal: 52.9ms\tremaining: 828ms\n",
            "60:\tlearn: 0.6133440\ttotal: 53.7ms\tremaining: 827ms\n",
            "61:\tlearn: 0.6123486\ttotal: 54.6ms\tremaining: 826ms\n",
            "62:\tlearn: 0.6109698\ttotal: 55.5ms\tremaining: 825ms\n",
            "63:\tlearn: 0.6100302\ttotal: 56.3ms\tremaining: 824ms\n",
            "64:\tlearn: 0.6089242\ttotal: 57.2ms\tremaining: 823ms\n",
            "65:\tlearn: 0.6079791\ttotal: 58.1ms\tremaining: 822ms\n",
            "66:\tlearn: 0.6071290\ttotal: 59ms\tremaining: 821ms\n",
            "67:\tlearn: 0.6062218\ttotal: 59.8ms\tremaining: 820ms\n",
            "68:\tlearn: 0.6056846\ttotal: 60.7ms\tremaining: 819ms\n",
            "69:\tlearn: 0.6045156\ttotal: 61.6ms\tremaining: 818ms\n",
            "70:\tlearn: 0.6038752\ttotal: 62.4ms\tremaining: 817ms\n",
            "71:\tlearn: 0.6032233\ttotal: 63.3ms\tremaining: 816ms\n",
            "72:\tlearn: 0.6021385\ttotal: 64.2ms\tremaining: 815ms\n",
            "73:\tlearn: 0.6010945\ttotal: 65ms\tremaining: 814ms\n",
            "74:\tlearn: 0.5998318\ttotal: 65.9ms\tremaining: 813ms\n",
            "75:\tlearn: 0.5988748\ttotal: 66.8ms\tremaining: 812ms\n",
            "76:\tlearn: 0.5973881\ttotal: 67.7ms\tremaining: 811ms\n",
            "77:\tlearn: 0.5964248\ttotal: 68.5ms\tremaining: 810ms\n",
            "78:\tlearn: 0.5953889\ttotal: 69.4ms\tremaining: 809ms\n",
            "79:\tlearn: 0.5943955\ttotal: 70.2ms\tremaining: 808ms\n",
            "80:\tlearn: 0.5933370\ttotal: 71.1ms\tremaining: 806ms\n",
            "81:\tlearn: 0.5926414\ttotal: 71.9ms\tremaining: 805ms\n",
            "82:\tlearn: 0.5915344\ttotal: 72.8ms\tremaining: 804ms\n",
            "83:\tlearn: 0.5905561\ttotal: 73.6ms\tremaining: 803ms\n",
            "84:\tlearn: 0.5895898\ttotal: 74.5ms\tremaining: 802ms\n",
            "85:\tlearn: 0.5887571\ttotal: 75.4ms\tremaining: 801ms\n",
            "86:\tlearn: 0.5878479\ttotal: 76.3ms\tremaining: 800ms\n",
            "87:\tlearn: 0.5871874\ttotal: 77.1ms\tremaining: 799ms\n",
            "88:\tlearn: 0.5863363\ttotal: 78ms\tremaining: 798ms\n",
            "89:\tlearn: 0.5855461\ttotal: 78.9ms\tremaining: 797ms\n",
            "90:\tlearn: 0.5846146\ttotal: 79.7ms\tremaining: 797ms\n",
            "91:\tlearn: 0.5837697\ttotal: 80.6ms\tremaining: 795ms\n",
            "92:\tlearn: 0.5827500\ttotal: 81.4ms\tremaining: 794ms\n",
            "93:\tlearn: 0.5818198\ttotal: 82.3ms\tremaining: 793ms\n",
            "94:\tlearn: 0.5816216\ttotal: 82.9ms\tremaining: 790ms\n",
            "95:\tlearn: 0.5804887\ttotal: 83.7ms\tremaining: 788ms\n",
            "96:\tlearn: 0.5796353\ttotal: 84.5ms\tremaining: 786ms\n",
            "97:\tlearn: 0.5789121\ttotal: 85.3ms\tremaining: 785ms\n",
            "98:\tlearn: 0.5781354\ttotal: 86.5ms\tremaining: 787ms\n",
            "99:\tlearn: 0.5770368\ttotal: 87.5ms\tremaining: 788ms\n",
            "100:\tlearn: 0.5764774\ttotal: 88.5ms\tremaining: 788ms\n",
            "101:\tlearn: 0.5758825\ttotal: 89.4ms\tremaining: 787ms\n",
            "102:\tlearn: 0.5750271\ttotal: 90.3ms\tremaining: 786ms\n",
            "103:\tlearn: 0.5745460\ttotal: 91.2ms\tremaining: 786ms\n",
            "104:\tlearn: 0.5735974\ttotal: 92.1ms\tremaining: 785ms\n",
            "105:\tlearn: 0.5729882\ttotal: 92.9ms\tremaining: 784ms\n",
            "106:\tlearn: 0.5724136\ttotal: 93.8ms\tremaining: 783ms\n",
            "107:\tlearn: 0.5717159\ttotal: 94.7ms\tremaining: 782ms\n",
            "108:\tlearn: 0.5708181\ttotal: 95.6ms\tremaining: 781ms\n",
            "109:\tlearn: 0.5700385\ttotal: 96.5ms\tremaining: 781ms\n",
            "110:\tlearn: 0.5688135\ttotal: 97.4ms\tremaining: 780ms\n",
            "111:\tlearn: 0.5678143\ttotal: 98.3ms\tremaining: 779ms\n",
            "112:\tlearn: 0.5670251\ttotal: 99.2ms\tremaining: 778ms\n",
            "113:\tlearn: 0.5660356\ttotal: 100ms\tremaining: 778ms\n",
            "114:\tlearn: 0.5652731\ttotal: 101ms\tremaining: 777ms\n",
            "115:\tlearn: 0.5641105\ttotal: 102ms\tremaining: 776ms\n",
            "116:\tlearn: 0.5629011\ttotal: 103ms\tremaining: 776ms\n",
            "117:\tlearn: 0.5623612\ttotal: 104ms\tremaining: 775ms\n",
            "118:\tlearn: 0.5617715\ttotal: 105ms\tremaining: 774ms\n",
            "119:\tlearn: 0.5609822\ttotal: 105ms\tremaining: 774ms\n",
            "120:\tlearn: 0.5604366\ttotal: 106ms\tremaining: 773ms\n",
            "121:\tlearn: 0.5596572\ttotal: 107ms\tremaining: 773ms\n",
            "122:\tlearn: 0.5587440\ttotal: 108ms\tremaining: 772ms\n",
            "123:\tlearn: 0.5580531\ttotal: 109ms\tremaining: 771ms\n",
            "124:\tlearn: 0.5576598\ttotal: 113ms\tremaining: 790ms\n",
            "125:\tlearn: 0.5568985\ttotal: 114ms\tremaining: 789ms\n",
            "126:\tlearn: 0.5559160\ttotal: 115ms\tremaining: 789ms\n",
            "127:\tlearn: 0.5550887\ttotal: 116ms\tremaining: 788ms\n",
            "128:\tlearn: 0.5542910\ttotal: 117ms\tremaining: 790ms\n",
            "129:\tlearn: 0.5539348\ttotal: 118ms\tremaining: 789ms\n",
            "130:\tlearn: 0.5532733\ttotal: 119ms\tremaining: 789ms\n",
            "131:\tlearn: 0.5526084\ttotal: 120ms\tremaining: 788ms\n",
            "132:\tlearn: 0.5519207\ttotal: 121ms\tremaining: 787ms\n",
            "133:\tlearn: 0.5510167\ttotal: 122ms\tremaining: 786ms\n",
            "134:\tlearn: 0.5503780\ttotal: 122ms\tremaining: 785ms\n",
            "135:\tlearn: 0.5496364\ttotal: 123ms\tremaining: 784ms\n",
            "136:\tlearn: 0.5487354\ttotal: 124ms\tremaining: 783ms\n",
            "137:\tlearn: 0.5481091\ttotal: 125ms\tremaining: 782ms\n",
            "138:\tlearn: 0.5473439\ttotal: 126ms\tremaining: 781ms\n",
            "139:\tlearn: 0.5467349\ttotal: 127ms\tremaining: 780ms\n",
            "140:\tlearn: 0.5462546\ttotal: 128ms\tremaining: 780ms\n",
            "141:\tlearn: 0.5455045\ttotal: 129ms\tremaining: 780ms\n",
            "142:\tlearn: 0.5446819\ttotal: 130ms\tremaining: 779ms\n",
            "143:\tlearn: 0.5441545\ttotal: 131ms\tremaining: 778ms\n",
            "144:\tlearn: 0.5434792\ttotal: 132ms\tremaining: 777ms\n",
            "145:\tlearn: 0.5427181\ttotal: 133ms\tremaining: 776ms\n",
            "146:\tlearn: 0.5421456\ttotal: 134ms\tremaining: 775ms\n",
            "147:\tlearn: 0.5415554\ttotal: 134ms\tremaining: 773ms\n",
            "148:\tlearn: 0.5410267\ttotal: 135ms\tremaining: 772ms\n",
            "149:\tlearn: 0.5400521\ttotal: 136ms\tremaining: 771ms\n",
            "150:\tlearn: 0.5396826\ttotal: 137ms\tremaining: 770ms\n",
            "151:\tlearn: 0.5389172\ttotal: 138ms\tremaining: 769ms\n",
            "152:\tlearn: 0.5382856\ttotal: 139ms\tremaining: 768ms\n",
            "153:\tlearn: 0.5373225\ttotal: 140ms\tremaining: 767ms\n",
            "154:\tlearn: 0.5366929\ttotal: 141ms\tremaining: 766ms\n",
            "155:\tlearn: 0.5361297\ttotal: 142ms\tremaining: 766ms\n",
            "156:\tlearn: 0.5352720\ttotal: 142ms\tremaining: 765ms\n",
            "157:\tlearn: 0.5347701\ttotal: 143ms\tremaining: 764ms\n",
            "158:\tlearn: 0.5343368\ttotal: 144ms\tremaining: 763ms\n",
            "159:\tlearn: 0.5338466\ttotal: 145ms\tremaining: 762ms\n",
            "160:\tlearn: 0.5332801\ttotal: 146ms\tremaining: 761ms\n",
            "161:\tlearn: 0.5326953\ttotal: 147ms\tremaining: 760ms\n",
            "162:\tlearn: 0.5320713\ttotal: 148ms\tremaining: 759ms\n",
            "163:\tlearn: 0.5314830\ttotal: 149ms\tremaining: 758ms\n",
            "164:\tlearn: 0.5306158\ttotal: 150ms\tremaining: 757ms\n",
            "165:\tlearn: 0.5297996\ttotal: 151ms\tremaining: 756ms\n",
            "166:\tlearn: 0.5292641\ttotal: 151ms\tremaining: 755ms\n",
            "167:\tlearn: 0.5284520\ttotal: 152ms\tremaining: 754ms\n",
            "168:\tlearn: 0.5278094\ttotal: 153ms\tremaining: 753ms\n",
            "169:\tlearn: 0.5273746\ttotal: 154ms\tremaining: 752ms\n",
            "170:\tlearn: 0.5268004\ttotal: 155ms\tremaining: 751ms\n",
            "171:\tlearn: 0.5264182\ttotal: 156ms\tremaining: 750ms\n",
            "172:\tlearn: 0.5259365\ttotal: 157ms\tremaining: 749ms\n",
            "173:\tlearn: 0.5253390\ttotal: 158ms\tremaining: 748ms\n",
            "174:\tlearn: 0.5250020\ttotal: 159ms\tremaining: 747ms\n",
            "175:\tlearn: 0.5245152\ttotal: 159ms\tremaining: 746ms\n",
            "176:\tlearn: 0.5239163\ttotal: 160ms\tremaining: 745ms\n",
            "177:\tlearn: 0.5233698\ttotal: 161ms\tremaining: 744ms\n",
            "178:\tlearn: 0.5227985\ttotal: 162ms\tremaining: 743ms\n",
            "179:\tlearn: 0.5218341\ttotal: 163ms\tremaining: 743ms\n",
            "180:\tlearn: 0.5213745\ttotal: 164ms\tremaining: 744ms\n",
            "181:\tlearn: 0.5212315\ttotal: 165ms\tremaining: 743ms\n",
            "182:\tlearn: 0.5207637\ttotal: 166ms\tremaining: 742ms\n",
            "183:\tlearn: 0.5204611\ttotal: 167ms\tremaining: 741ms\n",
            "184:\tlearn: 0.5199247\ttotal: 168ms\tremaining: 740ms\n",
            "185:\tlearn: 0.5194294\ttotal: 169ms\tremaining: 739ms\n",
            "186:\tlearn: 0.5185765\ttotal: 170ms\tremaining: 738ms\n",
            "187:\tlearn: 0.5182369\ttotal: 171ms\tremaining: 737ms\n",
            "188:\tlearn: 0.5177328\ttotal: 172ms\tremaining: 736ms\n",
            "189:\tlearn: 0.5169072\ttotal: 172ms\tremaining: 735ms\n",
            "190:\tlearn: 0.5162894\ttotal: 176ms\tremaining: 745ms\n",
            "191:\tlearn: 0.5156701\ttotal: 176ms\tremaining: 743ms\n",
            "192:\tlearn: 0.5152072\ttotal: 177ms\tremaining: 741ms\n",
            "193:\tlearn: 0.5146880\ttotal: 179ms\tremaining: 742ms\n",
            "194:\tlearn: 0.5139451\ttotal: 180ms\tremaining: 744ms\n",
            "195:\tlearn: 0.5132917\ttotal: 181ms\tremaining: 744ms\n",
            "196:\tlearn: 0.5126124\ttotal: 182ms\tremaining: 744ms\n",
            "197:\tlearn: 0.5119256\ttotal: 183ms\tremaining: 742ms\n",
            "198:\tlearn: 0.5111836\ttotal: 184ms\tremaining: 741ms\n",
            "199:\tlearn: 0.5107935\ttotal: 185ms\tremaining: 740ms\n",
            "200:\tlearn: 0.5103256\ttotal: 186ms\tremaining: 739ms\n",
            "201:\tlearn: 0.5096706\ttotal: 187ms\tremaining: 738ms\n",
            "202:\tlearn: 0.5092116\ttotal: 188ms\tremaining: 737ms\n",
            "203:\tlearn: 0.5088895\ttotal: 189ms\tremaining: 736ms\n",
            "204:\tlearn: 0.5083282\ttotal: 190ms\tremaining: 735ms\n",
            "205:\tlearn: 0.5073407\ttotal: 190ms\tremaining: 734ms\n",
            "206:\tlearn: 0.5067016\ttotal: 191ms\tremaining: 733ms\n",
            "207:\tlearn: 0.5061312\ttotal: 192ms\tremaining: 732ms\n",
            "208:\tlearn: 0.5060475\ttotal: 193ms\tremaining: 730ms\n",
            "209:\tlearn: 0.5055432\ttotal: 194ms\tremaining: 729ms\n",
            "210:\tlearn: 0.5049955\ttotal: 195ms\tremaining: 728ms\n",
            "211:\tlearn: 0.5044600\ttotal: 195ms\tremaining: 726ms\n",
            "212:\tlearn: 0.5039494\ttotal: 196ms\tremaining: 725ms\n",
            "213:\tlearn: 0.5030823\ttotal: 197ms\tremaining: 724ms\n",
            "214:\tlearn: 0.5025600\ttotal: 198ms\tremaining: 723ms\n",
            "215:\tlearn: 0.5017717\ttotal: 199ms\tremaining: 722ms\n",
            "216:\tlearn: 0.5011714\ttotal: 200ms\tremaining: 721ms\n",
            "217:\tlearn: 0.5008004\ttotal: 201ms\tremaining: 720ms\n",
            "218:\tlearn: 0.5002333\ttotal: 202ms\tremaining: 719ms\n",
            "219:\tlearn: 0.4998464\ttotal: 203ms\tremaining: 718ms\n",
            "220:\tlearn: 0.4992350\ttotal: 203ms\tremaining: 717ms\n",
            "221:\tlearn: 0.4987728\ttotal: 204ms\tremaining: 716ms\n",
            "222:\tlearn: 0.4983284\ttotal: 205ms\tremaining: 715ms\n",
            "223:\tlearn: 0.4977005\ttotal: 206ms\tremaining: 714ms\n",
            "224:\tlearn: 0.4972245\ttotal: 207ms\tremaining: 714ms\n",
            "225:\tlearn: 0.4966088\ttotal: 208ms\tremaining: 712ms\n",
            "226:\tlearn: 0.4962238\ttotal: 209ms\tremaining: 711ms\n",
            "227:\tlearn: 0.4959621\ttotal: 210ms\tremaining: 710ms\n",
            "228:\tlearn: 0.4954611\ttotal: 211ms\tremaining: 709ms\n",
            "229:\tlearn: 0.4948916\ttotal: 211ms\tremaining: 708ms\n",
            "230:\tlearn: 0.4943756\ttotal: 212ms\tremaining: 707ms\n",
            "231:\tlearn: 0.4939671\ttotal: 213ms\tremaining: 706ms\n",
            "232:\tlearn: 0.4936462\ttotal: 214ms\tremaining: 705ms\n",
            "233:\tlearn: 0.4929260\ttotal: 215ms\tremaining: 704ms\n",
            "234:\tlearn: 0.4926108\ttotal: 216ms\tremaining: 703ms\n",
            "235:\tlearn: 0.4920230\ttotal: 217ms\tremaining: 702ms\n",
            "236:\tlearn: 0.4913017\ttotal: 218ms\tremaining: 701ms\n",
            "237:\tlearn: 0.4908279\ttotal: 219ms\tremaining: 700ms\n",
            "238:\tlearn: 0.4900890\ttotal: 219ms\tremaining: 699ms\n",
            "239:\tlearn: 0.4895411\ttotal: 220ms\tremaining: 698ms\n",
            "240:\tlearn: 0.4888029\ttotal: 221ms\tremaining: 696ms\n",
            "241:\tlearn: 0.4883655\ttotal: 222ms\tremaining: 695ms\n",
            "242:\tlearn: 0.4881429\ttotal: 223ms\tremaining: 694ms\n",
            "243:\tlearn: 0.4875311\ttotal: 224ms\tremaining: 693ms\n",
            "244:\tlearn: 0.4868876\ttotal: 225ms\tremaining: 692ms\n",
            "245:\tlearn: 0.4866261\ttotal: 226ms\tremaining: 691ms\n",
            "246:\tlearn: 0.4861462\ttotal: 226ms\tremaining: 690ms\n",
            "247:\tlearn: 0.4855165\ttotal: 227ms\tremaining: 689ms\n",
            "248:\tlearn: 0.4848468\ttotal: 228ms\tremaining: 688ms\n",
            "249:\tlearn: 0.4843779\ttotal: 229ms\tremaining: 687ms\n",
            "250:\tlearn: 0.4839677\ttotal: 230ms\tremaining: 686ms\n",
            "251:\tlearn: 0.4832013\ttotal: 231ms\tremaining: 685ms\n",
            "252:\tlearn: 0.4829605\ttotal: 232ms\tremaining: 684ms\n",
            "253:\tlearn: 0.4825187\ttotal: 233ms\tremaining: 683ms\n",
            "254:\tlearn: 0.4822340\ttotal: 233ms\tremaining: 682ms\n",
            "255:\tlearn: 0.4819709\ttotal: 234ms\tremaining: 681ms\n",
            "256:\tlearn: 0.4819268\ttotal: 235ms\tremaining: 680ms\n",
            "257:\tlearn: 0.4811094\ttotal: 236ms\tremaining: 679ms\n",
            "258:\tlearn: 0.4806027\ttotal: 237ms\tremaining: 678ms\n",
            "259:\tlearn: 0.4803016\ttotal: 239ms\tremaining: 679ms\n",
            "260:\tlearn: 0.4797712\ttotal: 239ms\tremaining: 677ms\n",
            "261:\tlearn: 0.4796088\ttotal: 240ms\tremaining: 675ms\n",
            "262:\tlearn: 0.4792137\ttotal: 240ms\tremaining: 673ms\n",
            "263:\tlearn: 0.4788293\ttotal: 241ms\tremaining: 672ms\n",
            "264:\tlearn: 0.4781277\ttotal: 242ms\tremaining: 671ms\n",
            "265:\tlearn: 0.4776961\ttotal: 243ms\tremaining: 670ms\n",
            "266:\tlearn: 0.4774932\ttotal: 244ms\tremaining: 669ms\n",
            "267:\tlearn: 0.4772594\ttotal: 245ms\tremaining: 668ms\n",
            "268:\tlearn: 0.4765344\ttotal: 246ms\tremaining: 667ms\n",
            "269:\tlearn: 0.4762049\ttotal: 246ms\tremaining: 666ms\n",
            "270:\tlearn: 0.4756017\ttotal: 247ms\tremaining: 665ms\n",
            "271:\tlearn: 0.4752833\ttotal: 249ms\tremaining: 666ms\n",
            "272:\tlearn: 0.4747729\ttotal: 251ms\tremaining: 667ms\n",
            "273:\tlearn: 0.4739351\ttotal: 251ms\tremaining: 666ms\n",
            "274:\tlearn: 0.4734493\ttotal: 252ms\tremaining: 665ms\n",
            "275:\tlearn: 0.4729661\ttotal: 253ms\tremaining: 664ms\n",
            "276:\tlearn: 0.4727201\ttotal: 254ms\tremaining: 662ms\n",
            "277:\tlearn: 0.4722880\ttotal: 255ms\tremaining: 661ms\n",
            "278:\tlearn: 0.4715930\ttotal: 256ms\tremaining: 660ms\n",
            "279:\tlearn: 0.4710680\ttotal: 256ms\tremaining: 660ms\n",
            "280:\tlearn: 0.4707597\ttotal: 257ms\tremaining: 658ms\n",
            "281:\tlearn: 0.4703295\ttotal: 258ms\tremaining: 658ms\n",
            "282:\tlearn: 0.4699434\ttotal: 259ms\tremaining: 657ms\n",
            "283:\tlearn: 0.4696208\ttotal: 260ms\tremaining: 656ms\n",
            "284:\tlearn: 0.4691826\ttotal: 261ms\tremaining: 655ms\n",
            "285:\tlearn: 0.4688882\ttotal: 262ms\tremaining: 654ms\n",
            "286:\tlearn: 0.4684115\ttotal: 263ms\tremaining: 653ms\n",
            "287:\tlearn: 0.4680924\ttotal: 264ms\tremaining: 652ms\n",
            "288:\tlearn: 0.4677092\ttotal: 265ms\tremaining: 651ms\n",
            "289:\tlearn: 0.4672861\ttotal: 266ms\tremaining: 650ms\n",
            "290:\tlearn: 0.4669021\ttotal: 266ms\tremaining: 649ms\n",
            "291:\tlearn: 0.4664868\ttotal: 267ms\tremaining: 648ms\n",
            "292:\tlearn: 0.4661876\ttotal: 268ms\tremaining: 647ms\n",
            "293:\tlearn: 0.4658778\ttotal: 269ms\tremaining: 646ms\n",
            "294:\tlearn: 0.4656127\ttotal: 270ms\tremaining: 645ms\n",
            "295:\tlearn: 0.4652017\ttotal: 271ms\tremaining: 644ms\n",
            "296:\tlearn: 0.4649619\ttotal: 272ms\tremaining: 643ms\n",
            "297:\tlearn: 0.4643507\ttotal: 273ms\tremaining: 642ms\n",
            "298:\tlearn: 0.4640513\ttotal: 274ms\tremaining: 641ms\n",
            "299:\tlearn: 0.4637590\ttotal: 274ms\tremaining: 640ms\n",
            "300:\tlearn: 0.4632377\ttotal: 275ms\tremaining: 639ms\n",
            "301:\tlearn: 0.4629640\ttotal: 276ms\tremaining: 638ms\n",
            "302:\tlearn: 0.4624086\ttotal: 277ms\tremaining: 638ms\n",
            "303:\tlearn: 0.4618940\ttotal: 278ms\tremaining: 637ms\n",
            "304:\tlearn: 0.4615634\ttotal: 279ms\tremaining: 636ms\n",
            "305:\tlearn: 0.4615082\ttotal: 280ms\tremaining: 635ms\n",
            "306:\tlearn: 0.4608922\ttotal: 281ms\tremaining: 633ms\n",
            "307:\tlearn: 0.4605711\ttotal: 281ms\tremaining: 632ms\n",
            "308:\tlearn: 0.4601137\ttotal: 282ms\tremaining: 631ms\n",
            "309:\tlearn: 0.4598531\ttotal: 283ms\tremaining: 630ms\n",
            "310:\tlearn: 0.4595377\ttotal: 284ms\tremaining: 629ms\n",
            "311:\tlearn: 0.4592215\ttotal: 285ms\tremaining: 628ms\n",
            "312:\tlearn: 0.4589337\ttotal: 286ms\tremaining: 628ms\n",
            "313:\tlearn: 0.4584202\ttotal: 287ms\tremaining: 627ms\n",
            "314:\tlearn: 0.4577734\ttotal: 288ms\tremaining: 626ms\n",
            "315:\tlearn: 0.4571453\ttotal: 289ms\tremaining: 625ms\n",
            "316:\tlearn: 0.4568798\ttotal: 290ms\tremaining: 624ms\n",
            "317:\tlearn: 0.4563557\ttotal: 290ms\tremaining: 623ms\n",
            "318:\tlearn: 0.4559404\ttotal: 291ms\tremaining: 622ms\n",
            "319:\tlearn: 0.4556033\ttotal: 292ms\tremaining: 621ms\n",
            "320:\tlearn: 0.4549135\ttotal: 293ms\tremaining: 620ms\n",
            "321:\tlearn: 0.4547038\ttotal: 294ms\tremaining: 619ms\n",
            "322:\tlearn: 0.4540444\ttotal: 295ms\tremaining: 618ms\n",
            "323:\tlearn: 0.4535616\ttotal: 296ms\tremaining: 617ms\n",
            "324:\tlearn: 0.4531909\ttotal: 297ms\tremaining: 616ms\n",
            "325:\tlearn: 0.4528814\ttotal: 298ms\tremaining: 615ms\n",
            "326:\tlearn: 0.4523097\ttotal: 299ms\tremaining: 614ms\n",
            "327:\tlearn: 0.4517024\ttotal: 299ms\tremaining: 613ms\n",
            "328:\tlearn: 0.4509998\ttotal: 300ms\tremaining: 612ms\n",
            "329:\tlearn: 0.4507387\ttotal: 301ms\tremaining: 612ms\n",
            "330:\tlearn: 0.4501603\ttotal: 302ms\tremaining: 610ms\n",
            "331:\tlearn: 0.4497941\ttotal: 303ms\tremaining: 610ms\n",
            "332:\tlearn: 0.4495308\ttotal: 304ms\tremaining: 609ms\n",
            "333:\tlearn: 0.4490026\ttotal: 305ms\tremaining: 608ms\n",
            "334:\tlearn: 0.4485246\ttotal: 306ms\tremaining: 607ms\n",
            "335:\tlearn: 0.4481712\ttotal: 306ms\tremaining: 606ms\n",
            "336:\tlearn: 0.4479286\ttotal: 307ms\tremaining: 605ms\n",
            "337:\tlearn: 0.4472844\ttotal: 308ms\tremaining: 604ms\n",
            "338:\tlearn: 0.4469874\ttotal: 309ms\tremaining: 603ms\n",
            "339:\tlearn: 0.4466588\ttotal: 310ms\tremaining: 602ms\n",
            "340:\tlearn: 0.4458661\ttotal: 311ms\tremaining: 601ms\n",
            "341:\tlearn: 0.4454998\ttotal: 312ms\tremaining: 600ms\n",
            "342:\tlearn: 0.4452486\ttotal: 313ms\tremaining: 599ms\n",
            "343:\tlearn: 0.4448257\ttotal: 313ms\tremaining: 598ms\n",
            "344:\tlearn: 0.4441407\ttotal: 314ms\tremaining: 597ms\n",
            "345:\tlearn: 0.4437461\ttotal: 315ms\tremaining: 596ms\n",
            "346:\tlearn: 0.4434645\ttotal: 316ms\tremaining: 595ms\n",
            "347:\tlearn: 0.4432009\ttotal: 317ms\tremaining: 594ms\n",
            "348:\tlearn: 0.4428102\ttotal: 318ms\tremaining: 593ms\n",
            "349:\tlearn: 0.4424377\ttotal: 319ms\tremaining: 592ms\n",
            "350:\tlearn: 0.4421556\ttotal: 320ms\tremaining: 591ms\n",
            "351:\tlearn: 0.4417974\ttotal: 320ms\tremaining: 590ms\n",
            "352:\tlearn: 0.4414774\ttotal: 321ms\tremaining: 589ms\n",
            "353:\tlearn: 0.4411224\ttotal: 322ms\tremaining: 588ms\n",
            "354:\tlearn: 0.4407298\ttotal: 323ms\tremaining: 587ms\n",
            "355:\tlearn: 0.4403800\ttotal: 324ms\tremaining: 586ms\n",
            "356:\tlearn: 0.4401509\ttotal: 325ms\tremaining: 585ms\n",
            "357:\tlearn: 0.4399079\ttotal: 326ms\tremaining: 584ms\n",
            "358:\tlearn: 0.4397241\ttotal: 327ms\tremaining: 583ms\n",
            "359:\tlearn: 0.4393753\ttotal: 327ms\tremaining: 582ms\n",
            "360:\tlearn: 0.4390676\ttotal: 328ms\tremaining: 581ms\n",
            "361:\tlearn: 0.4386844\ttotal: 329ms\tremaining: 580ms\n",
            "362:\tlearn: 0.4383460\ttotal: 330ms\tremaining: 579ms\n",
            "363:\tlearn: 0.4379799\ttotal: 331ms\tremaining: 578ms\n",
            "364:\tlearn: 0.4377247\ttotal: 332ms\tremaining: 577ms\n",
            "365:\tlearn: 0.4374569\ttotal: 333ms\tremaining: 576ms\n",
            "366:\tlearn: 0.4373066\ttotal: 333ms\tremaining: 575ms\n",
            "367:\tlearn: 0.4369957\ttotal: 334ms\tremaining: 574ms\n",
            "368:\tlearn: 0.4366031\ttotal: 335ms\tremaining: 573ms\n",
            "369:\tlearn: 0.4363239\ttotal: 336ms\tremaining: 572ms\n",
            "370:\tlearn: 0.4360720\ttotal: 337ms\tremaining: 571ms\n",
            "371:\tlearn: 0.4354980\ttotal: 338ms\tremaining: 571ms\n",
            "372:\tlearn: 0.4350740\ttotal: 339ms\tremaining: 570ms\n",
            "373:\tlearn: 0.4348415\ttotal: 340ms\tremaining: 569ms\n",
            "374:\tlearn: 0.4345242\ttotal: 341ms\tremaining: 568ms\n",
            "375:\tlearn: 0.4342063\ttotal: 342ms\tremaining: 567ms\n",
            "376:\tlearn: 0.4339055\ttotal: 342ms\tremaining: 566ms\n",
            "377:\tlearn: 0.4336088\ttotal: 343ms\tremaining: 565ms\n",
            "378:\tlearn: 0.4330839\ttotal: 351ms\tremaining: 575ms\n",
            "379:\tlearn: 0.4327162\ttotal: 352ms\tremaining: 574ms\n",
            "380:\tlearn: 0.4323484\ttotal: 352ms\tremaining: 573ms\n",
            "381:\tlearn: 0.4319767\ttotal: 356ms\tremaining: 576ms\n",
            "382:\tlearn: 0.4316370\ttotal: 357ms\tremaining: 575ms\n",
            "383:\tlearn: 0.4316038\ttotal: 359ms\tremaining: 576ms\n",
            "384:\tlearn: 0.4313446\ttotal: 360ms\tremaining: 575ms\n",
            "385:\tlearn: 0.4310072\ttotal: 361ms\tremaining: 574ms\n",
            "386:\tlearn: 0.4306728\ttotal: 362ms\tremaining: 573ms\n",
            "387:\tlearn: 0.4303907\ttotal: 363ms\tremaining: 572ms\n",
            "388:\tlearn: 0.4301376\ttotal: 364ms\tremaining: 571ms\n",
            "389:\tlearn: 0.4296583\ttotal: 365ms\tremaining: 570ms\n",
            "390:\tlearn: 0.4293188\ttotal: 366ms\tremaining: 569ms\n",
            "391:\tlearn: 0.4290579\ttotal: 367ms\tremaining: 568ms\n",
            "392:\tlearn: 0.4286862\ttotal: 367ms\tremaining: 567ms\n",
            "393:\tlearn: 0.4281972\ttotal: 368ms\tremaining: 566ms\n",
            "394:\tlearn: 0.4273885\ttotal: 369ms\tremaining: 565ms\n",
            "395:\tlearn: 0.4270568\ttotal: 370ms\tremaining: 564ms\n",
            "396:\tlearn: 0.4264532\ttotal: 371ms\tremaining: 564ms\n",
            "397:\tlearn: 0.4258566\ttotal: 372ms\tremaining: 563ms\n",
            "398:\tlearn: 0.4255928\ttotal: 373ms\tremaining: 562ms\n",
            "399:\tlearn: 0.4252380\ttotal: 375ms\tremaining: 562ms\n",
            "400:\tlearn: 0.4249924\ttotal: 376ms\tremaining: 561ms\n",
            "401:\tlearn: 0.4246429\ttotal: 376ms\tremaining: 560ms\n",
            "402:\tlearn: 0.4244129\ttotal: 377ms\tremaining: 558ms\n",
            "403:\tlearn: 0.4240353\ttotal: 378ms\tremaining: 557ms\n",
            "404:\tlearn: 0.4234677\ttotal: 379ms\tremaining: 557ms\n",
            "405:\tlearn: 0.4231199\ttotal: 380ms\tremaining: 556ms\n",
            "406:\tlearn: 0.4228466\ttotal: 381ms\tremaining: 555ms\n",
            "407:\tlearn: 0.4225460\ttotal: 382ms\tremaining: 554ms\n",
            "408:\tlearn: 0.4222590\ttotal: 383ms\tremaining: 553ms\n",
            "409:\tlearn: 0.4219522\ttotal: 384ms\tremaining: 553ms\n",
            "410:\tlearn: 0.4215464\ttotal: 385ms\tremaining: 552ms\n",
            "411:\tlearn: 0.4213228\ttotal: 386ms\tremaining: 551ms\n",
            "412:\tlearn: 0.4211670\ttotal: 387ms\tremaining: 550ms\n",
            "413:\tlearn: 0.4207164\ttotal: 388ms\tremaining: 549ms\n",
            "414:\tlearn: 0.4206856\ttotal: 388ms\tremaining: 548ms\n",
            "415:\tlearn: 0.4202457\ttotal: 389ms\tremaining: 546ms\n",
            "416:\tlearn: 0.4199482\ttotal: 390ms\tremaining: 546ms\n",
            "417:\tlearn: 0.4196737\ttotal: 391ms\tremaining: 544ms\n",
            "418:\tlearn: 0.4193939\ttotal: 392ms\tremaining: 543ms\n",
            "419:\tlearn: 0.4190387\ttotal: 393ms\tremaining: 542ms\n",
            "420:\tlearn: 0.4185668\ttotal: 394ms\tremaining: 541ms\n",
            "421:\tlearn: 0.4180163\ttotal: 395ms\tremaining: 540ms\n",
            "422:\tlearn: 0.4179703\ttotal: 395ms\tremaining: 539ms\n",
            "423:\tlearn: 0.4175807\ttotal: 396ms\tremaining: 538ms\n",
            "424:\tlearn: 0.4173835\ttotal: 397ms\tremaining: 537ms\n",
            "425:\tlearn: 0.4169747\ttotal: 398ms\tremaining: 536ms\n",
            "426:\tlearn: 0.4166048\ttotal: 399ms\tremaining: 535ms\n",
            "427:\tlearn: 0.4163959\ttotal: 400ms\tremaining: 534ms\n",
            "428:\tlearn: 0.4161443\ttotal: 401ms\tremaining: 533ms\n",
            "429:\tlearn: 0.4157504\ttotal: 401ms\tremaining: 532ms\n",
            "430:\tlearn: 0.4154302\ttotal: 402ms\tremaining: 531ms\n",
            "431:\tlearn: 0.4152099\ttotal: 403ms\tremaining: 530ms\n",
            "432:\tlearn: 0.4150250\ttotal: 404ms\tremaining: 529ms\n",
            "433:\tlearn: 0.4144577\ttotal: 405ms\tremaining: 528ms\n",
            "434:\tlearn: 0.4140617\ttotal: 406ms\tremaining: 527ms\n",
            "435:\tlearn: 0.4137552\ttotal: 407ms\tremaining: 526ms\n",
            "436:\tlearn: 0.4133840\ttotal: 408ms\tremaining: 525ms\n",
            "437:\tlearn: 0.4129197\ttotal: 409ms\tremaining: 524ms\n",
            "438:\tlearn: 0.4124799\ttotal: 409ms\tremaining: 523ms\n",
            "439:\tlearn: 0.4122000\ttotal: 410ms\tremaining: 522ms\n",
            "440:\tlearn: 0.4116194\ttotal: 411ms\tremaining: 521ms\n",
            "441:\tlearn: 0.4113961\ttotal: 412ms\tremaining: 520ms\n",
            "442:\tlearn: 0.4108620\ttotal: 413ms\tremaining: 519ms\n",
            "443:\tlearn: 0.4104798\ttotal: 414ms\tremaining: 518ms\n",
            "444:\tlearn: 0.4102849\ttotal: 415ms\tremaining: 517ms\n",
            "445:\tlearn: 0.4099849\ttotal: 415ms\tremaining: 516ms\n",
            "446:\tlearn: 0.4097301\ttotal: 416ms\tremaining: 515ms\n",
            "447:\tlearn: 0.4093795\ttotal: 417ms\tremaining: 514ms\n",
            "448:\tlearn: 0.4090197\ttotal: 418ms\tremaining: 513ms\n",
            "449:\tlearn: 0.4088042\ttotal: 419ms\tremaining: 512ms\n",
            "450:\tlearn: 0.4085692\ttotal: 420ms\tremaining: 511ms\n",
            "451:\tlearn: 0.4082303\ttotal: 421ms\tremaining: 510ms\n",
            "452:\tlearn: 0.4080539\ttotal: 422ms\tremaining: 509ms\n",
            "453:\tlearn: 0.4076896\ttotal: 423ms\tremaining: 508ms\n",
            "454:\tlearn: 0.4073492\ttotal: 423ms\tremaining: 507ms\n",
            "455:\tlearn: 0.4071920\ttotal: 424ms\tremaining: 506ms\n",
            "456:\tlearn: 0.4069666\ttotal: 425ms\tremaining: 505ms\n",
            "457:\tlearn: 0.4067803\ttotal: 426ms\tremaining: 504ms\n",
            "458:\tlearn: 0.4062525\ttotal: 427ms\tremaining: 503ms\n",
            "459:\tlearn: 0.4059390\ttotal: 428ms\tremaining: 502ms\n",
            "460:\tlearn: 0.4055812\ttotal: 429ms\tremaining: 501ms\n",
            "461:\tlearn: 0.4052408\ttotal: 430ms\tremaining: 500ms\n",
            "462:\tlearn: 0.4052406\ttotal: 430ms\tremaining: 499ms\n",
            "463:\tlearn: 0.4049801\ttotal: 431ms\tremaining: 498ms\n",
            "464:\tlearn: 0.4046454\ttotal: 432ms\tremaining: 497ms\n",
            "465:\tlearn: 0.4043066\ttotal: 433ms\tremaining: 496ms\n",
            "466:\tlearn: 0.4039357\ttotal: 434ms\tremaining: 495ms\n",
            "467:\tlearn: 0.4037222\ttotal: 435ms\tremaining: 494ms\n",
            "468:\tlearn: 0.4032542\ttotal: 435ms\tremaining: 493ms\n",
            "469:\tlearn: 0.4029396\ttotal: 436ms\tremaining: 492ms\n",
            "470:\tlearn: 0.4025477\ttotal: 437ms\tremaining: 491ms\n",
            "471:\tlearn: 0.4021472\ttotal: 438ms\tremaining: 490ms\n",
            "472:\tlearn: 0.4018419\ttotal: 439ms\tremaining: 489ms\n",
            "473:\tlearn: 0.4015570\ttotal: 440ms\tremaining: 488ms\n",
            "474:\tlearn: 0.4012966\ttotal: 441ms\tremaining: 487ms\n",
            "475:\tlearn: 0.4010325\ttotal: 442ms\tremaining: 486ms\n",
            "476:\tlearn: 0.4007829\ttotal: 442ms\tremaining: 485ms\n",
            "477:\tlearn: 0.4002796\ttotal: 443ms\tremaining: 484ms\n",
            "478:\tlearn: 0.4000482\ttotal: 444ms\tremaining: 483ms\n",
            "479:\tlearn: 0.4000146\ttotal: 445ms\tremaining: 482ms\n",
            "480:\tlearn: 0.3996598\ttotal: 446ms\tremaining: 481ms\n",
            "481:\tlearn: 0.3992042\ttotal: 447ms\tremaining: 480ms\n",
            "482:\tlearn: 0.3989521\ttotal: 448ms\tremaining: 479ms\n",
            "483:\tlearn: 0.3989124\ttotal: 448ms\tremaining: 478ms\n",
            "484:\tlearn: 0.3986389\ttotal: 449ms\tremaining: 477ms\n",
            "485:\tlearn: 0.3983937\ttotal: 450ms\tremaining: 476ms\n",
            "486:\tlearn: 0.3980989\ttotal: 451ms\tremaining: 475ms\n",
            "487:\tlearn: 0.3977736\ttotal: 452ms\tremaining: 474ms\n",
            "488:\tlearn: 0.3973561\ttotal: 453ms\tremaining: 473ms\n",
            "489:\tlearn: 0.3971261\ttotal: 454ms\tremaining: 472ms\n",
            "490:\tlearn: 0.3967697\ttotal: 455ms\tremaining: 471ms\n",
            "491:\tlearn: 0.3965427\ttotal: 455ms\tremaining: 470ms\n",
            "492:\tlearn: 0.3963459\ttotal: 456ms\tremaining: 469ms\n",
            "493:\tlearn: 0.3960803\ttotal: 457ms\tremaining: 468ms\n",
            "494:\tlearn: 0.3959214\ttotal: 458ms\tremaining: 467ms\n",
            "495:\tlearn: 0.3957969\ttotal: 459ms\tremaining: 466ms\n",
            "496:\tlearn: 0.3956068\ttotal: 460ms\tremaining: 465ms\n",
            "497:\tlearn: 0.3955781\ttotal: 461ms\tremaining: 464ms\n",
            "498:\tlearn: 0.3954196\ttotal: 461ms\tremaining: 463ms\n",
            "499:\tlearn: 0.3952188\ttotal: 462ms\tremaining: 462ms\n",
            "500:\tlearn: 0.3949584\ttotal: 463ms\tremaining: 461ms\n",
            "501:\tlearn: 0.3948043\ttotal: 464ms\tremaining: 460ms\n",
            "502:\tlearn: 0.3946349\ttotal: 465ms\tremaining: 459ms\n",
            "503:\tlearn: 0.3943785\ttotal: 466ms\tremaining: 458ms\n",
            "504:\tlearn: 0.3941553\ttotal: 467ms\tremaining: 457ms\n",
            "505:\tlearn: 0.3939825\ttotal: 468ms\tremaining: 456ms\n",
            "506:\tlearn: 0.3936249\ttotal: 468ms\tremaining: 456ms\n",
            "507:\tlearn: 0.3933085\ttotal: 469ms\tremaining: 455ms\n",
            "508:\tlearn: 0.3929496\ttotal: 470ms\tremaining: 454ms\n",
            "509:\tlearn: 0.3924760\ttotal: 471ms\tremaining: 453ms\n",
            "510:\tlearn: 0.3919291\ttotal: 472ms\tremaining: 452ms\n",
            "511:\tlearn: 0.3915873\ttotal: 473ms\tremaining: 451ms\n",
            "512:\tlearn: 0.3912767\ttotal: 474ms\tremaining: 450ms\n",
            "513:\tlearn: 0.3908860\ttotal: 475ms\tremaining: 449ms\n",
            "514:\tlearn: 0.3906826\ttotal: 476ms\tremaining: 448ms\n",
            "515:\tlearn: 0.3904366\ttotal: 476ms\tremaining: 447ms\n",
            "516:\tlearn: 0.3900480\ttotal: 477ms\tremaining: 446ms\n",
            "517:\tlearn: 0.3896622\ttotal: 478ms\tremaining: 445ms\n",
            "518:\tlearn: 0.3893815\ttotal: 479ms\tremaining: 444ms\n",
            "519:\tlearn: 0.3890142\ttotal: 480ms\tremaining: 443ms\n",
            "520:\tlearn: 0.3884860\ttotal: 481ms\tremaining: 442ms\n",
            "521:\tlearn: 0.3881100\ttotal: 482ms\tremaining: 441ms\n",
            "522:\tlearn: 0.3878547\ttotal: 483ms\tremaining: 440ms\n",
            "523:\tlearn: 0.3876404\ttotal: 484ms\tremaining: 439ms\n",
            "524:\tlearn: 0.3874517\ttotal: 484ms\tremaining: 438ms\n",
            "525:\tlearn: 0.3872823\ttotal: 485ms\tremaining: 437ms\n",
            "526:\tlearn: 0.3870329\ttotal: 486ms\tremaining: 436ms\n",
            "527:\tlearn: 0.3868144\ttotal: 487ms\tremaining: 435ms\n",
            "528:\tlearn: 0.3865262\ttotal: 488ms\tremaining: 435ms\n",
            "529:\tlearn: 0.3863384\ttotal: 489ms\tremaining: 434ms\n",
            "530:\tlearn: 0.3861474\ttotal: 490ms\tremaining: 433ms\n",
            "531:\tlearn: 0.3859005\ttotal: 491ms\tremaining: 432ms\n",
            "532:\tlearn: 0.3856557\ttotal: 492ms\tremaining: 431ms\n",
            "533:\tlearn: 0.3854496\ttotal: 493ms\tremaining: 430ms\n",
            "534:\tlearn: 0.3851709\ttotal: 493ms\tremaining: 429ms\n",
            "535:\tlearn: 0.3848015\ttotal: 494ms\tremaining: 428ms\n",
            "536:\tlearn: 0.3845204\ttotal: 495ms\tremaining: 427ms\n",
            "537:\tlearn: 0.3843193\ttotal: 496ms\tremaining: 426ms\n",
            "538:\tlearn: 0.3840848\ttotal: 497ms\tremaining: 425ms\n",
            "539:\tlearn: 0.3838558\ttotal: 498ms\tremaining: 424ms\n",
            "540:\tlearn: 0.3834525\ttotal: 499ms\tremaining: 423ms\n",
            "541:\tlearn: 0.3830559\ttotal: 500ms\tremaining: 422ms\n",
            "542:\tlearn: 0.3828727\ttotal: 501ms\tremaining: 421ms\n",
            "543:\tlearn: 0.3826478\ttotal: 501ms\tremaining: 420ms\n",
            "544:\tlearn: 0.3825502\ttotal: 502ms\tremaining: 419ms\n",
            "545:\tlearn: 0.3823320\ttotal: 503ms\tremaining: 418ms\n",
            "546:\tlearn: 0.3821195\ttotal: 504ms\tremaining: 417ms\n",
            "547:\tlearn: 0.3820520\ttotal: 505ms\tremaining: 416ms\n",
            "548:\tlearn: 0.3816797\ttotal: 505ms\tremaining: 415ms\n",
            "549:\tlearn: 0.3815405\ttotal: 506ms\tremaining: 414ms\n",
            "550:\tlearn: 0.3813733\ttotal: 507ms\tremaining: 413ms\n",
            "551:\tlearn: 0.3810228\ttotal: 508ms\tremaining: 412ms\n",
            "552:\tlearn: 0.3808032\ttotal: 509ms\tremaining: 411ms\n",
            "553:\tlearn: 0.3805985\ttotal: 511ms\tremaining: 412ms\n",
            "554:\tlearn: 0.3803890\ttotal: 512ms\tremaining: 411ms\n",
            "555:\tlearn: 0.3801719\ttotal: 513ms\tremaining: 410ms\n",
            "556:\tlearn: 0.3798223\ttotal: 514ms\tremaining: 408ms\n",
            "557:\tlearn: 0.3795536\ttotal: 514ms\tremaining: 407ms\n",
            "558:\tlearn: 0.3793452\ttotal: 515ms\tremaining: 406ms\n",
            "559:\tlearn: 0.3791146\ttotal: 516ms\tremaining: 405ms\n",
            "560:\tlearn: 0.3787708\ttotal: 517ms\tremaining: 404ms\n",
            "561:\tlearn: 0.3784372\ttotal: 517ms\tremaining: 403ms\n",
            "562:\tlearn: 0.3780707\ttotal: 518ms\tremaining: 402ms\n",
            "563:\tlearn: 0.3777831\ttotal: 519ms\tremaining: 401ms\n",
            "564:\tlearn: 0.3775944\ttotal: 520ms\tremaining: 400ms\n",
            "565:\tlearn: 0.3772632\ttotal: 521ms\tremaining: 399ms\n",
            "566:\tlearn: 0.3768838\ttotal: 521ms\tremaining: 398ms\n",
            "567:\tlearn: 0.3767011\ttotal: 522ms\tremaining: 397ms\n",
            "568:\tlearn: 0.3764048\ttotal: 523ms\tremaining: 396ms\n",
            "569:\tlearn: 0.3760661\ttotal: 524ms\tremaining: 395ms\n",
            "570:\tlearn: 0.3758630\ttotal: 525ms\tremaining: 394ms\n",
            "571:\tlearn: 0.3756546\ttotal: 535ms\tremaining: 400ms\n",
            "572:\tlearn: 0.3753428\ttotal: 538ms\tremaining: 401ms\n",
            "573:\tlearn: 0.3750621\ttotal: 538ms\tremaining: 400ms\n",
            "574:\tlearn: 0.3747661\ttotal: 540ms\tremaining: 399ms\n",
            "575:\tlearn: 0.3745138\ttotal: 541ms\tremaining: 398ms\n",
            "576:\tlearn: 0.3743113\ttotal: 542ms\tremaining: 397ms\n",
            "577:\tlearn: 0.3737874\ttotal: 543ms\tremaining: 396ms\n",
            "578:\tlearn: 0.3735005\ttotal: 544ms\tremaining: 395ms\n",
            "579:\tlearn: 0.3731785\ttotal: 544ms\tremaining: 394ms\n",
            "580:\tlearn: 0.3730045\ttotal: 545ms\tremaining: 393ms\n",
            "581:\tlearn: 0.3725191\ttotal: 546ms\tremaining: 392ms\n",
            "582:\tlearn: 0.3722061\ttotal: 547ms\tremaining: 391ms\n",
            "583:\tlearn: 0.3720193\ttotal: 548ms\tremaining: 390ms\n",
            "584:\tlearn: 0.3718278\ttotal: 549ms\tremaining: 389ms\n",
            "585:\tlearn: 0.3716428\ttotal: 550ms\tremaining: 388ms\n",
            "586:\tlearn: 0.3713288\ttotal: 551ms\tremaining: 387ms\n",
            "587:\tlearn: 0.3711024\ttotal: 552ms\tremaining: 386ms\n",
            "588:\tlearn: 0.3709386\ttotal: 552ms\tremaining: 385ms\n",
            "589:\tlearn: 0.3707411\ttotal: 553ms\tremaining: 384ms\n",
            "590:\tlearn: 0.3704713\ttotal: 554ms\tremaining: 384ms\n",
            "591:\tlearn: 0.3702319\ttotal: 555ms\tremaining: 383ms\n",
            "592:\tlearn: 0.3699607\ttotal: 556ms\tremaining: 382ms\n",
            "593:\tlearn: 0.3697418\ttotal: 557ms\tremaining: 381ms\n",
            "594:\tlearn: 0.3696046\ttotal: 558ms\tremaining: 380ms\n",
            "595:\tlearn: 0.3693427\ttotal: 559ms\tremaining: 379ms\n",
            "596:\tlearn: 0.3691189\ttotal: 559ms\tremaining: 378ms\n",
            "597:\tlearn: 0.3689446\ttotal: 560ms\tremaining: 377ms\n",
            "598:\tlearn: 0.3688433\ttotal: 561ms\tremaining: 376ms\n",
            "599:\tlearn: 0.3685644\ttotal: 562ms\tremaining: 375ms\n",
            "600:\tlearn: 0.3682327\ttotal: 563ms\tremaining: 374ms\n",
            "601:\tlearn: 0.3680250\ttotal: 564ms\tremaining: 373ms\n",
            "602:\tlearn: 0.3674091\ttotal: 565ms\tremaining: 372ms\n",
            "603:\tlearn: 0.3672737\ttotal: 566ms\tremaining: 371ms\n",
            "604:\tlearn: 0.3670419\ttotal: 566ms\tremaining: 370ms\n",
            "605:\tlearn: 0.3668195\ttotal: 567ms\tremaining: 369ms\n",
            "606:\tlearn: 0.3664879\ttotal: 568ms\tremaining: 368ms\n",
            "607:\tlearn: 0.3661475\ttotal: 569ms\tremaining: 367ms\n",
            "608:\tlearn: 0.3658575\ttotal: 570ms\tremaining: 366ms\n",
            "609:\tlearn: 0.3655272\ttotal: 571ms\tremaining: 365ms\n",
            "610:\tlearn: 0.3652063\ttotal: 572ms\tremaining: 364ms\n",
            "611:\tlearn: 0.3648741\ttotal: 573ms\tremaining: 363ms\n",
            "612:\tlearn: 0.3646692\ttotal: 574ms\tremaining: 362ms\n",
            "613:\tlearn: 0.3643543\ttotal: 575ms\tremaining: 361ms\n",
            "614:\tlearn: 0.3643502\ttotal: 575ms\tremaining: 360ms\n",
            "615:\tlearn: 0.3640616\ttotal: 576ms\tremaining: 359ms\n",
            "616:\tlearn: 0.3637037\ttotal: 577ms\tremaining: 358ms\n",
            "617:\tlearn: 0.3634706\ttotal: 578ms\tremaining: 357ms\n",
            "618:\tlearn: 0.3630530\ttotal: 579ms\tremaining: 356ms\n",
            "619:\tlearn: 0.3628203\ttotal: 579ms\tremaining: 355ms\n",
            "620:\tlearn: 0.3625494\ttotal: 580ms\tremaining: 354ms\n",
            "621:\tlearn: 0.3620599\ttotal: 581ms\tremaining: 353ms\n",
            "622:\tlearn: 0.3618082\ttotal: 582ms\tremaining: 352ms\n",
            "623:\tlearn: 0.3615010\ttotal: 583ms\tremaining: 351ms\n",
            "624:\tlearn: 0.3612615\ttotal: 584ms\tremaining: 350ms\n",
            "625:\tlearn: 0.3609858\ttotal: 585ms\tremaining: 349ms\n",
            "626:\tlearn: 0.3608497\ttotal: 586ms\tremaining: 348ms\n",
            "627:\tlearn: 0.3606354\ttotal: 587ms\tremaining: 348ms\n",
            "628:\tlearn: 0.3602339\ttotal: 589ms\tremaining: 347ms\n",
            "629:\tlearn: 0.3601105\ttotal: 590ms\tremaining: 346ms\n",
            "630:\tlearn: 0.3597301\ttotal: 590ms\tremaining: 345ms\n",
            "631:\tlearn: 0.3593987\ttotal: 591ms\tremaining: 344ms\n",
            "632:\tlearn: 0.3591173\ttotal: 592ms\tremaining: 343ms\n",
            "633:\tlearn: 0.3588584\ttotal: 593ms\tremaining: 342ms\n",
            "634:\tlearn: 0.3585930\ttotal: 594ms\tremaining: 341ms\n",
            "635:\tlearn: 0.3583111\ttotal: 595ms\tremaining: 341ms\n",
            "636:\tlearn: 0.3580050\ttotal: 596ms\tremaining: 340ms\n",
            "637:\tlearn: 0.3577874\ttotal: 597ms\tremaining: 339ms\n",
            "638:\tlearn: 0.3575373\ttotal: 598ms\tremaining: 338ms\n",
            "639:\tlearn: 0.3573021\ttotal: 599ms\tremaining: 337ms\n",
            "640:\tlearn: 0.3571241\ttotal: 599ms\tremaining: 336ms\n",
            "641:\tlearn: 0.3569769\ttotal: 600ms\tremaining: 335ms\n",
            "642:\tlearn: 0.3568532\ttotal: 601ms\tremaining: 334ms\n",
            "643:\tlearn: 0.3565737\ttotal: 602ms\tremaining: 333ms\n",
            "644:\tlearn: 0.3563674\ttotal: 603ms\tremaining: 332ms\n",
            "645:\tlearn: 0.3561791\ttotal: 604ms\tremaining: 331ms\n",
            "646:\tlearn: 0.3559988\ttotal: 605ms\tremaining: 330ms\n",
            "647:\tlearn: 0.3557747\ttotal: 606ms\tremaining: 329ms\n",
            "648:\tlearn: 0.3556072\ttotal: 607ms\tremaining: 328ms\n",
            "649:\tlearn: 0.3553703\ttotal: 608ms\tremaining: 327ms\n",
            "650:\tlearn: 0.3552350\ttotal: 608ms\tremaining: 326ms\n",
            "651:\tlearn: 0.3550802\ttotal: 609ms\tremaining: 325ms\n",
            "652:\tlearn: 0.3548700\ttotal: 610ms\tremaining: 324ms\n",
            "653:\tlearn: 0.3547015\ttotal: 611ms\tremaining: 323ms\n",
            "654:\tlearn: 0.3545174\ttotal: 612ms\tremaining: 322ms\n",
            "655:\tlearn: 0.3541570\ttotal: 613ms\tremaining: 321ms\n",
            "656:\tlearn: 0.3539904\ttotal: 614ms\tremaining: 320ms\n",
            "657:\tlearn: 0.3536415\ttotal: 615ms\tremaining: 320ms\n",
            "658:\tlearn: 0.3535113\ttotal: 616ms\tremaining: 319ms\n",
            "659:\tlearn: 0.3532617\ttotal: 617ms\tremaining: 318ms\n",
            "660:\tlearn: 0.3529814\ttotal: 617ms\tremaining: 317ms\n",
            "661:\tlearn: 0.3527939\ttotal: 618ms\tremaining: 316ms\n",
            "662:\tlearn: 0.3526284\ttotal: 619ms\tremaining: 315ms\n",
            "663:\tlearn: 0.3524137\ttotal: 620ms\tremaining: 314ms\n",
            "664:\tlearn: 0.3521941\ttotal: 624ms\tremaining: 314ms\n",
            "665:\tlearn: 0.3519797\ttotal: 625ms\tremaining: 313ms\n",
            "666:\tlearn: 0.3517766\ttotal: 626ms\tremaining: 313ms\n",
            "667:\tlearn: 0.3515059\ttotal: 627ms\tremaining: 312ms\n",
            "668:\tlearn: 0.3512268\ttotal: 628ms\tremaining: 311ms\n",
            "669:\tlearn: 0.3508997\ttotal: 629ms\tremaining: 310ms\n",
            "670:\tlearn: 0.3506752\ttotal: 630ms\tremaining: 309ms\n",
            "671:\tlearn: 0.3505022\ttotal: 631ms\tremaining: 308ms\n",
            "672:\tlearn: 0.3502454\ttotal: 632ms\tremaining: 307ms\n",
            "673:\tlearn: 0.3500824\ttotal: 632ms\tremaining: 306ms\n",
            "674:\tlearn: 0.3500581\ttotal: 633ms\tremaining: 305ms\n",
            "675:\tlearn: 0.3498276\ttotal: 634ms\tremaining: 304ms\n",
            "676:\tlearn: 0.3497958\ttotal: 634ms\tremaining: 303ms\n",
            "677:\tlearn: 0.3494670\ttotal: 635ms\tremaining: 302ms\n",
            "678:\tlearn: 0.3491684\ttotal: 636ms\tremaining: 301ms\n",
            "679:\tlearn: 0.3488883\ttotal: 637ms\tremaining: 300ms\n",
            "680:\tlearn: 0.3487087\ttotal: 637ms\tremaining: 298ms\n",
            "681:\tlearn: 0.3485335\ttotal: 638ms\tremaining: 298ms\n",
            "682:\tlearn: 0.3485087\ttotal: 639ms\tremaining: 297ms\n",
            "683:\tlearn: 0.3482907\ttotal: 640ms\tremaining: 296ms\n",
            "684:\tlearn: 0.3479271\ttotal: 644ms\tremaining: 296ms\n",
            "685:\tlearn: 0.3477790\ttotal: 645ms\tremaining: 295ms\n",
            "686:\tlearn: 0.3475659\ttotal: 647ms\tremaining: 295ms\n",
            "687:\tlearn: 0.3473291\ttotal: 648ms\tremaining: 294ms\n",
            "688:\tlearn: 0.3469423\ttotal: 649ms\tremaining: 293ms\n",
            "689:\tlearn: 0.3468144\ttotal: 650ms\tremaining: 292ms\n",
            "690:\tlearn: 0.3465239\ttotal: 655ms\tremaining: 293ms\n",
            "691:\tlearn: 0.3462810\ttotal: 658ms\tremaining: 293ms\n",
            "692:\tlearn: 0.3460417\ttotal: 658ms\tremaining: 292ms\n",
            "693:\tlearn: 0.3459758\ttotal: 659ms\tremaining: 291ms\n",
            "694:\tlearn: 0.3457418\ttotal: 660ms\tremaining: 290ms\n",
            "695:\tlearn: 0.3454922\ttotal: 661ms\tremaining: 289ms\n",
            "696:\tlearn: 0.3452653\ttotal: 662ms\tremaining: 288ms\n",
            "697:\tlearn: 0.3449531\ttotal: 663ms\tremaining: 287ms\n",
            "698:\tlearn: 0.3447674\ttotal: 663ms\tremaining: 286ms\n",
            "699:\tlearn: 0.3445684\ttotal: 664ms\tremaining: 285ms\n",
            "700:\tlearn: 0.3444182\ttotal: 665ms\tremaining: 284ms\n",
            "701:\tlearn: 0.3443141\ttotal: 666ms\tremaining: 283ms\n",
            "702:\tlearn: 0.3440370\ttotal: 667ms\tremaining: 282ms\n",
            "703:\tlearn: 0.3437730\ttotal: 668ms\tremaining: 281ms\n",
            "704:\tlearn: 0.3437296\ttotal: 669ms\tremaining: 280ms\n",
            "705:\tlearn: 0.3435763\ttotal: 669ms\tremaining: 279ms\n",
            "706:\tlearn: 0.3433488\ttotal: 670ms\tremaining: 278ms\n",
            "707:\tlearn: 0.3431575\ttotal: 671ms\tremaining: 277ms\n",
            "708:\tlearn: 0.3429807\ttotal: 672ms\tremaining: 276ms\n",
            "709:\tlearn: 0.3427743\ttotal: 673ms\tremaining: 275ms\n",
            "710:\tlearn: 0.3424361\ttotal: 674ms\tremaining: 274ms\n",
            "711:\tlearn: 0.3421387\ttotal: 675ms\tremaining: 273ms\n",
            "712:\tlearn: 0.3419864\ttotal: 676ms\tremaining: 272ms\n",
            "713:\tlearn: 0.3418370\ttotal: 676ms\tremaining: 271ms\n",
            "714:\tlearn: 0.3416597\ttotal: 677ms\tremaining: 270ms\n",
            "715:\tlearn: 0.3414915\ttotal: 678ms\tremaining: 269ms\n",
            "716:\tlearn: 0.3413231\ttotal: 679ms\tremaining: 268ms\n",
            "717:\tlearn: 0.3410544\ttotal: 680ms\tremaining: 267ms\n",
            "718:\tlearn: 0.3409259\ttotal: 681ms\tremaining: 266ms\n",
            "719:\tlearn: 0.3406822\ttotal: 682ms\tremaining: 265ms\n",
            "720:\tlearn: 0.3404993\ttotal: 683ms\tremaining: 264ms\n",
            "721:\tlearn: 0.3401124\ttotal: 683ms\tremaining: 263ms\n",
            "722:\tlearn: 0.3399498\ttotal: 684ms\tremaining: 262ms\n",
            "723:\tlearn: 0.3397571\ttotal: 685ms\tremaining: 261ms\n",
            "724:\tlearn: 0.3395233\ttotal: 686ms\tremaining: 260ms\n",
            "725:\tlearn: 0.3393007\ttotal: 687ms\tremaining: 259ms\n",
            "726:\tlearn: 0.3390247\ttotal: 688ms\tremaining: 258ms\n",
            "727:\tlearn: 0.3389228\ttotal: 689ms\tremaining: 257ms\n",
            "728:\tlearn: 0.3385899\ttotal: 690ms\tremaining: 256ms\n",
            "729:\tlearn: 0.3381368\ttotal: 690ms\tremaining: 255ms\n",
            "730:\tlearn: 0.3377484\ttotal: 691ms\tremaining: 254ms\n",
            "731:\tlearn: 0.3375392\ttotal: 692ms\tremaining: 253ms\n",
            "732:\tlearn: 0.3373715\ttotal: 693ms\tremaining: 252ms\n",
            "733:\tlearn: 0.3371891\ttotal: 694ms\tremaining: 251ms\n",
            "734:\tlearn: 0.3369949\ttotal: 695ms\tremaining: 250ms\n",
            "735:\tlearn: 0.3366737\ttotal: 696ms\tremaining: 250ms\n",
            "736:\tlearn: 0.3364308\ttotal: 696ms\tremaining: 249ms\n",
            "737:\tlearn: 0.3362799\ttotal: 697ms\tremaining: 248ms\n",
            "738:\tlearn: 0.3360155\ttotal: 698ms\tremaining: 247ms\n",
            "739:\tlearn: 0.3359242\ttotal: 699ms\tremaining: 246ms\n",
            "740:\tlearn: 0.3357411\ttotal: 700ms\tremaining: 245ms\n",
            "741:\tlearn: 0.3354371\ttotal: 701ms\tremaining: 244ms\n",
            "742:\tlearn: 0.3352249\ttotal: 702ms\tremaining: 243ms\n",
            "743:\tlearn: 0.3349408\ttotal: 703ms\tremaining: 242ms\n",
            "744:\tlearn: 0.3347477\ttotal: 704ms\tremaining: 241ms\n",
            "745:\tlearn: 0.3344619\ttotal: 704ms\tremaining: 240ms\n",
            "746:\tlearn: 0.3342742\ttotal: 705ms\tremaining: 239ms\n",
            "747:\tlearn: 0.3341258\ttotal: 706ms\tremaining: 238ms\n",
            "748:\tlearn: 0.3338865\ttotal: 707ms\tremaining: 237ms\n",
            "749:\tlearn: 0.3337072\ttotal: 709ms\tremaining: 236ms\n",
            "750:\tlearn: 0.3333608\ttotal: 710ms\tremaining: 235ms\n",
            "751:\tlearn: 0.3331184\ttotal: 714ms\tremaining: 236ms\n",
            "752:\tlearn: 0.3329690\ttotal: 716ms\tremaining: 235ms\n",
            "753:\tlearn: 0.3328326\ttotal: 717ms\tremaining: 234ms\n",
            "754:\tlearn: 0.3326190\ttotal: 718ms\tremaining: 233ms\n",
            "755:\tlearn: 0.3323812\ttotal: 718ms\tremaining: 232ms\n",
            "756:\tlearn: 0.3322214\ttotal: 719ms\tremaining: 231ms\n",
            "757:\tlearn: 0.3317428\ttotal: 720ms\tremaining: 230ms\n",
            "758:\tlearn: 0.3315542\ttotal: 721ms\tremaining: 229ms\n",
            "759:\tlearn: 0.3313744\ttotal: 721ms\tremaining: 228ms\n",
            "760:\tlearn: 0.3310833\ttotal: 722ms\tremaining: 227ms\n",
            "761:\tlearn: 0.3308959\ttotal: 723ms\tremaining: 226ms\n",
            "762:\tlearn: 0.3306633\ttotal: 724ms\tremaining: 225ms\n",
            "763:\tlearn: 0.3305117\ttotal: 725ms\tremaining: 224ms\n",
            "764:\tlearn: 0.3303980\ttotal: 726ms\tremaining: 223ms\n",
            "765:\tlearn: 0.3299493\ttotal: 727ms\tremaining: 222ms\n",
            "766:\tlearn: 0.3297944\ttotal: 727ms\tremaining: 221ms\n",
            "767:\tlearn: 0.3296425\ttotal: 728ms\tremaining: 220ms\n",
            "768:\tlearn: 0.3293342\ttotal: 729ms\tremaining: 219ms\n",
            "769:\tlearn: 0.3291230\ttotal: 730ms\tremaining: 218ms\n",
            "770:\tlearn: 0.3289763\ttotal: 731ms\tremaining: 217ms\n",
            "771:\tlearn: 0.3287627\ttotal: 731ms\tremaining: 216ms\n",
            "772:\tlearn: 0.3285514\ttotal: 732ms\tremaining: 215ms\n",
            "773:\tlearn: 0.3283642\ttotal: 733ms\tremaining: 214ms\n",
            "774:\tlearn: 0.3280841\ttotal: 734ms\tremaining: 213ms\n",
            "775:\tlearn: 0.3278404\ttotal: 735ms\tremaining: 212ms\n",
            "776:\tlearn: 0.3277235\ttotal: 736ms\tremaining: 211ms\n",
            "777:\tlearn: 0.3276017\ttotal: 737ms\tremaining: 210ms\n",
            "778:\tlearn: 0.3272032\ttotal: 738ms\tremaining: 209ms\n",
            "779:\tlearn: 0.3269745\ttotal: 738ms\tremaining: 208ms\n",
            "780:\tlearn: 0.3267003\ttotal: 739ms\tremaining: 207ms\n",
            "781:\tlearn: 0.3263471\ttotal: 740ms\tremaining: 206ms\n",
            "782:\tlearn: 0.3262365\ttotal: 741ms\tremaining: 205ms\n",
            "783:\tlearn: 0.3260991\ttotal: 742ms\tremaining: 204ms\n",
            "784:\tlearn: 0.3258032\ttotal: 743ms\tremaining: 203ms\n",
            "785:\tlearn: 0.3255797\ttotal: 744ms\tremaining: 202ms\n",
            "786:\tlearn: 0.3252228\ttotal: 744ms\tremaining: 201ms\n",
            "787:\tlearn: 0.3250623\ttotal: 745ms\tremaining: 201ms\n",
            "788:\tlearn: 0.3249255\ttotal: 747ms\tremaining: 200ms\n",
            "789:\tlearn: 0.3245444\ttotal: 749ms\tremaining: 199ms\n",
            "790:\tlearn: 0.3243260\ttotal: 755ms\tremaining: 199ms\n",
            "791:\tlearn: 0.3240425\ttotal: 755ms\tremaining: 198ms\n",
            "792:\tlearn: 0.3238986\ttotal: 756ms\tremaining: 197ms\n",
            "793:\tlearn: 0.3236398\ttotal: 758ms\tremaining: 197ms\n",
            "794:\tlearn: 0.3234419\ttotal: 759ms\tremaining: 196ms\n",
            "795:\tlearn: 0.3232474\ttotal: 760ms\tremaining: 195ms\n",
            "796:\tlearn: 0.3230341\ttotal: 761ms\tremaining: 194ms\n",
            "797:\tlearn: 0.3227194\ttotal: 762ms\tremaining: 193ms\n",
            "798:\tlearn: 0.3225027\ttotal: 763ms\tremaining: 192ms\n",
            "799:\tlearn: 0.3221891\ttotal: 763ms\tremaining: 191ms\n",
            "800:\tlearn: 0.3219722\ttotal: 765ms\tremaining: 190ms\n",
            "801:\tlearn: 0.3218111\ttotal: 765ms\tremaining: 189ms\n",
            "802:\tlearn: 0.3216201\ttotal: 766ms\tremaining: 188ms\n",
            "803:\tlearn: 0.3213978\ttotal: 767ms\tremaining: 187ms\n",
            "804:\tlearn: 0.3211181\ttotal: 768ms\tremaining: 186ms\n",
            "805:\tlearn: 0.3208341\ttotal: 769ms\tremaining: 185ms\n",
            "806:\tlearn: 0.3206874\ttotal: 770ms\tremaining: 184ms\n",
            "807:\tlearn: 0.3204743\ttotal: 771ms\tremaining: 183ms\n",
            "808:\tlearn: 0.3202071\ttotal: 772ms\tremaining: 182ms\n",
            "809:\tlearn: 0.3200125\ttotal: 773ms\tremaining: 181ms\n",
            "810:\tlearn: 0.3198366\ttotal: 774ms\tremaining: 180ms\n",
            "811:\tlearn: 0.3196067\ttotal: 774ms\tremaining: 179ms\n",
            "812:\tlearn: 0.3195040\ttotal: 775ms\tremaining: 178ms\n",
            "813:\tlearn: 0.3193254\ttotal: 776ms\tremaining: 177ms\n",
            "814:\tlearn: 0.3191221\ttotal: 777ms\tremaining: 176ms\n",
            "815:\tlearn: 0.3188490\ttotal: 778ms\tremaining: 175ms\n",
            "816:\tlearn: 0.3186472\ttotal: 779ms\tremaining: 174ms\n",
            "817:\tlearn: 0.3184914\ttotal: 780ms\tremaining: 173ms\n",
            "818:\tlearn: 0.3183822\ttotal: 780ms\tremaining: 172ms\n",
            "819:\tlearn: 0.3180769\ttotal: 781ms\tremaining: 171ms\n",
            "820:\tlearn: 0.3179157\ttotal: 782ms\tremaining: 170ms\n",
            "821:\tlearn: 0.3175952\ttotal: 783ms\tremaining: 170ms\n",
            "822:\tlearn: 0.3174302\ttotal: 784ms\tremaining: 169ms\n",
            "823:\tlearn: 0.3170909\ttotal: 785ms\tremaining: 168ms\n",
            "824:\tlearn: 0.3168195\ttotal: 785ms\tremaining: 167ms\n",
            "825:\tlearn: 0.3166837\ttotal: 786ms\tremaining: 166ms\n",
            "826:\tlearn: 0.3164181\ttotal: 787ms\tremaining: 165ms\n",
            "827:\tlearn: 0.3162347\ttotal: 788ms\tremaining: 164ms\n",
            "828:\tlearn: 0.3160230\ttotal: 789ms\tremaining: 163ms\n",
            "829:\tlearn: 0.3159022\ttotal: 790ms\tremaining: 162ms\n",
            "830:\tlearn: 0.3155634\ttotal: 790ms\tremaining: 161ms\n",
            "831:\tlearn: 0.3153275\ttotal: 791ms\tremaining: 160ms\n",
            "832:\tlearn: 0.3151266\ttotal: 792ms\tremaining: 159ms\n",
            "833:\tlearn: 0.3148307\ttotal: 793ms\tremaining: 158ms\n",
            "834:\tlearn: 0.3146263\ttotal: 794ms\tremaining: 157ms\n",
            "835:\tlearn: 0.3142980\ttotal: 795ms\tremaining: 156ms\n",
            "836:\tlearn: 0.3138969\ttotal: 796ms\tremaining: 155ms\n",
            "837:\tlearn: 0.3136787\ttotal: 797ms\tremaining: 154ms\n",
            "838:\tlearn: 0.3135449\ttotal: 797ms\tremaining: 153ms\n",
            "839:\tlearn: 0.3133153\ttotal: 798ms\tremaining: 152ms\n",
            "840:\tlearn: 0.3131005\ttotal: 799ms\tremaining: 151ms\n",
            "841:\tlearn: 0.3128790\ttotal: 800ms\tremaining: 150ms\n",
            "842:\tlearn: 0.3126088\ttotal: 801ms\tremaining: 149ms\n",
            "843:\tlearn: 0.3124223\ttotal: 802ms\tremaining: 148ms\n",
            "844:\tlearn: 0.3122878\ttotal: 803ms\tremaining: 147ms\n",
            "845:\tlearn: 0.3121516\ttotal: 804ms\tremaining: 146ms\n",
            "846:\tlearn: 0.3119548\ttotal: 805ms\tremaining: 145ms\n",
            "847:\tlearn: 0.3118160\ttotal: 806ms\tremaining: 144ms\n",
            "848:\tlearn: 0.3116420\ttotal: 807ms\tremaining: 144ms\n",
            "849:\tlearn: 0.3114712\ttotal: 808ms\tremaining: 143ms\n",
            "850:\tlearn: 0.3112052\ttotal: 810ms\tremaining: 142ms\n",
            "851:\tlearn: 0.3109025\ttotal: 810ms\tremaining: 141ms\n",
            "852:\tlearn: 0.3106370\ttotal: 811ms\tremaining: 140ms\n",
            "853:\tlearn: 0.3103945\ttotal: 812ms\tremaining: 139ms\n",
            "854:\tlearn: 0.3100977\ttotal: 813ms\tremaining: 138ms\n",
            "855:\tlearn: 0.3099198\ttotal: 814ms\tremaining: 137ms\n",
            "856:\tlearn: 0.3097715\ttotal: 815ms\tremaining: 136ms\n",
            "857:\tlearn: 0.3095287\ttotal: 816ms\tremaining: 135ms\n",
            "858:\tlearn: 0.3092576\ttotal: 817ms\tremaining: 134ms\n",
            "859:\tlearn: 0.3089019\ttotal: 817ms\tremaining: 133ms\n",
            "860:\tlearn: 0.3086740\ttotal: 818ms\tremaining: 132ms\n",
            "861:\tlearn: 0.3084523\ttotal: 819ms\tremaining: 131ms\n",
            "862:\tlearn: 0.3082382\ttotal: 820ms\tremaining: 130ms\n",
            "863:\tlearn: 0.3079353\ttotal: 821ms\tremaining: 129ms\n",
            "864:\tlearn: 0.3077489\ttotal: 822ms\tremaining: 128ms\n",
            "865:\tlearn: 0.3075483\ttotal: 823ms\tremaining: 127ms\n",
            "866:\tlearn: 0.3073793\ttotal: 824ms\tremaining: 126ms\n",
            "867:\tlearn: 0.3071986\ttotal: 825ms\tremaining: 125ms\n",
            "868:\tlearn: 0.3069781\ttotal: 826ms\tremaining: 124ms\n",
            "869:\tlearn: 0.3067321\ttotal: 826ms\tremaining: 123ms\n",
            "870:\tlearn: 0.3064346\ttotal: 827ms\tremaining: 123ms\n",
            "871:\tlearn: 0.3061827\ttotal: 828ms\tremaining: 122ms\n",
            "872:\tlearn: 0.3059856\ttotal: 829ms\tremaining: 121ms\n",
            "873:\tlearn: 0.3057608\ttotal: 830ms\tremaining: 120ms\n",
            "874:\tlearn: 0.3054635\ttotal: 831ms\tremaining: 119ms\n",
            "875:\tlearn: 0.3052287\ttotal: 831ms\tremaining: 118ms\n",
            "876:\tlearn: 0.3050280\ttotal: 832ms\tremaining: 117ms\n",
            "877:\tlearn: 0.3048713\ttotal: 833ms\tremaining: 116ms\n",
            "878:\tlearn: 0.3047366\ttotal: 834ms\tremaining: 115ms\n",
            "879:\tlearn: 0.3043606\ttotal: 835ms\tremaining: 114ms\n",
            "880:\tlearn: 0.3040552\ttotal: 836ms\tremaining: 113ms\n",
            "881:\tlearn: 0.3038963\ttotal: 837ms\tremaining: 112ms\n",
            "882:\tlearn: 0.3036699\ttotal: 838ms\tremaining: 111ms\n",
            "883:\tlearn: 0.3035334\ttotal: 839ms\tremaining: 110ms\n",
            "884:\tlearn: 0.3032713\ttotal: 839ms\tremaining: 109ms\n",
            "885:\tlearn: 0.3030484\ttotal: 840ms\tremaining: 108ms\n",
            "886:\tlearn: 0.3029956\ttotal: 841ms\tremaining: 107ms\n",
            "887:\tlearn: 0.3027747\ttotal: 842ms\tremaining: 106ms\n",
            "888:\tlearn: 0.3024995\ttotal: 843ms\tremaining: 105ms\n",
            "889:\tlearn: 0.3022752\ttotal: 844ms\tremaining: 104ms\n",
            "890:\tlearn: 0.3021187\ttotal: 844ms\tremaining: 103ms\n",
            "891:\tlearn: 0.3019531\ttotal: 845ms\tremaining: 102ms\n",
            "892:\tlearn: 0.3016893\ttotal: 846ms\tremaining: 101ms\n",
            "893:\tlearn: 0.3015023\ttotal: 847ms\tremaining: 100ms\n",
            "894:\tlearn: 0.3011786\ttotal: 848ms\tremaining: 99.5ms\n",
            "895:\tlearn: 0.3009048\ttotal: 849ms\tremaining: 98.5ms\n",
            "896:\tlearn: 0.3006416\ttotal: 850ms\tremaining: 97.6ms\n",
            "897:\tlearn: 0.3003979\ttotal: 851ms\tremaining: 96.6ms\n",
            "898:\tlearn: 0.3002340\ttotal: 851ms\tremaining: 95.7ms\n",
            "899:\tlearn: 0.3000722\ttotal: 852ms\tremaining: 94.7ms\n",
            "900:\tlearn: 0.2998817\ttotal: 853ms\tremaining: 93.8ms\n",
            "901:\tlearn: 0.2996151\ttotal: 854ms\tremaining: 92.8ms\n",
            "902:\tlearn: 0.2993409\ttotal: 855ms\tremaining: 91.8ms\n",
            "903:\tlearn: 0.2989869\ttotal: 856ms\tremaining: 90.9ms\n",
            "904:\tlearn: 0.2986001\ttotal: 857ms\tremaining: 89.9ms\n",
            "905:\tlearn: 0.2985006\ttotal: 858ms\tremaining: 89ms\n",
            "906:\tlearn: 0.2982889\ttotal: 859ms\tremaining: 88ms\n",
            "907:\tlearn: 0.2980355\ttotal: 859ms\tremaining: 87.1ms\n",
            "908:\tlearn: 0.2978313\ttotal: 860ms\tremaining: 86.1ms\n",
            "909:\tlearn: 0.2976803\ttotal: 861ms\tremaining: 85.2ms\n",
            "910:\tlearn: 0.2975360\ttotal: 862ms\tremaining: 84.2ms\n",
            "911:\tlearn: 0.2973297\ttotal: 863ms\tremaining: 83.3ms\n",
            "912:\tlearn: 0.2971389\ttotal: 864ms\tremaining: 82.3ms\n",
            "913:\tlearn: 0.2969196\ttotal: 865ms\tremaining: 81.4ms\n",
            "914:\tlearn: 0.2966214\ttotal: 866ms\tremaining: 80.4ms\n",
            "915:\tlearn: 0.2964537\ttotal: 866ms\tremaining: 79.5ms\n",
            "916:\tlearn: 0.2962783\ttotal: 867ms\tremaining: 78.5ms\n",
            "917:\tlearn: 0.2960659\ttotal: 868ms\tremaining: 77.5ms\n",
            "918:\tlearn: 0.2958026\ttotal: 869ms\tremaining: 76.6ms\n",
            "919:\tlearn: 0.2956044\ttotal: 870ms\tremaining: 75.6ms\n",
            "920:\tlearn: 0.2953565\ttotal: 871ms\tremaining: 74.7ms\n",
            "921:\tlearn: 0.2950825\ttotal: 872ms\tremaining: 73.7ms\n",
            "922:\tlearn: 0.2949084\ttotal: 873ms\tremaining: 72.8ms\n",
            "923:\tlearn: 0.2947057\ttotal: 873ms\tremaining: 71.8ms\n",
            "924:\tlearn: 0.2944966\ttotal: 874ms\tremaining: 70.9ms\n",
            "925:\tlearn: 0.2943201\ttotal: 875ms\tremaining: 69.9ms\n",
            "926:\tlearn: 0.2941729\ttotal: 876ms\tremaining: 69ms\n",
            "927:\tlearn: 0.2939840\ttotal: 877ms\tremaining: 68ms\n",
            "928:\tlearn: 0.2936669\ttotal: 878ms\tremaining: 67.1ms\n",
            "929:\tlearn: 0.2934206\ttotal: 879ms\tremaining: 66.1ms\n",
            "930:\tlearn: 0.2931737\ttotal: 880ms\tremaining: 65.2ms\n",
            "931:\tlearn: 0.2930284\ttotal: 884ms\tremaining: 64.5ms\n",
            "932:\tlearn: 0.2928210\ttotal: 885ms\tremaining: 63.5ms\n",
            "933:\tlearn: 0.2925442\ttotal: 885ms\tremaining: 62.6ms\n",
            "934:\tlearn: 0.2922758\ttotal: 887ms\tremaining: 61.6ms\n",
            "935:\tlearn: 0.2921081\ttotal: 888ms\tremaining: 60.7ms\n",
            "936:\tlearn: 0.2919609\ttotal: 889ms\tremaining: 59.8ms\n",
            "937:\tlearn: 0.2918113\ttotal: 890ms\tremaining: 58.8ms\n",
            "938:\tlearn: 0.2916188\ttotal: 891ms\tremaining: 57.9ms\n",
            "939:\tlearn: 0.2914164\ttotal: 892ms\tremaining: 56.9ms\n",
            "940:\tlearn: 0.2912598\ttotal: 893ms\tremaining: 56ms\n",
            "941:\tlearn: 0.2909170\ttotal: 894ms\tremaining: 55ms\n",
            "942:\tlearn: 0.2905291\ttotal: 895ms\tremaining: 54.1ms\n",
            "943:\tlearn: 0.2903229\ttotal: 895ms\tremaining: 53.1ms\n",
            "944:\tlearn: 0.2902053\ttotal: 896ms\tremaining: 52.2ms\n",
            "945:\tlearn: 0.2900313\ttotal: 897ms\tremaining: 51.2ms\n",
            "946:\tlearn: 0.2898051\ttotal: 898ms\tremaining: 50.3ms\n",
            "947:\tlearn: 0.2896137\ttotal: 899ms\tremaining: 49.3ms\n",
            "948:\tlearn: 0.2893400\ttotal: 900ms\tremaining: 48.4ms\n",
            "949:\tlearn: 0.2890236\ttotal: 901ms\tremaining: 47.4ms\n",
            "950:\tlearn: 0.2887658\ttotal: 902ms\tremaining: 46.5ms\n",
            "951:\tlearn: 0.2885154\ttotal: 902ms\tremaining: 45.5ms\n",
            "952:\tlearn: 0.2883415\ttotal: 903ms\tremaining: 44.6ms\n",
            "953:\tlearn: 0.2881747\ttotal: 904ms\tremaining: 43.6ms\n",
            "954:\tlearn: 0.2879070\ttotal: 905ms\tremaining: 42.7ms\n",
            "955:\tlearn: 0.2876548\ttotal: 906ms\tremaining: 41.7ms\n",
            "956:\tlearn: 0.2873596\ttotal: 907ms\tremaining: 40.8ms\n",
            "957:\tlearn: 0.2871779\ttotal: 908ms\tremaining: 39.8ms\n",
            "958:\tlearn: 0.2870077\ttotal: 909ms\tremaining: 38.9ms\n",
            "959:\tlearn: 0.2868281\ttotal: 910ms\tremaining: 37.9ms\n",
            "960:\tlearn: 0.2864558\ttotal: 911ms\tremaining: 37ms\n",
            "961:\tlearn: 0.2862366\ttotal: 911ms\tremaining: 36ms\n",
            "962:\tlearn: 0.2859760\ttotal: 912ms\tremaining: 35.1ms\n",
            "963:\tlearn: 0.2857206\ttotal: 913ms\tremaining: 34.1ms\n",
            "964:\tlearn: 0.2855684\ttotal: 914ms\tremaining: 33.1ms\n",
            "965:\tlearn: 0.2853832\ttotal: 915ms\tremaining: 32.2ms\n",
            "966:\tlearn: 0.2852564\ttotal: 916ms\tremaining: 31.3ms\n",
            "967:\tlearn: 0.2849764\ttotal: 917ms\tremaining: 30.3ms\n",
            "968:\tlearn: 0.2848266\ttotal: 918ms\tremaining: 29.4ms\n",
            "969:\tlearn: 0.2846247\ttotal: 918ms\tremaining: 28.4ms\n",
            "970:\tlearn: 0.2843993\ttotal: 919ms\tremaining: 27.5ms\n",
            "971:\tlearn: 0.2841982\ttotal: 920ms\tremaining: 26.5ms\n",
            "972:\tlearn: 0.2840594\ttotal: 921ms\tremaining: 25.6ms\n",
            "973:\tlearn: 0.2838360\ttotal: 922ms\tremaining: 24.6ms\n",
            "974:\tlearn: 0.2836221\ttotal: 923ms\tremaining: 23.7ms\n",
            "975:\tlearn: 0.2834045\ttotal: 924ms\tremaining: 22.7ms\n",
            "976:\tlearn: 0.2831403\ttotal: 925ms\tremaining: 21.8ms\n",
            "977:\tlearn: 0.2827940\ttotal: 926ms\tremaining: 20.8ms\n",
            "978:\tlearn: 0.2825613\ttotal: 926ms\tremaining: 19.9ms\n",
            "979:\tlearn: 0.2824602\ttotal: 927ms\tremaining: 18.9ms\n",
            "980:\tlearn: 0.2823865\ttotal: 929ms\tremaining: 18ms\n",
            "981:\tlearn: 0.2822487\ttotal: 929ms\tremaining: 17ms\n",
            "982:\tlearn: 0.2820703\ttotal: 930ms\tremaining: 16.1ms\n",
            "983:\tlearn: 0.2818569\ttotal: 931ms\tremaining: 15.1ms\n",
            "984:\tlearn: 0.2815692\ttotal: 932ms\tremaining: 14.2ms\n",
            "985:\tlearn: 0.2812801\ttotal: 933ms\tremaining: 13.2ms\n",
            "986:\tlearn: 0.2809767\ttotal: 934ms\tremaining: 12.3ms\n",
            "987:\tlearn: 0.2807197\ttotal: 935ms\tremaining: 11.4ms\n",
            "988:\tlearn: 0.2805649\ttotal: 935ms\tremaining: 10.4ms\n",
            "989:\tlearn: 0.2803430\ttotal: 936ms\tremaining: 9.46ms\n",
            "990:\tlearn: 0.2801739\ttotal: 937ms\tremaining: 8.51ms\n",
            "991:\tlearn: 0.2799214\ttotal: 938ms\tremaining: 7.57ms\n",
            "992:\tlearn: 0.2797145\ttotal: 939ms\tremaining: 6.62ms\n",
            "993:\tlearn: 0.2796058\ttotal: 940ms\tremaining: 5.67ms\n",
            "994:\tlearn: 0.2793749\ttotal: 941ms\tremaining: 4.73ms\n",
            "995:\tlearn: 0.2791616\ttotal: 942ms\tremaining: 3.78ms\n",
            "996:\tlearn: 0.2789580\ttotal: 943ms\tremaining: 2.84ms\n",
            "997:\tlearn: 0.2786489\ttotal: 943ms\tremaining: 1.89ms\n",
            "998:\tlearn: 0.2784573\ttotal: 944ms\tremaining: 945us\n",
            "999:\tlearn: 0.2781387\ttotal: 945ms\tremaining: 0us\n"
          ]
        },
        {
          "output_type": "execute_result",
          "data": {
            "text/plain": [
              "<catboost.core.CatBoostClassifier at 0x7f56b66fcbb0>"
            ]
          },
          "metadata": {},
          "execution_count": 70
        }
      ]
    },
    {
      "cell_type": "code",
      "source": [
        "from sklearn.metrics import accuracy_score\n",
        "\n",
        "pred = model1.predict(Xtest)\n",
        "\n",
        "accuracy_score(ytest, pred)"
      ],
      "metadata": {
        "colab": {
          "base_uri": "https://localhost:8080/"
        },
        "id": "JPUadIxlcvI2",
        "outputId": "1970ae8d-f98e-4c5a-c5ab-2c452463f985"
      },
      "id": "JPUadIxlcvI2",
      "execution_count": 71,
      "outputs": [
        {
          "output_type": "execute_result",
          "data": {
            "text/plain": [
              "0.686"
            ]
          },
          "metadata": {},
          "execution_count": 71
        }
      ]
    },
    {
      "cell_type": "code",
      "source": [
        "from sklearn.model_selection import GridSearchCV\n",
        "\n",
        "params = {'max_depth' : np.arange(10,20,3),\n",
        "          'learning_rate' : [0.01, 0.05, 0.1],\n",
        "          'one_hot_max_size' : [10, 50, 100]}\n",
        "\n",
        "gs = GridSearchCV(CatBoostClassifier(n_estimators=100, cat_features = [0, 1, 4, 5, 6, 8, 9], verbose=0), params, cv=3, scoring='accuracy', verbose=2)\n",
        "\n",
        "gs.fit(Xtrain, ytrain)"
      ],
      "metadata": {
        "colab": {
          "base_uri": "https://localhost:8080/"
        },
        "id": "fdBAejMLdREd",
        "outputId": "98109536-68b8-4708-ec0c-c6214a516e54"
      },
      "id": "fdBAejMLdREd",
      "execution_count": 72,
      "outputs": [
        {
          "output_type": "stream",
          "name": "stdout",
          "text": [
            "Fitting 3 folds for each of 36 candidates, totalling 108 fits\n",
            "[CV] END learning_rate=0.01, max_depth=10, one_hot_max_size=10; total time=   0.2s\n",
            "[CV] END learning_rate=0.01, max_depth=10, one_hot_max_size=10; total time=   0.2s\n",
            "[CV] END learning_rate=0.01, max_depth=10, one_hot_max_size=10; total time=   0.2s\n",
            "[CV] END learning_rate=0.01, max_depth=10, one_hot_max_size=50; total time=   0.2s\n",
            "[CV] END learning_rate=0.01, max_depth=10, one_hot_max_size=50; total time=   0.2s\n",
            "[CV] END learning_rate=0.01, max_depth=10, one_hot_max_size=50; total time=   0.2s\n",
            "[CV] END learning_rate=0.01, max_depth=10, one_hot_max_size=100; total time=   0.2s\n",
            "[CV] END learning_rate=0.01, max_depth=10, one_hot_max_size=100; total time=   0.2s\n",
            "[CV] END learning_rate=0.01, max_depth=10, one_hot_max_size=100; total time=   0.2s\n",
            "[CV] END learning_rate=0.01, max_depth=13, one_hot_max_size=10; total time=   0.9s\n",
            "[CV] END learning_rate=0.01, max_depth=13, one_hot_max_size=10; total time=   0.8s\n",
            "[CV] END learning_rate=0.01, max_depth=13, one_hot_max_size=10; total time=   0.9s\n",
            "[CV] END learning_rate=0.01, max_depth=13, one_hot_max_size=50; total time=   0.9s\n",
            "[CV] END learning_rate=0.01, max_depth=13, one_hot_max_size=50; total time=   0.8s\n",
            "[CV] END learning_rate=0.01, max_depth=13, one_hot_max_size=50; total time=   0.8s\n",
            "[CV] END learning_rate=0.01, max_depth=13, one_hot_max_size=100; total time=   0.9s\n",
            "[CV] END learning_rate=0.01, max_depth=13, one_hot_max_size=100; total time=   0.8s\n",
            "[CV] END learning_rate=0.01, max_depth=13, one_hot_max_size=100; total time=   0.9s\n",
            "[CV] END learning_rate=0.01, max_depth=16, one_hot_max_size=10; total time=   4.4s\n",
            "[CV] END learning_rate=0.01, max_depth=16, one_hot_max_size=10; total time=   5.1s\n",
            "[CV] END learning_rate=0.01, max_depth=16, one_hot_max_size=10; total time=   4.7s\n",
            "[CV] END learning_rate=0.01, max_depth=16, one_hot_max_size=50; total time=   4.1s\n",
            "[CV] END learning_rate=0.01, max_depth=16, one_hot_max_size=50; total time=   5.0s\n",
            "[CV] END learning_rate=0.01, max_depth=16, one_hot_max_size=50; total time=   4.8s\n",
            "[CV] END learning_rate=0.01, max_depth=16, one_hot_max_size=100; total time=   4.2s\n",
            "[CV] END learning_rate=0.01, max_depth=16, one_hot_max_size=100; total time=   5.1s\n",
            "[CV] END learning_rate=0.01, max_depth=16, one_hot_max_size=100; total time=   4.8s\n",
            "[CV] END learning_rate=0.01, max_depth=19, one_hot_max_size=10; total time=   0.0s\n",
            "[CV] END learning_rate=0.01, max_depth=19, one_hot_max_size=10; total time=   0.0s\n",
            "[CV] END learning_rate=0.01, max_depth=19, one_hot_max_size=10; total time=   0.0s\n",
            "[CV] END learning_rate=0.01, max_depth=19, one_hot_max_size=50; total time=   0.0s\n",
            "[CV] END learning_rate=0.01, max_depth=19, one_hot_max_size=50; total time=   0.0s\n",
            "[CV] END learning_rate=0.01, max_depth=19, one_hot_max_size=50; total time=   0.0s\n",
            "[CV] END learning_rate=0.01, max_depth=19, one_hot_max_size=100; total time=   0.0s\n",
            "[CV] END learning_rate=0.01, max_depth=19, one_hot_max_size=100; total time=   0.0s\n",
            "[CV] END learning_rate=0.01, max_depth=19, one_hot_max_size=100; total time=   0.0s\n",
            "[CV] END learning_rate=0.05, max_depth=10, one_hot_max_size=10; total time=   0.2s\n",
            "[CV] END learning_rate=0.05, max_depth=10, one_hot_max_size=10; total time=   0.2s\n",
            "[CV] END learning_rate=0.05, max_depth=10, one_hot_max_size=10; total time=   0.2s\n",
            "[CV] END learning_rate=0.05, max_depth=10, one_hot_max_size=50; total time=   0.2s\n",
            "[CV] END learning_rate=0.05, max_depth=10, one_hot_max_size=50; total time=   0.2s\n",
            "[CV] END learning_rate=0.05, max_depth=10, one_hot_max_size=50; total time=   0.2s\n",
            "[CV] END learning_rate=0.05, max_depth=10, one_hot_max_size=100; total time=   0.2s\n",
            "[CV] END learning_rate=0.05, max_depth=10, one_hot_max_size=100; total time=   0.2s\n",
            "[CV] END learning_rate=0.05, max_depth=10, one_hot_max_size=100; total time=   0.2s\n",
            "[CV] END learning_rate=0.05, max_depth=13, one_hot_max_size=10; total time=   0.8s\n",
            "[CV] END learning_rate=0.05, max_depth=13, one_hot_max_size=10; total time=   0.9s\n",
            "[CV] END learning_rate=0.05, max_depth=13, one_hot_max_size=10; total time=   0.8s\n",
            "[CV] END learning_rate=0.05, max_depth=13, one_hot_max_size=50; total time=   0.8s\n",
            "[CV] END learning_rate=0.05, max_depth=13, one_hot_max_size=50; total time=   0.8s\n",
            "[CV] END learning_rate=0.05, max_depth=13, one_hot_max_size=50; total time=   0.8s\n",
            "[CV] END learning_rate=0.05, max_depth=13, one_hot_max_size=100; total time=   0.8s\n",
            "[CV] END learning_rate=0.05, max_depth=13, one_hot_max_size=100; total time=   0.8s\n",
            "[CV] END learning_rate=0.05, max_depth=13, one_hot_max_size=100; total time=   0.8s\n",
            "[CV] END learning_rate=0.05, max_depth=16, one_hot_max_size=10; total time=   4.7s\n",
            "[CV] END learning_rate=0.05, max_depth=16, one_hot_max_size=10; total time=   6.2s\n",
            "[CV] END learning_rate=0.05, max_depth=16, one_hot_max_size=10; total time=   4.3s\n",
            "[CV] END learning_rate=0.05, max_depth=16, one_hot_max_size=50; total time=   4.8s\n",
            "[CV] END learning_rate=0.05, max_depth=16, one_hot_max_size=50; total time=   4.9s\n",
            "[CV] END learning_rate=0.05, max_depth=16, one_hot_max_size=50; total time=   4.3s\n",
            "[CV] END learning_rate=0.05, max_depth=16, one_hot_max_size=100; total time=   4.8s\n",
            "[CV] END learning_rate=0.05, max_depth=16, one_hot_max_size=100; total time=   4.8s\n",
            "[CV] END learning_rate=0.05, max_depth=16, one_hot_max_size=100; total time=   4.3s\n",
            "[CV] END learning_rate=0.05, max_depth=19, one_hot_max_size=10; total time=   0.0s\n",
            "[CV] END learning_rate=0.05, max_depth=19, one_hot_max_size=10; total time=   0.0s\n",
            "[CV] END learning_rate=0.05, max_depth=19, one_hot_max_size=10; total time=   0.0s\n",
            "[CV] END learning_rate=0.05, max_depth=19, one_hot_max_size=50; total time=   0.0s\n",
            "[CV] END learning_rate=0.05, max_depth=19, one_hot_max_size=50; total time=   0.0s\n",
            "[CV] END learning_rate=0.05, max_depth=19, one_hot_max_size=50; total time=   0.0s\n",
            "[CV] END learning_rate=0.05, max_depth=19, one_hot_max_size=100; total time=   0.0s\n",
            "[CV] END learning_rate=0.05, max_depth=19, one_hot_max_size=100; total time=   0.0s\n",
            "[CV] END learning_rate=0.05, max_depth=19, one_hot_max_size=100; total time=   0.0s\n",
            "[CV] END learning_rate=0.1, max_depth=10, one_hot_max_size=10; total time=   0.2s\n",
            "[CV] END learning_rate=0.1, max_depth=10, one_hot_max_size=10; total time=   0.2s\n",
            "[CV] END learning_rate=0.1, max_depth=10, one_hot_max_size=10; total time=   0.2s\n",
            "[CV] END learning_rate=0.1, max_depth=10, one_hot_max_size=50; total time=   0.2s\n",
            "[CV] END learning_rate=0.1, max_depth=10, one_hot_max_size=50; total time=   0.2s\n",
            "[CV] END learning_rate=0.1, max_depth=10, one_hot_max_size=50; total time=   0.2s\n",
            "[CV] END learning_rate=0.1, max_depth=10, one_hot_max_size=100; total time=   0.2s\n",
            "[CV] END learning_rate=0.1, max_depth=10, one_hot_max_size=100; total time=   0.2s\n",
            "[CV] END learning_rate=0.1, max_depth=10, one_hot_max_size=100; total time=   0.2s\n",
            "[CV] END learning_rate=0.1, max_depth=13, one_hot_max_size=10; total time=   1.0s\n",
            "[CV] END learning_rate=0.1, max_depth=13, one_hot_max_size=10; total time=   0.9s\n",
            "[CV] END learning_rate=0.1, max_depth=13, one_hot_max_size=10; total time=   1.0s\n",
            "[CV] END learning_rate=0.1, max_depth=13, one_hot_max_size=50; total time=   1.0s\n",
            "[CV] END learning_rate=0.1, max_depth=13, one_hot_max_size=50; total time=   0.9s\n",
            "[CV] END learning_rate=0.1, max_depth=13, one_hot_max_size=50; total time=   1.0s\n",
            "[CV] END learning_rate=0.1, max_depth=13, one_hot_max_size=100; total time=   1.0s\n",
            "[CV] END learning_rate=0.1, max_depth=13, one_hot_max_size=100; total time=   0.9s\n",
            "[CV] END learning_rate=0.1, max_depth=13, one_hot_max_size=100; total time=   1.0s\n",
            "[CV] END learning_rate=0.1, max_depth=16, one_hot_max_size=10; total time=   6.3s\n",
            "[CV] END learning_rate=0.1, max_depth=16, one_hot_max_size=10; total time=   5.9s\n",
            "[CV] END learning_rate=0.1, max_depth=16, one_hot_max_size=10; total time=   6.1s\n",
            "[CV] END learning_rate=0.1, max_depth=16, one_hot_max_size=50; total time=   6.2s\n",
            "[CV] END learning_rate=0.1, max_depth=16, one_hot_max_size=50; total time=   5.9s\n",
            "[CV] END learning_rate=0.1, max_depth=16, one_hot_max_size=50; total time=   5.9s\n",
            "[CV] END learning_rate=0.1, max_depth=16, one_hot_max_size=100; total time=   6.3s\n",
            "[CV] END learning_rate=0.1, max_depth=16, one_hot_max_size=100; total time=   5.8s\n",
            "[CV] END learning_rate=0.1, max_depth=16, one_hot_max_size=100; total time=   6.0s\n",
            "[CV] END learning_rate=0.1, max_depth=19, one_hot_max_size=10; total time=   0.0s\n",
            "[CV] END learning_rate=0.1, max_depth=19, one_hot_max_size=10; total time=   0.0s\n",
            "[CV] END learning_rate=0.1, max_depth=19, one_hot_max_size=10; total time=   0.0s\n",
            "[CV] END learning_rate=0.1, max_depth=19, one_hot_max_size=50; total time=   0.0s\n",
            "[CV] END learning_rate=0.1, max_depth=19, one_hot_max_size=50; total time=   0.0s\n",
            "[CV] END learning_rate=0.1, max_depth=19, one_hot_max_size=50; total time=   0.0s\n",
            "[CV] END learning_rate=0.1, max_depth=19, one_hot_max_size=100; total time=   0.0s\n",
            "[CV] END learning_rate=0.1, max_depth=19, one_hot_max_size=100; total time=   0.0s\n",
            "[CV] END learning_rate=0.1, max_depth=19, one_hot_max_size=100; total time=   0.0s\n"
          ]
        },
        {
          "output_type": "execute_result",
          "data": {
            "text/plain": [
              "GridSearchCV(cv=3,\n",
              "             estimator=<catboost.core.CatBoostClassifier object at 0x7f56b65fcdf0>,\n",
              "             param_grid={'learning_rate': [0.01, 0.05, 0.1],\n",
              "                         'max_depth': array([10, 13, 16, 19]),\n",
              "                         'one_hot_max_size': [10, 50, 100]},\n",
              "             scoring='accuracy', verbose=2)"
            ]
          },
          "metadata": {},
          "execution_count": 72
        }
      ]
    },
    {
      "cell_type": "code",
      "source": [
        "gs.best_score_, gs.best_params_"
      ],
      "metadata": {
        "colab": {
          "base_uri": "https://localhost:8080/"
        },
        "id": "LcpiEtXOghpR",
        "outputId": "7a27313b-9632-44a4-e011-db4995bcc7ee"
      },
      "id": "LcpiEtXOghpR",
      "execution_count": 73,
      "outputs": [
        {
          "output_type": "execute_result",
          "data": {
            "text/plain": [
              "(0.6980496837650002,\n",
              " {'learning_rate': 0.01, 'max_depth': 13, 'one_hot_max_size': 10})"
            ]
          },
          "metadata": {},
          "execution_count": 73
        }
      ]
    },
    {
      "cell_type": "markdown",
      "source": [
        "## Оценка важности признаков\n",
        "\n",
        "[Статья](https://towardsdatascience.com/deep-dive-into-catboost-functionalities-for-model-interpretation-7cdef669aeed)"
      ],
      "metadata": {
        "id": "4TtLp6-YmC3b"
      },
      "id": "4TtLp6-YmC3b"
    },
    {
      "cell_type": "code",
      "source": [
        "from sklearn.metrics import log_loss\n",
        "\n",
        "def logloss(model, X, y): \n",
        "    return log_loss(y, model.predict_proba(X)[:,1])\n",
        "\n",
        "def permutation_importances(model, X, y, metric):\n",
        "    baseline = metric(model, X, y)\n",
        "    imp = []\n",
        "    for col in X.columns:\n",
        "        save = X[col].copy()\n",
        "        X[col] = np.random.permutation(X[col])\n",
        "        m = metric(model, X, y)\n",
        "        X[col] = save\n",
        "        imp.append(m-baseline)\n",
        "    return np.array(imp)"
      ],
      "metadata": {
        "id": "bp_X8EOtktVI"
      },
      "id": "bp_X8EOtktVI",
      "execution_count": 59,
      "outputs": []
    },
    {
      "cell_type": "code",
      "source": [
        "fi_1 = model1.feature_importances_\n",
        "\n",
        "feature_score = pd.DataFrame(list(zip(Xtest.dtypes.index, fi_1)),\n",
        "                                    columns=['Feature','Score'])\n",
        "\n",
        "feature_score = feature_score.sort_values(by='Score', ascending=False, inplace=False, kind='quicksort', na_position='last')\n",
        "\n",
        "plt.rcParams[\"figure.figsize\"] = (12,7)\n",
        "ax = feature_score.plot('Feature', 'Score', kind='bar', color='c')\n",
        "ax.set_title(\"Feature Importance using {}\".format('Standard Importances'), fontsize = 14)\n",
        "ax.set_xlabel(\"features\")\n",
        "plt.show()"
      ],
      "metadata": {
        "colab": {
          "base_uri": "https://localhost:8080/",
          "height": 545
        },
        "id": "cXsL0e3YlkBV",
        "outputId": "2ca061e3-1ab3-494b-9d8a-23740991e566"
      },
      "id": "cXsL0e3YlkBV",
      "execution_count": 63,
      "outputs": [
        {
          "output_type": "display_data",
          "data": {
            "text/plain": [
              "<Figure size 864x504 with 1 Axes>"
            ],
            "image/png": "[encoded data removed]"
          },
          "metadata": {
            "needs_background": "light"
          }
        }
      ]
    },
    {
      "cell_type": "code",
      "source": [
        "fi_2 = permutation_importances(model1, Xtest, ytest, logloss)\n",
        "    \n",
        "feature_score = pd.DataFrame(list(zip(Xtest.dtypes.index, fi_2)),\n",
        "                                    columns=['Feature','Score'])\n",
        "\n",
        "feature_score = feature_score.sort_values(by='Score', ascending=False, inplace=False, kind='quicksort', na_position='last')\n",
        "\n",
        "plt.rcParams[\"figure.figsize\"] = (12,7)\n",
        "ax = feature_score.plot('Feature', 'Score', kind='bar', color='c')\n",
        "ax.set_title(\"Feature Importance using {}\".format('Permutation Importances'), fontsize = 14)\n",
        "ax.set_xlabel(\"features\")\n",
        "plt.show()"
      ],
      "metadata": {
        "colab": {
          "base_uri": "https://localhost:8080/",
          "height": 545
        },
        "id": "fxHmM98SgnTg",
        "outputId": "6a70c533-9fed-4f06-a1f0-94e249833f7a"
      },
      "id": "fxHmM98SgnTg",
      "execution_count": 64,
      "outputs": [
        {
          "output_type": "display_data",
          "data": {
            "text/plain": [
              "<Figure size 864x504 with 1 Axes>"
            ],
            "image/png": "[encoded data removed]"
          },
          "metadata": {
            "needs_background": "light"
          }
        }
      ]
    },
    {
      "cell_type": "markdown",
      "id": "4f2c4337",
      "metadata": {
        "id": "4f2c4337"
      },
      "source": [
        "## Блендинг и стекинг"
      ]
    },
    {
      "cell_type": "markdown",
      "id": "2094c5c9",
      "metadata": {
        "id": "2094c5c9"
      },
      "source": [
        "В этом подходе предсказания строятся как взвешенная сумма базовых алгоритмов. \n",
        "\n",
        "Рассмотрим простой пример блендинга градиентного бустинга и линейной регрессии для датасете `load_boston` и оценкой качества через RMSE."
      ]
    },
    {
      "cell_type": "markdown",
      "id": "3b58dbb3",
      "metadata": {
        "id": "3b58dbb3"
      },
      "source": [
        "Поделим выборку на обучающую (60%), тестовую (20%) и валидационную (20%). "
      ]
    },
    {
      "cell_type": "code",
      "execution_count": null,
      "id": "10ac4334",
      "metadata": {
        "id": "10ac4334"
      },
      "outputs": [],
      "source": [
        "from sklearn.datasets import load_boston\n",
        "\n",
        "data = load_boston()\n",
        "X_init = pd.DataFrame(data.data, columns=data.feature_names)\n",
        "y_init = data.target\n",
        "\n",
        "X, X_test, y, y_test = train_test_split(X_init, y_init, test_size=0.2, random_state=42)\n",
        "X_train, X_val, y_train, y_val = train_test_split(X, y, test_size=0.25, random_state=42)\n",
        "\n",
        "assert X_init.shape[0] == X_train.shape[0] + X_val.shape[0] + X_test.shape[0]\n",
        "\n",
        "def rmse(y_true, y_pred):\n",
        "    error = (y_true - y_pred) ** 2\n",
        "    return np.sqrt(np.mean(error))"
      ]
    },
    {
      "cell_type": "markdown",
      "id": "a9a8f7c4",
      "metadata": {
        "id": "a9a8f7c4"
      },
      "source": [
        "Посмотрим, какое у нас качество у алгоритмов, если просто обучим на train и проверим качество на test:"
      ]
    },
    {
      "cell_type": "code",
      "execution_count": null,
      "id": "1d20c745",
      "metadata": {
        "id": "1d20c745",
        "outputId": "7a80cece-4c13-42e2-cc86-8480602e4c83"
      },
      "outputs": [
        {
          "name": "stdout",
          "output_type": "stream",
          "text": [
            "Test RMSE Linear Regression = 5.030\n",
            "Test RMSE Catboost = 5.706\n",
            "Test RMSE mix = 4.602\n"
          ]
        }
      ],
      "source": [
        "from catboost import CatBoostRegressor\n",
        "from sklearn.linear_model import LinearRegression\n",
        "\n",
        "cbm = CatBoostRegressor(iterations=100, max_depth=4, learning_rate=0.01, loss_function='RMSE', logging_level='Silent')\n",
        "cbm.fit(X_train, y_train)\n",
        "test_pred_cbm = cbm.predict(X_test)\n",
        "\n",
        "lr = LinearRegression()\n",
        "lr.fit(X_train, y_train)\n",
        "test_pred_lr = lr.predict(X_test)\n",
        "\n",
        "print(\"Test RMSE Linear Regression = %.3f\" % rmse(y_test, test_pred_lr))\n",
        "print(\"Test RMSE Catboost = %.3f\" % rmse(y_test, test_pred_cbm))\n",
        "\n",
        "pred = 0.7 * test_pred_lr + 0.3 * test_pred_cbm\n",
        "\n",
        "print(\"Test RMSE mix = %.3f\" % rmse(y_test, pred))"
      ]
    },
    {
      "cell_type": "markdown",
      "id": "7f1ce0cf",
      "metadata": {
        "id": "7f1ce0cf"
      },
      "source": [
        "Представим новый алгоритм $a(x)$ как взвешенную сумму из базовых алгоритмов:\n",
        "$$\n",
        "    a(x)\n",
        "    =\n",
        "    \\sum_{n = 1}^{N}\n",
        "    w_n b_n(x),\n",
        "$$\n",
        "где $\\sum_{n} w_n =1$ и нам нужно подобрать $w_n$. \n",
        "\n",
        "Сначала рассмотрим более простой случай, когда пробуем подбирать, с какими весами нам взять предсказания алгоритмов методом перебора пар весов (т.к. у нас только два алгоритма). \n",
        "\n",
        "Будем веса подбирать на валидации, а проверять качество на тесте."
      ]
    },
    {
      "cell_type": "code",
      "execution_count": null,
      "id": "c13c47e5",
      "metadata": {
        "id": "c13c47e5"
      },
      "outputs": [],
      "source": [
        "def select_weights(y_true, y_pred_1, y_pred_2):\n",
        "    grid = np.linspace(0, 1, 1000)\n",
        "    metric = []\n",
        "    for w_0 in grid:\n",
        "        w_1 = 1 - w_0\n",
        "        y_a = w_0 * y_pred_1 + w_1 * y_pred_2\n",
        "        metric.append([rmse(y_true, y_a), w_0, w_1])\n",
        "    return metric"
      ]
    },
    {
      "cell_type": "code",
      "execution_count": null,
      "id": "d41aa170",
      "metadata": {
        "id": "d41aa170",
        "outputId": "c7714a6f-8703-4b72-cc1c-5fa7ab6ce324"
      },
      "outputs": [
        {
          "data": {
            "text/plain": [
              "(4.572981570798132, 0.2552552552552553, 0.7447447447447447)"
            ]
          },
          "execution_count": 22,
          "metadata": {},
          "output_type": "execute_result"
        }
      ],
      "source": [
        "val_pred_cbm = cbm.predict(X_val)\n",
        "val_pred_lr = lr.predict(X_val)\n",
        "\n",
        "rmse_blending_train, w_0, w_1 = min(select_weights(y_val, val_pred_cbm, val_pred_lr), key=lambda x: x[0])\n",
        "rmse_blending_train, w_0, w_1 "
      ]
    },
    {
      "cell_type": "code",
      "execution_count": null,
      "id": "28629f70",
      "metadata": {
        "id": "28629f70",
        "outputId": "23ee9d8a-6728-4886-d5dd-a245388d6219"
      },
      "outputs": [
        {
          "data": {
            "text/plain": [
              "4.631"
            ]
          },
          "execution_count": 23,
          "metadata": {},
          "output_type": "execute_result"
        }
      ],
      "source": [
        "round(rmse(y_test, test_pred_cbm * w_0 +  test_pred_lr * w_1), 3)"
      ]
    },
    {
      "cell_type": "markdown",
      "id": "624fbd0e",
      "metadata": {
        "id": "624fbd0e"
      },
      "source": [
        "В данном случае видно, что нам с помощью блендинга с весами примерно 26% из градиентного бустинга и 74% из линейной регрессии удалось снизить ошибку на тесте до 4.63. "
      ]
    },
    {
      "cell_type": "markdown",
      "id": "d13d5996",
      "metadata": {
        "id": "d13d5996"
      },
      "source": [
        "Давайте теперь напишем классическую версию блендинга, который выполняется по следующей схеме. Возьмем обучающую и тестовую выборку и разделим обучающую выборку на две части. На первой части обучим базовые алгоритмы, на второй - обучим мета-алгоритм из предсказаний базовых алгоритмов, и потом получим предсказания тестовых мета-признаках. \n",
        "<img src='https://alexanderdyakonov.files.wordpress.com/2017/03/stacking.png?w=1400' width=600>"
      ]
    },
    {
      "cell_type": "markdown",
      "id": "ff547f31",
      "metadata": {
        "id": "ff547f31"
      },
      "source": [
        "Посмотрим на все шаги с самого начала, c момента загрузки исходных данных:"
      ]
    },
    {
      "cell_type": "code",
      "execution_count": null,
      "id": "546b605d",
      "metadata": {
        "id": "546b605d"
      },
      "outputs": [],
      "source": [
        "data = load_boston()\n",
        "X_init = pd.DataFrame(data.data, columns=data.feature_names)\n",
        "y_init = data.target\n",
        "\n",
        "X, X_test, y, y_test = train_test_split(X_init, y_init, test_size=0.3, random_state=42)\n",
        "X_train, X_val, y_train, y_val = train_test_split(X, y, test_size=0.3, random_state=42)\n",
        "\n",
        "assert X_init.shape[0] == X_train.shape[0] + X_val.shape[0] + X_test.shape[0]"
      ]
    },
    {
      "cell_type": "code",
      "execution_count": null,
      "id": "5d423ad8",
      "metadata": {
        "id": "5d423ad8",
        "outputId": "72d59b2a-ce05-4ccb-d017-68ef55361854"
      },
      "outputs": [
        {
          "data": {
            "text/plain": [
              "4.848084651946907"
            ]
          },
          "execution_count": 19,
          "metadata": {},
          "output_type": "execute_result"
        }
      ],
      "source": [
        "from lightgbm import LGBMRegressor\n",
        "\n",
        "gb = CatBoostRegressor(iterations=100, max_depth=4, learning_rate=0.01, loss_function='RMSE', logging_level='Silent')\n",
        "gb.fit(X_train, y_train)\n",
        "\n",
        "lr = LinearRegression()\n",
        "lr.fit(X_train, y_train)\n",
        "\n",
        "meta_train_df = pd.DataFrame()\n",
        "meta_train_df['gb_preds'] = gb.predict(X_val)\n",
        "meta_train_df['lr_preds'] = lr.predict(X_val)\n",
        "\n",
        "meta_algo = LGBMRegressor()\n",
        "meta_algo.fit(meta_train_df, y_val)\n",
        "\n",
        "meta_pred_df = pd.DataFrame()\n",
        "meta_pred_df['gb_preds'] = gb.predict(X_test)\n",
        "meta_pred_df['lr_preds'] = lr.predict(X_test)\n",
        "test_preds_meta = meta_algo.predict(meta_pred_df)\n",
        "\n",
        "rmse(y_test, test_preds_meta)"
      ]
    },
    {
      "cell_type": "markdown",
      "id": "53c7583f",
      "metadata": {
        "id": "53c7583f"
      },
      "source": [
        "Получается, что при блендинге базовые алгоритмы и мета-алгоритм не используют весь объем выборки обучения, что является недостатком. Для повышения качества нужно усреднять несколько блендигов."
      ]
    },
    {
      "cell_type": "markdown",
      "id": "0d9d526a",
      "metadata": {
        "id": "0d9d526a"
      },
      "source": [
        "### Стэкинг"
      ]
    },
    {
      "cell_type": "markdown",
      "id": "4491b6a7",
      "metadata": {
        "id": "4491b6a7"
      },
      "source": [
        "Попробуем реализовать стэкинг. Выборку разбивают на два фолда, последовательно перебирая фолды, обучают базовые алгоритмы на всех фолдах, кроме одного, а на оставшемся получают ответы базовых алгоритмов и используют их как значения соответствующих признаков на этом фолде. Для получения мета-признаков объектов тестовой выборки базовые алгоритмы обучают на всей обучающей выборке и берут их ответы на тестовой.\n",
        "\n",
        "<img src='https://alexanderdyakonov.files.wordpress.com/2017/03/stacking-2b.png?w=1400' width=600>"
      ]
    },
    {
      "cell_type": "markdown",
      "id": "fea34549",
      "metadata": {
        "id": "fea34549"
      },
      "source": [
        "Для стэкинга можно пользоваться встроенной имплементацией в sklearn. Возьмем случайный лес и линейную регрессию как базовые алгоритмы, и потом обучим поверх с помощью 10-фолдовой кросс-валидации мета-алгоритм - градиентный бустинг."
      ]
    },
    {
      "cell_type": "code",
      "execution_count": null,
      "id": "e27e4ef6",
      "metadata": {
        "id": "e27e4ef6",
        "outputId": "36ac39d1-d2e4-4df8-e1e6-2d2523875c3a"
      },
      "outputs": [
        {
          "data": {
            "text/plain": [
              "3.315"
            ]
          },
          "execution_count": 27,
          "metadata": {},
          "output_type": "execute_result"
        }
      ],
      "source": [
        "from sklearn.ensemble import StackingRegressor, RandomForestRegressor\n",
        "from sklearn.neighbors import KNeighborsClassifier\n",
        "\n",
        "estimators = [('rf', RandomForestRegressor(n_estimators=200,random_state=42)),\n",
        "              ('lr', LinearRegression(),\n",
        "               'knn',KNeighborsClassifier(n_neighbors=10))]\n",
        "\n",
        "reg = StackingRegressor(estimators=estimators,\n",
        "                        cv=10,\n",
        "                        final_estimator=CatBoostRegressor(iterations=700, max_depth=5, learning_rate=0.01, \n",
        "                                       loss_function='RMSE', logging_level='Silent'))\n",
        "\n",
        "reg.fit(X_train, y_train).score(X_test, y_test)\n",
        "reg_preds = reg.predict(X_test)\n",
        "round(rmse(y_test, reg_preds), 3)"
      ]
    }
  ],
  "metadata": {
    "kernelspec": {
      "display_name": "Python 3",
      "language": "python",
      "name": "python3"
    },
    "language_info": {
      "codemirror_mode": {
        "name": "ipython",
        "version": 3
      },
      "file_extension": ".py",
      "mimetype": "text/x-python",
      "name": "python",
      "nbconvert_exporter": "python",
      "pygments_lexer": "ipython3",
      "version": "3.7.6"
    },
    "colab": {
      "provenance": []
    }
  },
  "nbformat": 4,
  "nbformat_minor": 5
}