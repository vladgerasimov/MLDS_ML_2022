{
 "cells": [
  {
   "cell_type": "markdown",
   "metadata": {
    "id": "9hcI79Y3q8z8"
   },
   "source": [
    "# Домашнее задание \n",
    "\n",
    "В этом задании мы попрактикуемся в методах снижения размерности и кластеризации данных. \n",
    "\n",
    "## Задание 1. Кластеризация типов движений (5 баллов)\n",
    "\n",
    "В этой части задания мы будем работать с набором данных Samsung Human Activity Recognition. Скачайте данные по ссылке https://yadi.sk/d/_WFxgSIuBF06Rg. Данные поступают с акселерометров и гироскопов мобильных телефонов Samsung Galaxy S3, также известен вид активности человека с телефоном в кармане – ходил ли он, стоял, лежал, сидел или шел вверх/вниз по лестнице.\n",
    "\n",
    "Представим, что вид активности нам неизвестнен, и попробуем кластеризовать людей чисто на основе имеющихся признаков.\n",
    "\n",
    "Также есть методичка/овервью от sklearn:\n",
    "[Методичка](https://scikit-learn.org/stable/modules/clustering.html#clustering-performance-evaluation)"
   ]
  },
  {
   "cell_type": "code",
   "execution_count": null,
   "metadata": {
    "id": "NSpra8Wsq8z-"
   },
   "outputs": [],
   "source": [
    "import numpy as np\n",
    "import seaborn as sns\n",
    "from matplotlib import pyplot as plt\n",
    "\n",
    "\n",
    "plt.style.use(['seaborn-darkgrid'])\n",
    "plt.rcParams['figure.figsize'] = (12, 9)\n",
    "plt.rcParams['font.family'] = 'DejaVu Sans'\n",
    "\n",
    "%matplotlib inline\n",
    "%config InlineBackend.figure_format=\"retina\"\n",
    "\n",
    "RANDOM_STATE = 42"
   ]
  },
  {
   "cell_type": "markdown",
   "metadata": {},
   "source": [
    "### Задание 1.0 (0.1 балл)\n",
    "Прочитайте данные из файлов и объедните тестовую и обучающие выборки.\n",
    "\n",
    "В файлах ```..._labels``` лежат настоящие классы. Их также объедините, но в отдельную переменную (например ```y```). Данный вектор для кластеризации нам не нужен, но мы будем смотреть по нему метрики."
   ]
  },
  {
   "cell_type": "code",
   "execution_count": null,
   "metadata": {
    "id": "0JnL3R96q8z_"
   },
   "outputs": [],
   "source": [
    "#your code here\n",
    "X = \n",
    "y ="
   ]
  },
  {
   "cell_type": "code",
   "execution_count": null,
   "metadata": {
    "id": "_OC0LAj-q80A"
   },
   "outputs": [],
   "source": [
    "np.unique(y)"
   ]
  },
  {
   "cell_type": "markdown",
   "metadata": {
    "id": "H-QT73HBq80A"
   },
   "source": [
    "Эти метки соответствуют:\n",
    "\n",
    "1 - ходьбе,\n",
    "2 - подъему вверх по лестнице,\n",
    "3 - спуску по лестнице,\n",
    "4 - сидению,\n",
    "5 - стоянию,\n",
    "6 - лежанию"
   ]
  },
  {
   "cell_type": "markdown",
   "metadata": {
    "id": "SPMFLWhZq80A"
   },
   "source": [
    "### Задание 1.1 (0.5 баллов)\n",
    "\n",
    "Отмасштабируйте выборку с помощью ```StandardScaler```.\n",
    "\n",
    "[Документация](https://scikit-learn.org/stable/modules/generated/sklearn.preprocessing.StandardScaler.html)"
   ]
  },
  {
   "cell_type": "code",
   "execution_count": null,
   "metadata": {
    "id": "kIFweawCq80B"
   },
   "outputs": [],
   "source": [
    "#your code here\n",
    "scaler = \n",
    "X_scaled ="
   ]
  },
  {
   "cell_type": "markdown",
   "metadata": {
    "id": "_8SD4JHOq80B"
   },
   "source": [
    "### Задание 1.2 (0.6 баллов)\n",
    "\n",
    "Понизьте размерность с помощью ```PCA```, оставляя столько компонент, сколько нужно для того, чтобы объяснить как минимум 90% дисперсии отмасштабированных данных. ```random_state``` используйте из объявленной в самом начале переменной ```RANDOM_STATE``` (42).\n",
    "\n",
    "[Документация](https://scikit-learn.org/stable/modules/generated/sklearn.decomposition.PCA.html)"
   ]
  },
  {
   "cell_type": "code",
   "execution_count": null,
   "metadata": {
    "id": "l5mk8I0xq80B"
   },
   "outputs": [],
   "source": [
    "#your code here\n",
    "pca = \n",
    "X_pca ="
   ]
  },
  {
   "cell_type": "markdown",
   "metadata": {
    "id": "aZqvT31Fq80B"
   },
   "source": [
    "### Задание 1.3 (0.3 баллов)\n",
    "\n",
    "Визуализируйте данные в проекции на первые две главные компоненты. Используйте ```cmap=\"virdis\"``` или любой другой, с которым будет красиво :)"
   ]
  },
  {
   "cell_type": "code",
   "execution_count": null,
   "metadata": {
    "id": "kKSr2O1mq80B"
   },
   "outputs": [],
   "source": [
    "#your code here\n",
    "plt.scatter()"
   ]
  },
  {
   "cell_type": "markdown",
   "metadata": {
    "id": "WElfHfx-q80C"
   },
   "source": [
    "### Задание 1.4 (0.4 балла)\n",
    "\n",
    "Сделайте кластеризацию данных методом ```KMeans```, обучив модель на данных со сниженной за счет ```PCA```\n",
    "размерностью. В данном случае нужно искать 6 кластеров (изначально у нас 6 классов). Засеките время обучения и время инференса.\n",
    "\n",
    "Параметры:\n",
    "\n",
    "```n_clusters = 6``` (число уникальных меток целевого класса = 6)\n",
    "\n",
    "```n_init = 100```\n",
    "\n",
    "```random_state = RANDOM_STATE``` (для воспроизводимости результата, не забывайте указывать его и дальше!)\n",
    "\n",
    "[Документация](https://scikit-learn.org/stable/modules/generated/sklearn.cluster.KMeans.html)"
   ]
  },
  {
   "cell_type": "code",
   "execution_count": null,
   "metadata": {
    "id": "Eku71hYyq80C"
   },
   "outputs": [],
   "source": [
    "#your code here"
   ]
  },
  {
   "cell_type": "markdown",
   "metadata": {
    "id": "qFw7iPlKq80C"
   },
   "source": [
    "### Задание 1.5 (0.2 балла)\n",
    "\n",
    "Визуализируйте данные в проекции на первые две главные компоненты. Раскрасьте точки в соответствии с полученными метками кластеров."
   ]
  },
  {
   "cell_type": "code",
   "execution_count": null,
   "metadata": {
    "id": "21hhZr3nq80C"
   },
   "outputs": [],
   "source": [
    "#your code here"
   ]
  },
  {
   "cell_type": "markdown",
   "metadata": {
    "id": "RtzNoY7Rq80D"
   },
   "source": [
    "### Задание 1.6 (0.3 баллов)\n",
    "\n",
    "Выберите какие-то метрики (минимум две) из известных вам или из методички (ссылка в начале дз, пункт 2.3.10), объясните ваш выбор.\n",
    "\n",
    "Выведите на экран значения метрик качества кластеризации и используйте их далее."
   ]
  },
  {
   "cell_type": "code",
   "execution_count": null,
   "metadata": {
    "id": "N2x6tnb9q80D"
   },
   "outputs": [],
   "source": [
    "#your code here"
   ]
  },
  {
   "cell_type": "markdown",
   "metadata": {},
   "source": [
    "# your text here"
   ]
  },
  {
   "cell_type": "markdown",
   "metadata": {
    "id": "Bt6ctUgIq80D"
   },
   "source": [
    "### Задание 1.7 (0.8 баллов)\n",
    "Теперь попробуем сделать кластеризацию с помощью ```AgglomerativeClustering```.\n",
    "\n",
    "Вновь визуализируйте данные с раскраской по полученным меткам и выведите метрики. Засеките время обучения и время инференса. Сравните с ```KMeans```.\n",
    "\n",
    "Ответьте на следующие вопросы:\n",
    "* Стало ли лучше?\n",
    "* Почему?\n",
    "\n",
    "[Документация](https://scikit-learn.org/stable/modules/generated/sklearn.cluster.AgglomerativeClustering.html)"
   ]
  },
  {
   "cell_type": "code",
   "execution_count": null,
   "metadata": {
    "id": "PsvdCs97q80D"
   },
   "outputs": [],
   "source": [
    "#your code here"
   ]
  },
  {
   "cell_type": "markdown",
   "metadata": {},
   "source": [
    "# your text here"
   ]
  },
  {
   "cell_type": "markdown",
   "metadata": {
    "id": "TphYU7Zlq80D"
   },
   "source": [
    "### Задание 1.8 (0.8 баллов)\n",
    "\n",
    "Попробуйте применить другие методы кластеризации из sklearn.  Засеките время обучения и время инференса. Также вычислите метрики качества, визуализируйте результаты, после чего сделайте вывод о том, какой метод сработал лучше."
   ]
  },
  {
   "cell_type": "code",
   "execution_count": null,
   "metadata": {
    "id": "Pk-4S55Tq80E"
   },
   "outputs": [],
   "source": [
    "#your code here"
   ]
  },
  {
   "cell_type": "markdown",
   "metadata": {},
   "source": [
    "# your text here"
   ]
  },
  {
   "cell_type": "markdown",
   "metadata": {
    "id": "rKkwnkkKq80E"
   },
   "source": [
    "### Задание 1.9 (1 балл)\n",
    "Для самой успешной из полученных кластеризаций попробуйте дать интерпретацию кластеров. Опишите характеристики объектов, попавших в каждый кластер. Для этого можете ответить на следующие вопросы:\n",
    "\n",
    "* Похожи ли объекты внутри каждого кластера на определенный тип активности человека?\n",
    "* В каких кластерах смешано несколько типов активности? С чем, на ваш взгляд, это может быть связано?\n",
    "* Качественная ли получилась кластеризация? На основании чего вы можете сделать такой вывод?"
   ]
  },
  {
   "cell_type": "markdown",
   "metadata": {
    "id": "XERRUtHoq80E"
   },
   "source": [
    "# your text here"
   ]
  },
  {
   "cell_type": "markdown",
   "metadata": {
    "id": "RYGi1cTrrWR4"
   },
   "source": [
    "## Задание 2. Разделение изображения на семантические компоненты (5 баллов)\n",
    "\n",
    "![RedPanda](http://imgur.com/6Aa52Lm.png)\n",
    "\n",
    "Алгоритмы кластеризации могут применяться в самых разных задачах. Например, в анализе изображений есть задача разделения изображения на семантические компоненты, которую можно решать в том числе с помощью алгоритмов кластеризации. \n",
    "\n",
    "Проверим их на ```duck.jpg``` и ```owls.jpg```"
   ]
  },
  {
   "cell_type": "markdown",
   "metadata": {},
   "source": [
    "### Задание 2.0 (0.1 балл)\n",
    "\n",
    "Откройте изображения, после чего визуализируйте их с помощью ```plt.imshow()```"
   ]
  },
  {
   "cell_type": "code",
   "execution_count": null,
   "metadata": {
    "id": "4QEdXlimrWR5"
   },
   "outputs": [],
   "source": [
    "from PIL import Image\n",
    "# or \n",
    "#import cv2"
   ]
  },
  {
   "cell_type": "markdown",
   "metadata": {
    "id": "i1qwWCoArWR5"
   },
   "source": [
    "### Задание 2.1 (1.5 балла)\n",
    "Для каждого изображения, используя кластеризацию ```KMeans```, выделите компоненты, охарактеризовав каждый пиксель следующим образом: $\\psi_i = [\\lambda x_i, \\lambda y_i, r_i, g_i, b_i]$, где \n",
    "$x_i$ и $y_i$ — координаты пикселя, $r_i, g_i, b_i$ — его цвет, $\\lambda$ — параметр, выражающий важность пространственной связности перед цветовой похожестью.\n",
    "\n",
    "Примените полученную функцию, взяв следующие $\\lambda$: 0.3 и 1.5 для ```duck.jpg``` и ```owls.jpg``` (или другие, но тогда с вас красивые результаты :) )\n",
    "\n",
    "Число кластеров подберите разумным образом на свой вкус (в качестве нулевого приближения можно взять 3)"
   ]
  },
  {
   "cell_type": "code",
   "execution_count": null,
   "metadata": {
    "id": "-eFJeAxXrWR5"
   },
   "outputs": [],
   "source": [
    "def find_components(image, lmbd, n_clusters):\n",
    "    #your code here"
   ]
  },
  {
   "cell_type": "markdown",
   "metadata": {
    "id": "WlHCAkoUrWR5"
   },
   "source": [
    "### Задание 2.2 (1.5 балла)\n",
    "Попробуйте выделить сегменты при помощи [спектральной кластеризации](http://scikit-learn.org/stable/modules/clustering.html#spectral-clustering). Обратите внимание на [пример в sklearn](http://scikit-learn.org/0.16/auto_examples/cluster/plot_lena_segmentation.html). Для ускорения работы алгоритма рекомендуется привести изображение к серому цвету. При необходимости можно сжать изображения в 2 раза.\n",
    "\n",
    "Подсказка: ```skimage``` с его ```color``` и ```transform``` в этом помогут :)\n",
    "\n",
    "Или же воспользуйтесь аналогичными средствами ```PIL``` или ```cv2``` "
   ]
  },
  {
   "cell_type": "code",
   "execution_count": null,
   "metadata": {
    "id": "Rq3hkFvgrWR5"
   },
   "outputs": [],
   "source": [
    "def spectral_segmentation(image, n_clusters, beta, eps):\n",
    "    #your code here"
   ]
  },
  {
   "cell_type": "markdown",
   "metadata": {
    "id": "FhNFR8y7rWR6"
   },
   "source": [
    "### Задание 2.3 (0.9 баллов)\n",
    "Визуализируйте результаты сегментации (аналогично рисунку в начале задания 2) для обоих методов."
   ]
  },
  {
   "cell_type": "code",
   "execution_count": null,
   "metadata": {
    "id": "YHZzvjq-rWR6"
   },
   "outputs": [],
   "source": [
    "#your code here"
   ]
  },
  {
   "cell_type": "markdown",
   "metadata": {
    "id": "Aju9qz_xrWR6"
   },
   "source": [
    "### Задание 2.4 (1 балл)\n",
    "Найдите интересную картинку милого животного и примените алгоритмы и к ней. Поэкспериментируйте с параметрами алгоритмов. Картинку нужно будет загрузить вместе с работой. Слишком большие лучше не брать - считаться будет долго. Не забудьте визуализировать!\n",
    "\n",
    "Сравните два подхода и сегментации, к которым они приводят.\n",
    "Для всех ли изображений в результате сегментации хорошо видны контуры объектов?"
   ]
  },
  {
   "cell_type": "code",
   "execution_count": null,
   "metadata": {
    "id": "CXvh26YZrWR6"
   },
   "outputs": [],
   "source": [
    "#your code here"
   ]
  },
  {
   "cell_type": "markdown",
   "metadata": {
    "id": "NKXgiph7rWR6"
   },
   "source": [
    "# your text here"
   ]
  },
  {
   "cell_type": "markdown",
   "metadata": {},
   "source": [
    "# Акция\n",
    "Повеселите проверяющего и вставьте смешной мем. Вдруг повысят балл! Или разместите ваше сообщение о продаже гаража здесь.\n",
    "\n",
    "[Методичка по мемам](https://www.youtube.com/watch?v=dQw4w9WgXcQ)"
   ]
  },
  {
   "cell_type": "markdown",
   "metadata": {},
   "source": [
    "# your meme here"
   ]
  }
 ],
 "metadata": {
  "colab": {
   "provenance": []
  },
  "kernelspec": {
   "display_name": "Python 3 (ipykernel)",
   "language": "python",
   "name": "python3"
  },
  "language_info": {
   "codemirror_mode": {
    "name": "ipython",
    "version": 3
   },
   "file_extension": ".py",
   "mimetype": "text/x-python",
   "name": "python",
   "nbconvert_exporter": "python",
   "pygments_lexer": "ipython3",
   "version": "3.9.7"
  },
  "name": "lesson8_part1_kmeans.ipynb"
 },
 "nbformat": 4,
 "nbformat_minor": 1
}
