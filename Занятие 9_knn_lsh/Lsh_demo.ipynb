{
  "nbformat": 4,
  "nbformat_minor": 0,
  "metadata": {
    "colab": {
      "provenance": []
    },
    "kernelspec": {
      "name": "python3",
      "display_name": "Python 3"
    },
    "language_info": {
      "name": "python"
    }
  },
  "cells": [
    {
      "cell_type": "markdown",
      "source": [
        "# LSH\n",
        "\n",
        "Ссылки:\n",
        "\n",
        "* [Numerical vectors: LSH + binary projections](https://colab.research.google.com/drive/181MMOcTnzdMVzJr0pWzqtEG0-BV9BIHH)\n",
        "* [Texts: LSH + binary projections](http://ethen8181.github.io/machine-learning/recsys/content_based/lsh_text.html)\n",
        "* [Texts: LSH + MinHash + Bands](https://github.com/mattilyra/LSH/blob/master/examples/Introduction.ipynb)"
      ],
      "metadata": {
        "id": "MxAEhN_NqYX7"
      }
    },
    {
      "cell_type": "code",
      "source": [
        "import pandas as pd\n",
        "\n",
        "df = pd.read_csv(\"Tweets.csv\",delimiter=',', error_bad_lines=False)\n",
        "\n",
        "df = df[['text']].dropna()\n",
        "df.reset_index(drop=True, inplace=True)\n",
        "df['id'] = np.arange(len(df))\n",
        "\n",
        "df.head()"
      ],
      "metadata": {
        "colab": {
          "base_uri": "https://localhost:8080/",
          "height": 313
        },
        "id": "xe9svr9TjF39",
        "outputId": "9976f7c1-e74b-4c20-b094-46444064e05e"
      },
      "execution_count": 131,
      "outputs": [
        {
          "output_type": "stream",
          "name": "stderr",
          "text": [
            "/usr/local/lib/python3.8/dist-packages/IPython/core/interactiveshell.py:3326: FutureWarning: The error_bad_lines argument has been deprecated and will be removed in a future version.\n",
            "\n",
            "\n",
            "  exec(code_obj, self.user_global_ns, self.user_ns)\n",
            "b'Skipping line 284: expected 4 fields, saw 5\\nSkipping line 2398: expected 4 fields, saw 5\\nSkipping line 2438: expected 4 fields, saw 6\\nSkipping line 3104: expected 4 fields, saw 6\\nSkipping line 3618: expected 4 fields, saw 5\\nSkipping line 3742: expected 4 fields, saw 7\\nSkipping line 4694: expected 4 fields, saw 9\\nSkipping line 5272: expected 4 fields, saw 5\\nSkipping line 6194: expected 4 fields, saw 5\\nSkipping line 7017: expected 4 fields, saw 6\\nSkipping line 7786: expected 4 fields, saw 5\\nSkipping line 8407: expected 4 fields, saw 5\\nSkipping line 8529: expected 4 fields, saw 5\\nSkipping line 8820: expected 4 fields, saw 5\\nSkipping line 9157: expected 4 fields, saw 7\\nSkipping line 9952: expected 4 fields, saw 5\\nSkipping line 10203: expected 4 fields, saw 5\\nSkipping line 10415: expected 4 fields, saw 6\\nSkipping line 11784: expected 4 fields, saw 5\\nSkipping line 11835: expected 4 fields, saw 5\\nSkipping line 12371: expected 4 fields, saw 5\\nSkipping line 16156: expected 4 fields, saw 6\\nSkipping line 17208: expected 4 fields, saw 5\\nSkipping line 17354: expected 4 fields, saw 5\\nSkipping line 17862: expected 4 fields, saw 6\\nSkipping line 18157: expected 4 fields, saw 5\\nSkipping line 18251: expected 4 fields, saw 7\\nSkipping line 20236: expected 4 fields, saw 5\\nSkipping line 20429: expected 4 fields, saw 5\\nSkipping line 23566: expected 4 fields, saw 5\\nSkipping line 24369: expected 4 fields, saw 5\\nSkipping line 25380: expected 4 fields, saw 5\\nSkipping line 26916: expected 4 fields, saw 5\\nSkipping line 27263: expected 4 fields, saw 6\\nSkipping line 27358: expected 4 fields, saw 5\\n'\n"
          ]
        },
        {
          "output_type": "execute_result",
          "data": {
            "text/plain": [
              "                                                text  id\n",
              "0      Sooo SAD I will miss you here in San Diego!!!   0\n",
              "1                          my boss is bullying me...   1\n",
              "2                     what interview! leave me alone   2\n",
              "3  http://www.dothebouncy.com/smf - some shameles...   3\n",
              "4  2am feedings for the baby are fun when he is a...   4"
            ],
            "text/html": [
              "\n",
              "  <div id=\"df-c34d5104-36a5-4f53-b85d-9ef1f257a741\">\n",
              "    <div class=\"colab-df-container\">\n",
              "      <div>\n",
              "<style scoped>\n",
              "    .dataframe tbody tr th:only-of-type {\n",
              "        vertical-align: middle;\n",
              "    }\n",
              "\n",
              "    .dataframe tbody tr th {\n",
              "        vertical-align: top;\n",
              "    }\n",
              "\n",
              "    .dataframe thead th {\n",
              "        text-align: right;\n",
              "    }\n",
              "</style>\n",
              "<table border=\"1\" class=\"dataframe\">\n",
              "  <thead>\n",
              "    <tr style=\"text-align: right;\">\n",
              "      <th></th>\n",
              "      <th>text</th>\n",
              "      <th>id</th>\n",
              "    </tr>\n",
              "  </thead>\n",
              "  <tbody>\n",
              "    <tr>\n",
              "      <th>0</th>\n",
              "      <td>Sooo SAD I will miss you here in San Diego!!!</td>\n",
              "      <td>0</td>\n",
              "    </tr>\n",
              "    <tr>\n",
              "      <th>1</th>\n",
              "      <td>my boss is bullying me...</td>\n",
              "      <td>1</td>\n",
              "    </tr>\n",
              "    <tr>\n",
              "      <th>2</th>\n",
              "      <td>what interview! leave me alone</td>\n",
              "      <td>2</td>\n",
              "    </tr>\n",
              "    <tr>\n",
              "      <th>3</th>\n",
              "      <td>http://www.dothebouncy.com/smf - some shameles...</td>\n",
              "      <td>3</td>\n",
              "    </tr>\n",
              "    <tr>\n",
              "      <th>4</th>\n",
              "      <td>2am feedings for the baby are fun when he is a...</td>\n",
              "      <td>4</td>\n",
              "    </tr>\n",
              "  </tbody>\n",
              "</table>\n",
              "</div>\n",
              "      <button class=\"colab-df-convert\" onclick=\"convertToInteractive('df-c34d5104-36a5-4f53-b85d-9ef1f257a741')\"\n",
              "              title=\"Convert this dataframe to an interactive table.\"\n",
              "              style=\"display:none;\">\n",
              "        \n",
              "  <svg xmlns=\"http://www.w3.org/2000/svg\" height=\"24px\"viewBox=\"0 0 24 24\"\n",
              "       width=\"24px\">\n",
              "    <path d=\"M0 0h24v24H0V0z\" fill=\"none\"/>\n",
              "    <path d=\"M18.56 5.44l.94 2.06.94-2.06 2.06-.94-2.06-.94-.94-2.06-.94 2.06-2.06.94zm-11 1L8.5 8.5l.94-2.06 2.06-.94-2.06-.94L8.5 2.5l-.94 2.06-2.06.94zm10 10l.94 2.06.94-2.06 2.06-.94-2.06-.94-.94-2.06-.94 2.06-2.06.94z\"/><path d=\"M17.41 7.96l-1.37-1.37c-.4-.4-.92-.59-1.43-.59-.52 0-1.04.2-1.43.59L10.3 9.45l-7.72 7.72c-.78.78-.78 2.05 0 2.83L4 21.41c.39.39.9.59 1.41.59.51 0 1.02-.2 1.41-.59l7.78-7.78 2.81-2.81c.8-.78.8-2.07 0-2.86zM5.41 20L4 18.59l7.72-7.72 1.47 1.35L5.41 20z\"/>\n",
              "  </svg>\n",
              "      </button>\n",
              "      \n",
              "  <style>\n",
              "    .colab-df-container {\n",
              "      display:flex;\n",
              "      flex-wrap:wrap;\n",
              "      gap: 12px;\n",
              "    }\n",
              "\n",
              "    .colab-df-convert {\n",
              "      background-color: #E8F0FE;\n",
              "      border: none;\n",
              "      border-radius: 50%;\n",
              "      cursor: pointer;\n",
              "      display: none;\n",
              "      fill: #1967D2;\n",
              "      height: 32px;\n",
              "      padding: 0 0 0 0;\n",
              "      width: 32px;\n",
              "    }\n",
              "\n",
              "    .colab-df-convert:hover {\n",
              "      background-color: #E2EBFA;\n",
              "      box-shadow: 0px 1px 2px rgba(60, 64, 67, 0.3), 0px 1px 3px 1px rgba(60, 64, 67, 0.15);\n",
              "      fill: #174EA6;\n",
              "    }\n",
              "\n",
              "    [theme=dark] .colab-df-convert {\n",
              "      background-color: #3B4455;\n",
              "      fill: #D2E3FC;\n",
              "    }\n",
              "\n",
              "    [theme=dark] .colab-df-convert:hover {\n",
              "      background-color: #434B5C;\n",
              "      box-shadow: 0px 1px 3px 1px rgba(0, 0, 0, 0.15);\n",
              "      filter: drop-shadow(0px 1px 2px rgba(0, 0, 0, 0.3));\n",
              "      fill: #FFFFFF;\n",
              "    }\n",
              "  </style>\n",
              "\n",
              "      <script>\n",
              "        const buttonEl =\n",
              "          document.querySelector('#df-c34d5104-36a5-4f53-b85d-9ef1f257a741 button.colab-df-convert');\n",
              "        buttonEl.style.display =\n",
              "          google.colab.kernel.accessAllowed ? 'block' : 'none';\n",
              "\n",
              "        async function convertToInteractive(key) {\n",
              "          const element = document.querySelector('#df-c34d5104-36a5-4f53-b85d-9ef1f257a741');\n",
              "          const dataTable =\n",
              "            await google.colab.kernel.invokeFunction('convertToInteractive',\n",
              "                                                     [key], {});\n",
              "          if (!dataTable) return;\n",
              "\n",
              "          const docLinkHtml = 'Like what you see? Visit the ' +\n",
              "            '<a target=\"_blank\" href=https://colab.research.google.com/notebooks/data_table.ipynb>data table notebook</a>'\n",
              "            + ' to learn more about interactive tables.';\n",
              "          element.innerHTML = '';\n",
              "          dataTable['output_type'] = 'display_data';\n",
              "          await google.colab.output.renderOutput(dataTable, element);\n",
              "          const docLink = document.createElement('div');\n",
              "          docLink.innerHTML = docLinkHtml;\n",
              "          element.appendChild(docLink);\n",
              "        }\n",
              "      </script>\n",
              "    </div>\n",
              "  </div>\n",
              "  "
            ]
          },
          "metadata": {},
          "execution_count": 131
        }
      ]
    },
    {
      "cell_type": "code",
      "source": [
        "len(df)"
      ],
      "metadata": {
        "colab": {
          "base_uri": "https://localhost:8080/"
        },
        "id": "4sIyQAaVmZwI",
        "outputId": "10bc4044-0253-4703-e7b2-2f38e9c39f42"
      },
      "execution_count": 132,
      "outputs": [
        {
          "output_type": "execute_result",
          "data": {
            "text/plain": [
              "21027"
            ]
          },
          "metadata": {},
          "execution_count": 132
        }
      ]
    },
    {
      "cell_type": "code",
      "source": [
        "from sklearn.feature_extraction.text import TfidfVectorizer\n",
        "\n",
        "\n",
        "tfidf = TfidfVectorizer(\n",
        "    analyzer='char',\n",
        "    ngram_range=(1, 3),\n",
        "    min_df=0,\n",
        "    stop_words='english')\n",
        "X_tfidf = tfidf.fit_transform(df['text'])\n",
        "X_tfidf"
      ],
      "metadata": {
        "colab": {
          "base_uri": "https://localhost:8080/"
        },
        "id": "IPzWU4uhjPB7",
        "outputId": "1d726418-a551-4e25-ee12-794a572f3f1e"
      },
      "execution_count": 133,
      "outputs": [
        {
          "output_type": "execute_result",
          "data": {
            "text/plain": [
              "<21027x24002 sparse matrix of type '<class 'numpy.float64'>'\n",
              "\twith 2580648 stored elements in Compressed Sparse Row format>"
            ]
          },
          "metadata": {},
          "execution_count": 133
        }
      ]
    },
    {
      "cell_type": "code",
      "source": [
        "import numpy as np\n",
        "\n",
        "def get_similarity_items(X_tfidf, item_id, topn=5):\n",
        "    \"\"\"\n",
        "    Get the top similar items for a given item id.\n",
        "    The similarity measure here is based on cosine distance.\n",
        "    \"\"\"\n",
        "    query = X_tfidf[item_id]\n",
        "    scores = X_tfidf.dot(query.T).toarray().ravel()\n",
        "    best = np.argpartition(scores, -topn)[-topn:]\n",
        "    return sorted(zip(best, scores[best]), key=lambda x: -x[1])\n",
        "\n",
        "\n",
        "similar_items = get_similarity_items(X_tfidf, item_id=15)\n",
        "\n",
        "# an item is always most similar to itself, in real-world\n",
        "# scenario we might want to filter itself out from the output\n",
        "for similar_item, similarity in similar_items:\n",
        "    print(similar_item, similarity)\n",
        "    item_description = df.iloc[similar_item]['text']\n",
        "    print('similar item id: ', similar_item)\n",
        "    print('cosine similarity: ', similarity)\n",
        "    print('item description: ', item_description)\n",
        "    print()"
      ],
      "metadata": {
        "colab": {
          "base_uri": "https://localhost:8080/"
        },
        "id": "kKgTXykIjplD",
        "outputId": "765abcc1-0ee1-43b7-a29f-14218d94bccb"
      },
      "execution_count": 134,
      "outputs": [
        {
          "output_type": "stream",
          "name": "stdout",
          "text": [
            "15 1.0000000000000002\n",
            "similar item id:  15\n",
            "cosine similarity:  1.0000000000000002\n",
            "item description:  is cleaning the house for her family who is comming later today..\n",
            "\n",
            "10072 0.5336534905823506\n",
            "similar item id:  10072\n",
            "cosine similarity:  0.5336534905823506\n",
            "item description:  Cleaning the house\n",
            "\n",
            "4495 0.48954643197016023\n",
            "similar item id:  4495\n",
            "cosine similarity:  0.48954643197016023\n",
            "item description:   hot weather for the lose. And I have to clean too!  Cleaning in the heat sucks balls.\n",
            "\n",
            "678 0.45118380147029297\n",
            "similar item id:  678\n",
            "cosine similarity:  0.45118380147029297\n",
            "item description:  Searching my home for a few things to cook them for dinner this evening. It`s mothers day so guess who im eating with\n",
            "\n",
            "3382 0.4492543819216047\n",
            "similar item id:  3382\n",
            "cosine similarity:  0.4492543819216047\n",
            "item description:  cleaning cleaning cleaning today then working out!  i love not working!\n",
            "\n"
          ]
        }
      ]
    },
    {
      "cell_type": "code",
      "source": [
        "def generate_random_vectors(dim, n_vectors):\n",
        "    \"\"\"\n",
        "    generate random projection vectors\n",
        "    the dims comes first in the matrix's shape,\n",
        "    so we can use it for matrix multiplication.\n",
        "    \"\"\"\n",
        "    return np.random.randn(dim, n_vectors)"
      ],
      "metadata": {
        "id": "DSsnEwTqjuLx"
      },
      "execution_count": 135,
      "outputs": []
    },
    {
      "cell_type": "code",
      "source": [
        "vocab_size = len(tfidf.get_feature_names())\n",
        "print('vocabulary size: ', vocab_size)\n",
        "\n",
        "np.random.seed(0)\n",
        "n_vectors = 16\n",
        "random_vectors = generate_random_vectors(vocab_size, n_vectors)\n",
        "print('dimension: ', random_vectors.shape)\n",
        "random_vectors"
      ],
      "metadata": {
        "colab": {
          "base_uri": "https://localhost:8080/"
        },
        "id": "Pp9xz8w8nbtF",
        "outputId": "f3eedfa8-7b3e-48e7-fd61-2262a27d1919"
      },
      "execution_count": 136,
      "outputs": [
        {
          "output_type": "stream",
          "name": "stdout",
          "text": [
            "vocabulary size:  24002\n",
            "dimension:  (24002, 16)\n"
          ]
        },
        {
          "output_type": "stream",
          "name": "stderr",
          "text": [
            "/usr/local/lib/python3.8/dist-packages/sklearn/utils/deprecation.py:87: FutureWarning: Function get_feature_names is deprecated; get_feature_names is deprecated in 1.0 and will be removed in 1.2. Please use get_feature_names_out instead.\n",
            "  warnings.warn(msg, category=FutureWarning)\n"
          ]
        },
        {
          "output_type": "execute_result",
          "data": {
            "text/plain": [
              "array([[ 1.76405235,  0.40015721,  0.97873798, ...,  0.12167502,\n",
              "         0.44386323,  0.33367433],\n",
              "       [ 1.49407907, -0.20515826,  0.3130677 , ...,  1.46935877,\n",
              "         0.15494743,  0.37816252],\n",
              "       [-0.88778575, -1.98079647, -0.34791215, ..., -0.4380743 ,\n",
              "        -1.25279536,  0.77749036],\n",
              "       ...,\n",
              "       [-1.31821475,  0.36817968,  0.53415198, ...,  1.60818267,\n",
              "         0.57866133, -1.7089848 ],\n",
              "       [-0.83863877,  0.61162805,  0.83759737, ...,  0.8996262 ,\n",
              "         0.04076996, -2.66958722],\n",
              "       [-0.28932216,  0.7880676 , -0.01545824, ..., -1.54590442,\n",
              "         0.54839386,  0.87119482]])"
            ]
          },
          "metadata": {},
          "execution_count": 136
        }
      ]
    },
    {
      "cell_type": "code",
      "source": [
        "data_point = X_tfidf[0]\n",
        "\n",
        "# True if positive sign; False if negative sign\n",
        "bin_indices_bits = data_point.dot(random_vectors) >= 0\n",
        "print('dimension: ', bin_indices_bits.shape)\n",
        "bin_indices_bits"
      ],
      "metadata": {
        "colab": {
          "base_uri": "https://localhost:8080/"
        },
        "id": "cvNCiFkYnedx",
        "outputId": "abf617f4-6a19-4ded-bbf5-978eb45f9a59"
      },
      "execution_count": 138,
      "outputs": [
        {
          "output_type": "stream",
          "name": "stdout",
          "text": [
            "dimension:  (1, 16)\n"
          ]
        },
        {
          "output_type": "execute_result",
          "data": {
            "text/plain": [
              "array([[ True,  True, False,  True, False, False,  True,  True, False,\n",
              "        False, False, False,  True,  True,  True, False]])"
            ]
          },
          "metadata": {},
          "execution_count": 138
        }
      ]
    },
    {
      "cell_type": "code",
      "source": [
        "bin_indices_bits = data_point.dot(random_vectors) >= 0\n",
        "\n",
        "# https://wiki.python.org/moin/BitwiseOperators\n",
        "# x << y is the same as multiplying x by 2 ** y\n",
        "powers_of_two = 1 << np.arange(n_vectors - 1, -1, step=-1)\n",
        "print(powers_of_two)\n",
        "\n",
        "# final integer representation of individual bins\n",
        "bin_indices = bin_indices_bits.dot(powers_of_two)\n",
        "print(bin_indices)"
      ],
      "metadata": {
        "colab": {
          "base_uri": "https://localhost:8080/"
        },
        "id": "lj9lV3i7nhg9",
        "outputId": "d0a2ddc3-609c-4ac1-a493-137e09b77097"
      },
      "execution_count": 139,
      "outputs": [
        {
          "output_type": "stream",
          "name": "stdout",
          "text": [
            "[32768 16384  8192  4096  2048  1024   512   256   128    64    32    16\n",
            "     8     4     2     1]\n",
            "[54030]\n"
          ]
        }
      ]
    },
    {
      "cell_type": "code",
      "source": [
        "# we can do it for the entire corpus\n",
        "bin_indices_bits = X_tfidf.dot(random_vectors) >= 0\n",
        "print(bin_indices_bits.shape)\n",
        "bin_indices = bin_indices_bits.dot(powers_of_two)\n",
        "bin_indices.shape"
      ],
      "metadata": {
        "colab": {
          "base_uri": "https://localhost:8080/"
        },
        "id": "ic9za0Hpnk4A",
        "outputId": "1e1a358b-143d-431e-8d91-917ad2e9179d"
      },
      "execution_count": 140,
      "outputs": [
        {
          "output_type": "stream",
          "name": "stdout",
          "text": [
            "(21027, 16)\n"
          ]
        },
        {
          "output_type": "execute_result",
          "data": {
            "text/plain": [
              "(21027,)"
            ]
          },
          "metadata": {},
          "execution_count": 140
        }
      ]
    },
    {
      "cell_type": "code",
      "source": [
        "from collections import defaultdict\n",
        "\n",
        "\n",
        "def train_lsh(X_tfidf, n_vectors, seed=None):    \n",
        "    if seed is not None:\n",
        "        np.random.seed(seed)\n",
        "\n",
        "    dim = X_tfidf.shape[1]\n",
        "    random_vectors = generate_random_vectors(dim, n_vectors)  \n",
        "\n",
        "    # partition data points into bins,\n",
        "    # and encode bin index bits into integers\n",
        "    bin_indices_bits = X_tfidf.dot(random_vectors) >= 0\n",
        "    powers_of_two = 1 << np.arange(n_vectors - 1, -1, step=-1)\n",
        "    bin_indices = bin_indices_bits.dot(powers_of_two)\n",
        "\n",
        "    # update `table` so that `table[i]` is the list of document ids with bin index equal to i\n",
        "    table = defaultdict(list)\n",
        "    for idx, bin_index in enumerate(bin_indices):\n",
        "        table[bin_index].append(idx)\n",
        "    \n",
        "    # note that we're storing the bin_indices here\n",
        "    # so we can do some ad-hoc checking with it,\n",
        "    # this isn't actually required\n",
        "    model = {'table': table,\n",
        "             'random_vectors': random_vectors,\n",
        "             'bin_indices': bin_indices,\n",
        "             'bin_indices_bits': bin_indices_bits}\n",
        "    return model\n",
        "\n",
        "\n",
        "# train the model\n",
        "n_vectors = 16\n",
        "model = train_lsh(X_tfidf, n_vectors, seed=143)"
      ],
      "metadata": {
        "id": "cYOQKsb2nm6O"
      },
      "execution_count": 141,
      "outputs": []
    },
    {
      "cell_type": "code",
      "source": [
        "# comparison\n",
        "similar_item_ids = [similar_item for similar_item, _ in similar_items]\n",
        "bits1 = model['bin_indices_bits'][similar_item_ids[0]]\n",
        "bits2 = model['bin_indices_bits'][similar_item_ids[1]]\n",
        "\n",
        "print('bits 1: ', bits1)\n",
        "print('bits 2: ', bits2)\n",
        "print('Number of agreed bins: ', np.sum(bits1 == bits2))"
      ],
      "metadata": {
        "colab": {
          "base_uri": "https://localhost:8080/"
        },
        "id": "_LkLiq7Enq-U",
        "outputId": "f5b1105e-3e94-4e9f-ab55-f4568e817241"
      },
      "execution_count": 142,
      "outputs": [
        {
          "output_type": "stream",
          "name": "stdout",
          "text": [
            "bits 1:  [False False  True False  True  True False False False  True  True False\n",
            " False False False False]\n",
            "bits 2:  [False False  True False  True  True  True False False  True False False\n",
            " False  True False False]\n",
            "Number of agreed bins:  13\n"
          ]
        }
      ]
    },
    {
      "cell_type": "code",
      "source": [
        "from itertools import combinations\n",
        "\n",
        "\n",
        "def search_nearby_bins(query_bin_bits, table, search_radius=3, candidate_set=None):\n",
        "    \"\"\"\n",
        "    For a given query vector and trained LSH model's table\n",
        "    return all candidate neighbors with the specified search radius.\n",
        "    \n",
        "    Example\n",
        "    -------\n",
        "    model = train_lsh(X_tfidf, n_vectors=16, seed=143)\n",
        "    query = model['bin_index_bits'][0]  # vector for the first document\n",
        "    candidates = search_nearby_bins(query, model['table'])\n",
        "    \"\"\"\n",
        "    if candidate_set is None:\n",
        "        candidate_set = set()\n",
        "\n",
        "    n_vectors = query_bin_bits.shape[0]\n",
        "    powers_of_two = 1 << np.arange(n_vectors - 1, -1, step=-1)\n",
        "\n",
        "    for different_bits in combinations(range(n_vectors), search_radius):\n",
        "        # flip the bits (n_1, n_2, ..., n_r) of the query bin to produce a new bit vector\n",
        "        index = list(different_bits)\n",
        "        alternate_bits = query_bin_bits.copy()\n",
        "        alternate_bits[index] = np.logical_not(alternate_bits[index])\n",
        "\n",
        "        # convert the new bit vector to an integer index\n",
        "        nearby_bin = alternate_bits.dot(powers_of_two)\n",
        "\n",
        "        # fetch the list of documents belonging to\n",
        "        # the bin indexed by the new bit vector,\n",
        "        # then add those documents to candidate_set;\n",
        "        # make sure that the bin exists in the table\n",
        "        if nearby_bin in table:\n",
        "            candidate_set.update(table[nearby_bin])\n",
        "\n",
        "    return candidate_set"
      ],
      "metadata": {
        "id": "zfC6bL1rnwqZ"
      },
      "execution_count": 143,
      "outputs": []
    },
    {
      "cell_type": "code",
      "source": [
        "from sklearn.metrics.pairwise import pairwise_distances\n",
        "\n",
        "\n",
        "def get_nearest_neighbors(X_tfidf, query_vector, model, max_search_radius=3):\n",
        "    table = model['table']\n",
        "    random_vectors = model['random_vectors']\n",
        "\n",
        "    # compute bin index for the query vector, in bit representation.\n",
        "    bin_index_bits = np.ravel(query_vector.dot(random_vectors) >= 0)\n",
        "\n",
        "    # search nearby bins and collect candidates\n",
        "    candidate_set = set()\n",
        "    for search_radius in range(max_search_radius + 1):\n",
        "        candidate_set = search_nearby_bins(bin_index_bits, table, search_radius, candidate_set)\n",
        "\n",
        "    # sort candidates by their true distances from the query\n",
        "    candidate_list = list(candidate_set)\n",
        "    candidates = X_tfidf[candidate_list]\n",
        "    distance = pairwise_distances(candidates, query_vector, metric='cosine').flatten()\n",
        "    \n",
        "    distance_col = 'distance'\n",
        "    nearest_neighbors = pd.DataFrame({\n",
        "        'id': candidate_list, distance_col: distance\n",
        "    }).sort_values(distance_col).reset_index(drop=True)\n",
        "    return nearest_neighbors"
      ],
      "metadata": {
        "id": "4vGaqpKFn4_9"
      },
      "execution_count": 144,
      "outputs": []
    },
    {
      "cell_type": "code",
      "source": [
        "print('original similar items:\\n' + str(similar_items))\n",
        "\n",
        "item_id = 15\n",
        "query_vector = X_tfidf[item_id]\n",
        "nearest_neighbors = get_nearest_neighbors(X_tfidf, query_vector, model, max_search_radius=5)\n",
        "print('dimension: ', nearest_neighbors.shape)\n",
        "nearest_neighbors.head()"
      ],
      "metadata": {
        "colab": {
          "base_uri": "https://localhost:8080/",
          "height": 258
        },
        "id": "3hWAlCoLn8Lh",
        "outputId": "10e26f88-ddc8-439a-80d1-525453043553"
      },
      "execution_count": 145,
      "outputs": [
        {
          "output_type": "stream",
          "name": "stdout",
          "text": [
            "original similar items:\n",
            "[(15, 1.0000000000000002), (10072, 0.5336534905823506), (4495, 0.48954643197016023), (678, 0.45118380147029297), (3382, 0.4492543819216047)]\n",
            "dimension:  (3292, 2)\n"
          ]
        },
        {
          "output_type": "execute_result",
          "data": {
            "text/plain": [
              "      id  distance\n",
              "0     15  0.000000\n",
              "1  10072  0.466347\n",
              "2   4495  0.510454\n",
              "3   3382  0.550746\n",
              "4  12193  0.552188"
            ],
            "text/html": [
              "\n",
              "  <div id=\"df-dc1e438f-fe0a-44ea-8153-203b4f621378\">\n",
              "    <div class=\"colab-df-container\">\n",
              "      <div>\n",
              "<style scoped>\n",
              "    .dataframe tbody tr th:only-of-type {\n",
              "        vertical-align: middle;\n",
              "    }\n",
              "\n",
              "    .dataframe tbody tr th {\n",
              "        vertical-align: top;\n",
              "    }\n",
              "\n",
              "    .dataframe thead th {\n",
              "        text-align: right;\n",
              "    }\n",
              "</style>\n",
              "<table border=\"1\" class=\"dataframe\">\n",
              "  <thead>\n",
              "    <tr style=\"text-align: right;\">\n",
              "      <th></th>\n",
              "      <th>id</th>\n",
              "      <th>distance</th>\n",
              "    </tr>\n",
              "  </thead>\n",
              "  <tbody>\n",
              "    <tr>\n",
              "      <th>0</th>\n",
              "      <td>15</td>\n",
              "      <td>0.000000</td>\n",
              "    </tr>\n",
              "    <tr>\n",
              "      <th>1</th>\n",
              "      <td>10072</td>\n",
              "      <td>0.466347</td>\n",
              "    </tr>\n",
              "    <tr>\n",
              "      <th>2</th>\n",
              "      <td>4495</td>\n",
              "      <td>0.510454</td>\n",
              "    </tr>\n",
              "    <tr>\n",
              "      <th>3</th>\n",
              "      <td>3382</td>\n",
              "      <td>0.550746</td>\n",
              "    </tr>\n",
              "    <tr>\n",
              "      <th>4</th>\n",
              "      <td>12193</td>\n",
              "      <td>0.552188</td>\n",
              "    </tr>\n",
              "  </tbody>\n",
              "</table>\n",
              "</div>\n",
              "      <button class=\"colab-df-convert\" onclick=\"convertToInteractive('df-dc1e438f-fe0a-44ea-8153-203b4f621378')\"\n",
              "              title=\"Convert this dataframe to an interactive table.\"\n",
              "              style=\"display:none;\">\n",
              "        \n",
              "  <svg xmlns=\"http://www.w3.org/2000/svg\" height=\"24px\"viewBox=\"0 0 24 24\"\n",
              "       width=\"24px\">\n",
              "    <path d=\"M0 0h24v24H0V0z\" fill=\"none\"/>\n",
              "    <path d=\"M18.56 5.44l.94 2.06.94-2.06 2.06-.94-2.06-.94-.94-2.06-.94 2.06-2.06.94zm-11 1L8.5 8.5l.94-2.06 2.06-.94-2.06-.94L8.5 2.5l-.94 2.06-2.06.94zm10 10l.94 2.06.94-2.06 2.06-.94-2.06-.94-.94-2.06-.94 2.06-2.06.94z\"/><path d=\"M17.41 7.96l-1.37-1.37c-.4-.4-.92-.59-1.43-.59-.52 0-1.04.2-1.43.59L10.3 9.45l-7.72 7.72c-.78.78-.78 2.05 0 2.83L4 21.41c.39.39.9.59 1.41.59.51 0 1.02-.2 1.41-.59l7.78-7.78 2.81-2.81c.8-.78.8-2.07 0-2.86zM5.41 20L4 18.59l7.72-7.72 1.47 1.35L5.41 20z\"/>\n",
              "  </svg>\n",
              "      </button>\n",
              "      \n",
              "  <style>\n",
              "    .colab-df-container {\n",
              "      display:flex;\n",
              "      flex-wrap:wrap;\n",
              "      gap: 12px;\n",
              "    }\n",
              "\n",
              "    .colab-df-convert {\n",
              "      background-color: #E8F0FE;\n",
              "      border: none;\n",
              "      border-radius: 50%;\n",
              "      cursor: pointer;\n",
              "      display: none;\n",
              "      fill: #1967D2;\n",
              "      height: 32px;\n",
              "      padding: 0 0 0 0;\n",
              "      width: 32px;\n",
              "    }\n",
              "\n",
              "    .colab-df-convert:hover {\n",
              "      background-color: #E2EBFA;\n",
              "      box-shadow: 0px 1px 2px rgba(60, 64, 67, 0.3), 0px 1px 3px 1px rgba(60, 64, 67, 0.15);\n",
              "      fill: #174EA6;\n",
              "    }\n",
              "\n",
              "    [theme=dark] .colab-df-convert {\n",
              "      background-color: #3B4455;\n",
              "      fill: #D2E3FC;\n",
              "    }\n",
              "\n",
              "    [theme=dark] .colab-df-convert:hover {\n",
              "      background-color: #434B5C;\n",
              "      box-shadow: 0px 1px 3px 1px rgba(0, 0, 0, 0.15);\n",
              "      filter: drop-shadow(0px 1px 2px rgba(0, 0, 0, 0.3));\n",
              "      fill: #FFFFFF;\n",
              "    }\n",
              "  </style>\n",
              "\n",
              "      <script>\n",
              "        const buttonEl =\n",
              "          document.querySelector('#df-dc1e438f-fe0a-44ea-8153-203b4f621378 button.colab-df-convert');\n",
              "        buttonEl.style.display =\n",
              "          google.colab.kernel.accessAllowed ? 'block' : 'none';\n",
              "\n",
              "        async function convertToInteractive(key) {\n",
              "          const element = document.querySelector('#df-dc1e438f-fe0a-44ea-8153-203b4f621378');\n",
              "          const dataTable =\n",
              "            await google.colab.kernel.invokeFunction('convertToInteractive',\n",
              "                                                     [key], {});\n",
              "          if (!dataTable) return;\n",
              "\n",
              "          const docLinkHtml = 'Like what you see? Visit the ' +\n",
              "            '<a target=\"_blank\" href=https://colab.research.google.com/notebooks/data_table.ipynb>data table notebook</a>'\n",
              "            + ' to learn more about interactive tables.';\n",
              "          element.innerHTML = '';\n",
              "          dataTable['output_type'] = 'display_data';\n",
              "          await google.colab.output.renderOutput(dataTable, element);\n",
              "          const docLink = document.createElement('div');\n",
              "          docLink.innerHTML = docLinkHtml;\n",
              "          element.appendChild(docLink);\n",
              "        }\n",
              "      </script>\n",
              "    </div>\n",
              "  </div>\n",
              "  "
            ]
          },
          "metadata": {},
          "execution_count": 145
        }
      ]
    },
    {
      "cell_type": "code",
      "source": [
        "nearest_neighbors = get_nearest_neighbors(X_tfidf, query_vector, model, max_search_radius=10)\n",
        "print('dimension: ', nearest_neighbors.shape)\n",
        "nearest_neighbors.head()"
      ],
      "metadata": {
        "colab": {
          "base_uri": "https://localhost:8080/",
          "height": 223
        },
        "id": "rPUWEQIzn-QJ",
        "outputId": "d4a50deb-c74b-4c08-9d4b-7703c25d59be"
      },
      "execution_count": 146,
      "outputs": [
        {
          "output_type": "stream",
          "name": "stdout",
          "text": [
            "dimension:  (20087, 2)\n"
          ]
        },
        {
          "output_type": "execute_result",
          "data": {
            "text/plain": [
              "      id  distance\n",
              "0     15  0.000000\n",
              "1  10072  0.466347\n",
              "2   4495  0.510454\n",
              "3    678  0.548816\n",
              "4   3382  0.550746"
            ],
            "text/html": [
              "\n",
              "  <div id=\"df-12121be1-4c0c-4135-83bf-f885df7888cb\">\n",
              "    <div class=\"colab-df-container\">\n",
              "      <div>\n",
              "<style scoped>\n",
              "    .dataframe tbody tr th:only-of-type {\n",
              "        vertical-align: middle;\n",
              "    }\n",
              "\n",
              "    .dataframe tbody tr th {\n",
              "        vertical-align: top;\n",
              "    }\n",
              "\n",
              "    .dataframe thead th {\n",
              "        text-align: right;\n",
              "    }\n",
              "</style>\n",
              "<table border=\"1\" class=\"dataframe\">\n",
              "  <thead>\n",
              "    <tr style=\"text-align: right;\">\n",
              "      <th></th>\n",
              "      <th>id</th>\n",
              "      <th>distance</th>\n",
              "    </tr>\n",
              "  </thead>\n",
              "  <tbody>\n",
              "    <tr>\n",
              "      <th>0</th>\n",
              "      <td>15</td>\n",
              "      <td>0.000000</td>\n",
              "    </tr>\n",
              "    <tr>\n",
              "      <th>1</th>\n",
              "      <td>10072</td>\n",
              "      <td>0.466347</td>\n",
              "    </tr>\n",
              "    <tr>\n",
              "      <th>2</th>\n",
              "      <td>4495</td>\n",
              "      <td>0.510454</td>\n",
              "    </tr>\n",
              "    <tr>\n",
              "      <th>3</th>\n",
              "      <td>678</td>\n",
              "      <td>0.548816</td>\n",
              "    </tr>\n",
              "    <tr>\n",
              "      <th>4</th>\n",
              "      <td>3382</td>\n",
              "      <td>0.550746</td>\n",
              "    </tr>\n",
              "  </tbody>\n",
              "</table>\n",
              "</div>\n",
              "      <button class=\"colab-df-convert\" onclick=\"convertToInteractive('df-12121be1-4c0c-4135-83bf-f885df7888cb')\"\n",
              "              title=\"Convert this dataframe to an interactive table.\"\n",
              "              style=\"display:none;\">\n",
              "        \n",
              "  <svg xmlns=\"http://www.w3.org/2000/svg\" height=\"24px\"viewBox=\"0 0 24 24\"\n",
              "       width=\"24px\">\n",
              "    <path d=\"M0 0h24v24H0V0z\" fill=\"none\"/>\n",
              "    <path d=\"M18.56 5.44l.94 2.06.94-2.06 2.06-.94-2.06-.94-.94-2.06-.94 2.06-2.06.94zm-11 1L8.5 8.5l.94-2.06 2.06-.94-2.06-.94L8.5 2.5l-.94 2.06-2.06.94zm10 10l.94 2.06.94-2.06 2.06-.94-2.06-.94-.94-2.06-.94 2.06-2.06.94z\"/><path d=\"M17.41 7.96l-1.37-1.37c-.4-.4-.92-.59-1.43-.59-.52 0-1.04.2-1.43.59L10.3 9.45l-7.72 7.72c-.78.78-.78 2.05 0 2.83L4 21.41c.39.39.9.59 1.41.59.51 0 1.02-.2 1.41-.59l7.78-7.78 2.81-2.81c.8-.78.8-2.07 0-2.86zM5.41 20L4 18.59l7.72-7.72 1.47 1.35L5.41 20z\"/>\n",
              "  </svg>\n",
              "      </button>\n",
              "      \n",
              "  <style>\n",
              "    .colab-df-container {\n",
              "      display:flex;\n",
              "      flex-wrap:wrap;\n",
              "      gap: 12px;\n",
              "    }\n",
              "\n",
              "    .colab-df-convert {\n",
              "      background-color: #E8F0FE;\n",
              "      border: none;\n",
              "      border-radius: 50%;\n",
              "      cursor: pointer;\n",
              "      display: none;\n",
              "      fill: #1967D2;\n",
              "      height: 32px;\n",
              "      padding: 0 0 0 0;\n",
              "      width: 32px;\n",
              "    }\n",
              "\n",
              "    .colab-df-convert:hover {\n",
              "      background-color: #E2EBFA;\n",
              "      box-shadow: 0px 1px 2px rgba(60, 64, 67, 0.3), 0px 1px 3px 1px rgba(60, 64, 67, 0.15);\n",
              "      fill: #174EA6;\n",
              "    }\n",
              "\n",
              "    [theme=dark] .colab-df-convert {\n",
              "      background-color: #3B4455;\n",
              "      fill: #D2E3FC;\n",
              "    }\n",
              "\n",
              "    [theme=dark] .colab-df-convert:hover {\n",
              "      background-color: #434B5C;\n",
              "      box-shadow: 0px 1px 3px 1px rgba(0, 0, 0, 0.15);\n",
              "      filter: drop-shadow(0px 1px 2px rgba(0, 0, 0, 0.3));\n",
              "      fill: #FFFFFF;\n",
              "    }\n",
              "  </style>\n",
              "\n",
              "      <script>\n",
              "        const buttonEl =\n",
              "          document.querySelector('#df-12121be1-4c0c-4135-83bf-f885df7888cb button.colab-df-convert');\n",
              "        buttonEl.style.display =\n",
              "          google.colab.kernel.accessAllowed ? 'block' : 'none';\n",
              "\n",
              "        async function convertToInteractive(key) {\n",
              "          const element = document.querySelector('#df-12121be1-4c0c-4135-83bf-f885df7888cb');\n",
              "          const dataTable =\n",
              "            await google.colab.kernel.invokeFunction('convertToInteractive',\n",
              "                                                     [key], {});\n",
              "          if (!dataTable) return;\n",
              "\n",
              "          const docLinkHtml = 'Like what you see? Visit the ' +\n",
              "            '<a target=\"_blank\" href=https://colab.research.google.com/notebooks/data_table.ipynb>data table notebook</a>'\n",
              "            + ' to learn more about interactive tables.';\n",
              "          element.innerHTML = '';\n",
              "          dataTable['output_type'] = 'display_data';\n",
              "          await google.colab.output.renderOutput(dataTable, element);\n",
              "          const docLink = document.createElement('div');\n",
              "          docLink.innerHTML = docLinkHtml;\n",
              "          element.appendChild(docLink);\n",
              "        }\n",
              "      </script>\n",
              "    </div>\n",
              "  </div>\n",
              "  "
            ]
          },
          "metadata": {},
          "execution_count": 146
        }
      ]
    },
    {
      "cell_type": "code",
      "source": [
        "# we can perform a join with the original table to get the description\n",
        "# for sanity checking purpose\n",
        "nearest_neighbors.head().merge(df, on='id', how='inner')"
      ],
      "metadata": {
        "colab": {
          "base_uri": "https://localhost:8080/",
          "height": 206
        },
        "id": "0tmrMDmSoEGM",
        "outputId": "87234664-5998-49fe-8269-2a7fd6394dbd"
      },
      "execution_count": 147,
      "outputs": [
        {
          "output_type": "execute_result",
          "data": {
            "text/plain": [
              "      id  distance                                               text\n",
              "0     15  0.000000  is cleaning the house for her family who is co...\n",
              "1  10072  0.466347                                 Cleaning the house\n",
              "2   4495  0.510454   hot weather for the lose. And I have to clean...\n",
              "3    678  0.548816  Searching my home for a few things to cook the...\n",
              "4   3382  0.550746  cleaning cleaning cleaning today then working ..."
            ],
            "text/html": [
              "\n",
              "  <div id=\"df-c643d5eb-259d-4fd9-b0f0-bd2a5a37e552\">\n",
              "    <div class=\"colab-df-container\">\n",
              "      <div>\n",
              "<style scoped>\n",
              "    .dataframe tbody tr th:only-of-type {\n",
              "        vertical-align: middle;\n",
              "    }\n",
              "\n",
              "    .dataframe tbody tr th {\n",
              "        vertical-align: top;\n",
              "    }\n",
              "\n",
              "    .dataframe thead th {\n",
              "        text-align: right;\n",
              "    }\n",
              "</style>\n",
              "<table border=\"1\" class=\"dataframe\">\n",
              "  <thead>\n",
              "    <tr style=\"text-align: right;\">\n",
              "      <th></th>\n",
              "      <th>id</th>\n",
              "      <th>distance</th>\n",
              "      <th>text</th>\n",
              "    </tr>\n",
              "  </thead>\n",
              "  <tbody>\n",
              "    <tr>\n",
              "      <th>0</th>\n",
              "      <td>15</td>\n",
              "      <td>0.000000</td>\n",
              "      <td>is cleaning the house for her family who is co...</td>\n",
              "    </tr>\n",
              "    <tr>\n",
              "      <th>1</th>\n",
              "      <td>10072</td>\n",
              "      <td>0.466347</td>\n",
              "      <td>Cleaning the house</td>\n",
              "    </tr>\n",
              "    <tr>\n",
              "      <th>2</th>\n",
              "      <td>4495</td>\n",
              "      <td>0.510454</td>\n",
              "      <td>hot weather for the lose. And I have to clean...</td>\n",
              "    </tr>\n",
              "    <tr>\n",
              "      <th>3</th>\n",
              "      <td>678</td>\n",
              "      <td>0.548816</td>\n",
              "      <td>Searching my home for a few things to cook the...</td>\n",
              "    </tr>\n",
              "    <tr>\n",
              "      <th>4</th>\n",
              "      <td>3382</td>\n",
              "      <td>0.550746</td>\n",
              "      <td>cleaning cleaning cleaning today then working ...</td>\n",
              "    </tr>\n",
              "  </tbody>\n",
              "</table>\n",
              "</div>\n",
              "      <button class=\"colab-df-convert\" onclick=\"convertToInteractive('df-c643d5eb-259d-4fd9-b0f0-bd2a5a37e552')\"\n",
              "              title=\"Convert this dataframe to an interactive table.\"\n",
              "              style=\"display:none;\">\n",
              "        \n",
              "  <svg xmlns=\"http://www.w3.org/2000/svg\" height=\"24px\"viewBox=\"0 0 24 24\"\n",
              "       width=\"24px\">\n",
              "    <path d=\"M0 0h24v24H0V0z\" fill=\"none\"/>\n",
              "    <path d=\"M18.56 5.44l.94 2.06.94-2.06 2.06-.94-2.06-.94-.94-2.06-.94 2.06-2.06.94zm-11 1L8.5 8.5l.94-2.06 2.06-.94-2.06-.94L8.5 2.5l-.94 2.06-2.06.94zm10 10l.94 2.06.94-2.06 2.06-.94-2.06-.94-.94-2.06-.94 2.06-2.06.94z\"/><path d=\"M17.41 7.96l-1.37-1.37c-.4-.4-.92-.59-1.43-.59-.52 0-1.04.2-1.43.59L10.3 9.45l-7.72 7.72c-.78.78-.78 2.05 0 2.83L4 21.41c.39.39.9.59 1.41.59.51 0 1.02-.2 1.41-.59l7.78-7.78 2.81-2.81c.8-.78.8-2.07 0-2.86zM5.41 20L4 18.59l7.72-7.72 1.47 1.35L5.41 20z\"/>\n",
              "  </svg>\n",
              "      </button>\n",
              "      \n",
              "  <style>\n",
              "    .colab-df-container {\n",
              "      display:flex;\n",
              "      flex-wrap:wrap;\n",
              "      gap: 12px;\n",
              "    }\n",
              "\n",
              "    .colab-df-convert {\n",
              "      background-color: #E8F0FE;\n",
              "      border: none;\n",
              "      border-radius: 50%;\n",
              "      cursor: pointer;\n",
              "      display: none;\n",
              "      fill: #1967D2;\n",
              "      height: 32px;\n",
              "      padding: 0 0 0 0;\n",
              "      width: 32px;\n",
              "    }\n",
              "\n",
              "    .colab-df-convert:hover {\n",
              "      background-color: #E2EBFA;\n",
              "      box-shadow: 0px 1px 2px rgba(60, 64, 67, 0.3), 0px 1px 3px 1px rgba(60, 64, 67, 0.15);\n",
              "      fill: #174EA6;\n",
              "    }\n",
              "\n",
              "    [theme=dark] .colab-df-convert {\n",
              "      background-color: #3B4455;\n",
              "      fill: #D2E3FC;\n",
              "    }\n",
              "\n",
              "    [theme=dark] .colab-df-convert:hover {\n",
              "      background-color: #434B5C;\n",
              "      box-shadow: 0px 1px 3px 1px rgba(0, 0, 0, 0.15);\n",
              "      filter: drop-shadow(0px 1px 2px rgba(0, 0, 0, 0.3));\n",
              "      fill: #FFFFFF;\n",
              "    }\n",
              "  </style>\n",
              "\n",
              "      <script>\n",
              "        const buttonEl =\n",
              "          document.querySelector('#df-c643d5eb-259d-4fd9-b0f0-bd2a5a37e552 button.colab-df-convert');\n",
              "        buttonEl.style.display =\n",
              "          google.colab.kernel.accessAllowed ? 'block' : 'none';\n",
              "\n",
              "        async function convertToInteractive(key) {\n",
              "          const element = document.querySelector('#df-c643d5eb-259d-4fd9-b0f0-bd2a5a37e552');\n",
              "          const dataTable =\n",
              "            await google.colab.kernel.invokeFunction('convertToInteractive',\n",
              "                                                     [key], {});\n",
              "          if (!dataTable) return;\n",
              "\n",
              "          const docLinkHtml = 'Like what you see? Visit the ' +\n",
              "            '<a target=\"_blank\" href=https://colab.research.google.com/notebooks/data_table.ipynb>data table notebook</a>'\n",
              "            + ' to learn more about interactive tables.';\n",
              "          element.innerHTML = '';\n",
              "          dataTable['output_type'] = 'display_data';\n",
              "          await google.colab.output.renderOutput(dataTable, element);\n",
              "          const docLink = document.createElement('div');\n",
              "          docLink.innerHTML = docLinkHtml;\n",
              "          element.appendChild(docLink);\n",
              "        }\n",
              "      </script>\n",
              "    </div>\n",
              "  </div>\n",
              "  "
            ]
          },
          "metadata": {},
          "execution_count": 147
        }
      ]
    },
    {
      "cell_type": "markdown",
      "source": [],
      "metadata": {
        "id": "_vnLvrZvqXJ1"
      }
    }
  ]
}